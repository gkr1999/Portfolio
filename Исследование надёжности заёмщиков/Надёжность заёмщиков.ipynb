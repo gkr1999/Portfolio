{
 "cells": [
  {
   "cell_type": "markdown",
   "id": "a7e6f944",
   "metadata": {},
   "source": [
    "<div style=\"border:solid Black 3px; padding: 40px\">\n",
    "    \n",
    "# Исследование надежности заемщиков\n",
    "\n",
    "Заказчик — кредитный отдел банка. Нужно разобраться, влияет ли семейное положение и количество детей клиента на факт погашения кредита в срок. Входные данные от банка — статистика о платёжеспособности клиентов.\n",
    "    \n",
    "Результаты исследования будут учтены при построении модели кредитного скоринга — специальной системы, которая оценивает способность потенциального заёмщика вернуть кредит банку. \n",
    "    \n",
    "План:\n",
    "- Загрузка данных;\n",
    "- Предобработка данных (обработка пропусков, дубликатов, поиск аномальных значений, приведение типов данных, категоризация данных);\n",
    "- Исследование данных (поиск факторов, от которых может зависеть возврат кредита в срок);\n",
    "- Вывод."
   ]
  },
  {
   "cell_type": "markdown",
   "id": "0f89ed93",
   "metadata": {
    "id": "744d7639"
   },
   "source": [
    "## Импорт библиотек и знакомство с данными"
   ]
  },
  {
   "cell_type": "code",
   "execution_count": 64,
   "id": "c12b3c92",
   "metadata": {
    "deletable": false,
    "id": "7bcf75c9"
   },
   "outputs": [],
   "source": [
    "import pandas as pd\n",
    "\n",
    "try:\n",
    "    data = pd.read_csv('/datasets/data.csv')\n",
    "except:\n",
    "    data = pd.read_csv('https://code.s3.yandex.net/datasets/data.csv')"
   ]
  },
  {
   "cell_type": "code",
   "execution_count": 65,
   "id": "2b70af25",
   "metadata": {
    "deletable": false,
    "id": "2a7cab99",
    "outputId": "1a8f3ef2-d323-4ec2-ddf7-89670b5944c4"
   },
   "outputs": [
    {
     "data": {
      "text/html": [
       "<div>\n",
       "<style scoped>\n",
       "    .dataframe tbody tr th:only-of-type {\n",
       "        vertical-align: middle;\n",
       "    }\n",
       "\n",
       "    .dataframe tbody tr th {\n",
       "        vertical-align: top;\n",
       "    }\n",
       "\n",
       "    .dataframe thead th {\n",
       "        text-align: right;\n",
       "    }\n",
       "</style>\n",
       "<table border=\"1\" class=\"dataframe\">\n",
       "  <thead>\n",
       "    <tr style=\"text-align: right;\">\n",
       "      <th></th>\n",
       "      <th>children</th>\n",
       "      <th>days_employed</th>\n",
       "      <th>dob_years</th>\n",
       "      <th>education</th>\n",
       "      <th>education_id</th>\n",
       "      <th>family_status</th>\n",
       "      <th>family_status_id</th>\n",
       "      <th>gender</th>\n",
       "      <th>income_type</th>\n",
       "      <th>debt</th>\n",
       "      <th>total_income</th>\n",
       "      <th>purpose</th>\n",
       "    </tr>\n",
       "  </thead>\n",
       "  <tbody>\n",
       "    <tr>\n",
       "      <th>0</th>\n",
       "      <td>1</td>\n",
       "      <td>-8437.673028</td>\n",
       "      <td>42</td>\n",
       "      <td>высшее</td>\n",
       "      <td>0</td>\n",
       "      <td>женат / замужем</td>\n",
       "      <td>0</td>\n",
       "      <td>F</td>\n",
       "      <td>сотрудник</td>\n",
       "      <td>0</td>\n",
       "      <td>253875.639453</td>\n",
       "      <td>покупка жилья</td>\n",
       "    </tr>\n",
       "    <tr>\n",
       "      <th>1</th>\n",
       "      <td>1</td>\n",
       "      <td>-4024.803754</td>\n",
       "      <td>36</td>\n",
       "      <td>среднее</td>\n",
       "      <td>1</td>\n",
       "      <td>женат / замужем</td>\n",
       "      <td>0</td>\n",
       "      <td>F</td>\n",
       "      <td>сотрудник</td>\n",
       "      <td>0</td>\n",
       "      <td>112080.014102</td>\n",
       "      <td>приобретение автомобиля</td>\n",
       "    </tr>\n",
       "    <tr>\n",
       "      <th>2</th>\n",
       "      <td>0</td>\n",
       "      <td>-5623.422610</td>\n",
       "      <td>33</td>\n",
       "      <td>Среднее</td>\n",
       "      <td>1</td>\n",
       "      <td>женат / замужем</td>\n",
       "      <td>0</td>\n",
       "      <td>M</td>\n",
       "      <td>сотрудник</td>\n",
       "      <td>0</td>\n",
       "      <td>145885.952297</td>\n",
       "      <td>покупка жилья</td>\n",
       "    </tr>\n",
       "    <tr>\n",
       "      <th>3</th>\n",
       "      <td>3</td>\n",
       "      <td>-4124.747207</td>\n",
       "      <td>32</td>\n",
       "      <td>среднее</td>\n",
       "      <td>1</td>\n",
       "      <td>женат / замужем</td>\n",
       "      <td>0</td>\n",
       "      <td>M</td>\n",
       "      <td>сотрудник</td>\n",
       "      <td>0</td>\n",
       "      <td>267628.550329</td>\n",
       "      <td>дополнительное образование</td>\n",
       "    </tr>\n",
       "    <tr>\n",
       "      <th>4</th>\n",
       "      <td>0</td>\n",
       "      <td>340266.072047</td>\n",
       "      <td>53</td>\n",
       "      <td>среднее</td>\n",
       "      <td>1</td>\n",
       "      <td>гражданский брак</td>\n",
       "      <td>1</td>\n",
       "      <td>F</td>\n",
       "      <td>пенсионер</td>\n",
       "      <td>0</td>\n",
       "      <td>158616.077870</td>\n",
       "      <td>сыграть свадьбу</td>\n",
       "    </tr>\n",
       "    <tr>\n",
       "      <th>5</th>\n",
       "      <td>0</td>\n",
       "      <td>-926.185831</td>\n",
       "      <td>27</td>\n",
       "      <td>высшее</td>\n",
       "      <td>0</td>\n",
       "      <td>гражданский брак</td>\n",
       "      <td>1</td>\n",
       "      <td>M</td>\n",
       "      <td>компаньон</td>\n",
       "      <td>0</td>\n",
       "      <td>255763.565419</td>\n",
       "      <td>покупка жилья</td>\n",
       "    </tr>\n",
       "    <tr>\n",
       "      <th>6</th>\n",
       "      <td>0</td>\n",
       "      <td>-2879.202052</td>\n",
       "      <td>43</td>\n",
       "      <td>высшее</td>\n",
       "      <td>0</td>\n",
       "      <td>женат / замужем</td>\n",
       "      <td>0</td>\n",
       "      <td>F</td>\n",
       "      <td>компаньон</td>\n",
       "      <td>0</td>\n",
       "      <td>240525.971920</td>\n",
       "      <td>операции с жильем</td>\n",
       "    </tr>\n",
       "    <tr>\n",
       "      <th>7</th>\n",
       "      <td>0</td>\n",
       "      <td>-152.779569</td>\n",
       "      <td>50</td>\n",
       "      <td>СРЕДНЕЕ</td>\n",
       "      <td>1</td>\n",
       "      <td>женат / замужем</td>\n",
       "      <td>0</td>\n",
       "      <td>M</td>\n",
       "      <td>сотрудник</td>\n",
       "      <td>0</td>\n",
       "      <td>135823.934197</td>\n",
       "      <td>образование</td>\n",
       "    </tr>\n",
       "    <tr>\n",
       "      <th>8</th>\n",
       "      <td>2</td>\n",
       "      <td>-6929.865299</td>\n",
       "      <td>35</td>\n",
       "      <td>ВЫСШЕЕ</td>\n",
       "      <td>0</td>\n",
       "      <td>гражданский брак</td>\n",
       "      <td>1</td>\n",
       "      <td>F</td>\n",
       "      <td>сотрудник</td>\n",
       "      <td>0</td>\n",
       "      <td>95856.832424</td>\n",
       "      <td>на проведение свадьбы</td>\n",
       "    </tr>\n",
       "    <tr>\n",
       "      <th>9</th>\n",
       "      <td>0</td>\n",
       "      <td>-2188.756445</td>\n",
       "      <td>41</td>\n",
       "      <td>среднее</td>\n",
       "      <td>1</td>\n",
       "      <td>женат / замужем</td>\n",
       "      <td>0</td>\n",
       "      <td>M</td>\n",
       "      <td>сотрудник</td>\n",
       "      <td>0</td>\n",
       "      <td>144425.938277</td>\n",
       "      <td>покупка жилья для семьи</td>\n",
       "    </tr>\n",
       "    <tr>\n",
       "      <th>10</th>\n",
       "      <td>2</td>\n",
       "      <td>-4171.483647</td>\n",
       "      <td>36</td>\n",
       "      <td>высшее</td>\n",
       "      <td>0</td>\n",
       "      <td>женат / замужем</td>\n",
       "      <td>0</td>\n",
       "      <td>M</td>\n",
       "      <td>компаньон</td>\n",
       "      <td>0</td>\n",
       "      <td>113943.491460</td>\n",
       "      <td>покупка недвижимости</td>\n",
       "    </tr>\n",
       "    <tr>\n",
       "      <th>11</th>\n",
       "      <td>0</td>\n",
       "      <td>-792.701887</td>\n",
       "      <td>40</td>\n",
       "      <td>среднее</td>\n",
       "      <td>1</td>\n",
       "      <td>женат / замужем</td>\n",
       "      <td>0</td>\n",
       "      <td>F</td>\n",
       "      <td>сотрудник</td>\n",
       "      <td>0</td>\n",
       "      <td>77069.234271</td>\n",
       "      <td>покупка коммерческой недвижимости</td>\n",
       "    </tr>\n",
       "    <tr>\n",
       "      <th>12</th>\n",
       "      <td>0</td>\n",
       "      <td>NaN</td>\n",
       "      <td>65</td>\n",
       "      <td>среднее</td>\n",
       "      <td>1</td>\n",
       "      <td>гражданский брак</td>\n",
       "      <td>1</td>\n",
       "      <td>M</td>\n",
       "      <td>пенсионер</td>\n",
       "      <td>0</td>\n",
       "      <td>NaN</td>\n",
       "      <td>сыграть свадьбу</td>\n",
       "    </tr>\n",
       "    <tr>\n",
       "      <th>13</th>\n",
       "      <td>0</td>\n",
       "      <td>-1846.641941</td>\n",
       "      <td>54</td>\n",
       "      <td>неоконченное высшее</td>\n",
       "      <td>2</td>\n",
       "      <td>женат / замужем</td>\n",
       "      <td>0</td>\n",
       "      <td>F</td>\n",
       "      <td>сотрудник</td>\n",
       "      <td>0</td>\n",
       "      <td>130458.228857</td>\n",
       "      <td>приобретение автомобиля</td>\n",
       "    </tr>\n",
       "    <tr>\n",
       "      <th>14</th>\n",
       "      <td>0</td>\n",
       "      <td>-1844.956182</td>\n",
       "      <td>56</td>\n",
       "      <td>высшее</td>\n",
       "      <td>0</td>\n",
       "      <td>гражданский брак</td>\n",
       "      <td>1</td>\n",
       "      <td>F</td>\n",
       "      <td>компаньон</td>\n",
       "      <td>1</td>\n",
       "      <td>165127.911772</td>\n",
       "      <td>покупка жилой недвижимости</td>\n",
       "    </tr>\n",
       "    <tr>\n",
       "      <th>15</th>\n",
       "      <td>1</td>\n",
       "      <td>-972.364419</td>\n",
       "      <td>26</td>\n",
       "      <td>среднее</td>\n",
       "      <td>1</td>\n",
       "      <td>женат / замужем</td>\n",
       "      <td>0</td>\n",
       "      <td>F</td>\n",
       "      <td>сотрудник</td>\n",
       "      <td>0</td>\n",
       "      <td>116820.904450</td>\n",
       "      <td>строительство собственной недвижимости</td>\n",
       "    </tr>\n",
       "    <tr>\n",
       "      <th>16</th>\n",
       "      <td>0</td>\n",
       "      <td>-1719.934226</td>\n",
       "      <td>35</td>\n",
       "      <td>среднее</td>\n",
       "      <td>1</td>\n",
       "      <td>женат / замужем</td>\n",
       "      <td>0</td>\n",
       "      <td>F</td>\n",
       "      <td>сотрудник</td>\n",
       "      <td>0</td>\n",
       "      <td>289202.704229</td>\n",
       "      <td>недвижимость</td>\n",
       "    </tr>\n",
       "    <tr>\n",
       "      <th>17</th>\n",
       "      <td>0</td>\n",
       "      <td>-2369.999720</td>\n",
       "      <td>33</td>\n",
       "      <td>высшее</td>\n",
       "      <td>0</td>\n",
       "      <td>гражданский брак</td>\n",
       "      <td>1</td>\n",
       "      <td>M</td>\n",
       "      <td>сотрудник</td>\n",
       "      <td>0</td>\n",
       "      <td>90410.586745</td>\n",
       "      <td>строительство недвижимости</td>\n",
       "    </tr>\n",
       "    <tr>\n",
       "      <th>18</th>\n",
       "      <td>0</td>\n",
       "      <td>400281.136913</td>\n",
       "      <td>53</td>\n",
       "      <td>среднее</td>\n",
       "      <td>1</td>\n",
       "      <td>вдовец / вдова</td>\n",
       "      <td>2</td>\n",
       "      <td>F</td>\n",
       "      <td>пенсионер</td>\n",
       "      <td>0</td>\n",
       "      <td>56823.777243</td>\n",
       "      <td>на покупку подержанного автомобиля</td>\n",
       "    </tr>\n",
       "    <tr>\n",
       "      <th>19</th>\n",
       "      <td>0</td>\n",
       "      <td>-10038.818549</td>\n",
       "      <td>48</td>\n",
       "      <td>СРЕДНЕЕ</td>\n",
       "      <td>1</td>\n",
       "      <td>в разводе</td>\n",
       "      <td>3</td>\n",
       "      <td>F</td>\n",
       "      <td>сотрудник</td>\n",
       "      <td>0</td>\n",
       "      <td>242831.107982</td>\n",
       "      <td>на покупку своего автомобиля</td>\n",
       "    </tr>\n",
       "  </tbody>\n",
       "</table>\n",
       "</div>"
      ],
      "text/plain": [
       "    children  days_employed  dob_years            education  education_id  \\\n",
       "0          1   -8437.673028         42               высшее             0   \n",
       "1          1   -4024.803754         36              среднее             1   \n",
       "2          0   -5623.422610         33              Среднее             1   \n",
       "3          3   -4124.747207         32              среднее             1   \n",
       "4          0  340266.072047         53              среднее             1   \n",
       "5          0    -926.185831         27               высшее             0   \n",
       "6          0   -2879.202052         43               высшее             0   \n",
       "7          0    -152.779569         50              СРЕДНЕЕ             1   \n",
       "8          2   -6929.865299         35               ВЫСШЕЕ             0   \n",
       "9          0   -2188.756445         41              среднее             1   \n",
       "10         2   -4171.483647         36               высшее             0   \n",
       "11         0    -792.701887         40              среднее             1   \n",
       "12         0            NaN         65              среднее             1   \n",
       "13         0   -1846.641941         54  неоконченное высшее             2   \n",
       "14         0   -1844.956182         56               высшее             0   \n",
       "15         1    -972.364419         26              среднее             1   \n",
       "16         0   -1719.934226         35              среднее             1   \n",
       "17         0   -2369.999720         33               высшее             0   \n",
       "18         0  400281.136913         53              среднее             1   \n",
       "19         0  -10038.818549         48              СРЕДНЕЕ             1   \n",
       "\n",
       "       family_status  family_status_id gender income_type  debt  \\\n",
       "0    женат / замужем                 0      F   сотрудник     0   \n",
       "1    женат / замужем                 0      F   сотрудник     0   \n",
       "2    женат / замужем                 0      M   сотрудник     0   \n",
       "3    женат / замужем                 0      M   сотрудник     0   \n",
       "4   гражданский брак                 1      F   пенсионер     0   \n",
       "5   гражданский брак                 1      M   компаньон     0   \n",
       "6    женат / замужем                 0      F   компаньон     0   \n",
       "7    женат / замужем                 0      M   сотрудник     0   \n",
       "8   гражданский брак                 1      F   сотрудник     0   \n",
       "9    женат / замужем                 0      M   сотрудник     0   \n",
       "10   женат / замужем                 0      M   компаньон     0   \n",
       "11   женат / замужем                 0      F   сотрудник     0   \n",
       "12  гражданский брак                 1      M   пенсионер     0   \n",
       "13   женат / замужем                 0      F   сотрудник     0   \n",
       "14  гражданский брак                 1      F   компаньон     1   \n",
       "15   женат / замужем                 0      F   сотрудник     0   \n",
       "16   женат / замужем                 0      F   сотрудник     0   \n",
       "17  гражданский брак                 1      M   сотрудник     0   \n",
       "18    вдовец / вдова                 2      F   пенсионер     0   \n",
       "19         в разводе                 3      F   сотрудник     0   \n",
       "\n",
       "     total_income                                 purpose  \n",
       "0   253875.639453                           покупка жилья  \n",
       "1   112080.014102                 приобретение автомобиля  \n",
       "2   145885.952297                           покупка жилья  \n",
       "3   267628.550329              дополнительное образование  \n",
       "4   158616.077870                         сыграть свадьбу  \n",
       "5   255763.565419                           покупка жилья  \n",
       "6   240525.971920                       операции с жильем  \n",
       "7   135823.934197                             образование  \n",
       "8    95856.832424                   на проведение свадьбы  \n",
       "9   144425.938277                 покупка жилья для семьи  \n",
       "10  113943.491460                    покупка недвижимости  \n",
       "11   77069.234271       покупка коммерческой недвижимости  \n",
       "12            NaN                         сыграть свадьбу  \n",
       "13  130458.228857                 приобретение автомобиля  \n",
       "14  165127.911772              покупка жилой недвижимости  \n",
       "15  116820.904450  строительство собственной недвижимости  \n",
       "16  289202.704229                            недвижимость  \n",
       "17   90410.586745              строительство недвижимости  \n",
       "18   56823.777243      на покупку подержанного автомобиля  \n",
       "19  242831.107982            на покупку своего автомобиля  "
      ]
     },
     "execution_count": 65,
     "metadata": {},
     "output_type": "execute_result"
    }
   ],
   "source": [
    "data.head(20)"
   ]
  },
  {
   "cell_type": "code",
   "execution_count": 66,
   "id": "6ed0538c",
   "metadata": {
    "deletable": false,
    "id": "2b757bca",
    "outputId": "15376089-8dad-46c9-b520-c05248d43158",
    "scrolled": false
   },
   "outputs": [
    {
     "name": "stdout",
     "output_type": "stream",
     "text": [
      "<class 'pandas.core.frame.DataFrame'>\n",
      "RangeIndex: 21525 entries, 0 to 21524\n",
      "Data columns (total 12 columns):\n",
      " #   Column            Non-Null Count  Dtype  \n",
      "---  ------            --------------  -----  \n",
      " 0   children          21525 non-null  int64  \n",
      " 1   days_employed     19351 non-null  float64\n",
      " 2   dob_years         21525 non-null  int64  \n",
      " 3   education         21525 non-null  object \n",
      " 4   education_id      21525 non-null  int64  \n",
      " 5   family_status     21525 non-null  object \n",
      " 6   family_status_id  21525 non-null  int64  \n",
      " 7   gender            21525 non-null  object \n",
      " 8   income_type       21525 non-null  object \n",
      " 9   debt              21525 non-null  int64  \n",
      " 10  total_income      19351 non-null  float64\n",
      " 11  purpose           21525 non-null  object \n",
      "dtypes: float64(2), int64(5), object(5)\n",
      "memory usage: 2.0+ MB\n"
     ]
    }
   ],
   "source": [
    "data.info()"
   ]
  },
  {
   "cell_type": "markdown",
   "id": "59ed26c0",
   "metadata": {},
   "source": [
    "Имеются данные о 21525 заёмщиках, в двух столбцах есть пропуски"
   ]
  },
  {
   "cell_type": "markdown",
   "id": "936662d9",
   "metadata": {
    "deletable": false,
    "editable": false,
    "id": "333ec665"
   },
   "source": [
    "## Предобработка данных"
   ]
  },
  {
   "cell_type": "markdown",
   "id": "d98aa6b8",
   "metadata": {
    "deletable": false,
    "editable": false,
    "id": "02d92d53"
   },
   "source": [
    "### Удаление пропусков"
   ]
  },
  {
   "cell_type": "code",
   "execution_count": 67,
   "id": "5016d47f",
   "metadata": {
    "deletable": false,
    "id": "7f9b2309",
    "outputId": "81f4d817-781c-465c-ed15-91ce4446810d"
   },
   "outputs": [
    {
     "data": {
      "text/plain": [
       "children               0\n",
       "days_employed       2174\n",
       "dob_years              0\n",
       "education              0\n",
       "education_id           0\n",
       "family_status          0\n",
       "family_status_id       0\n",
       "gender                 0\n",
       "income_type            0\n",
       "debt                   0\n",
       "total_income        2174\n",
       "purpose                0\n",
       "dtype: int64"
      ]
     },
     "execution_count": 67,
     "metadata": {},
     "output_type": "execute_result"
    }
   ],
   "source": [
    "data.isna().sum()"
   ]
  },
  {
   "cell_type": "markdown",
   "id": "eabba079",
   "metadata": {
    "id": "db86e27b"
   },
   "source": [
    "В двух столбцах есть пропущенные значения. В `days_employed` и `total_income`. `total_income` — хранит данные о доходах. На сумму дохода сильнее всего влияет тип занятости, поэтому заполнить пропуски в этом столбце нужно медианным значением по каждому типу из столбца `income_type`. Например, у человека с типом занятости `сотрудник` пропуск в столбце `total_income` должен быть заполнен медианным доходом среди всех записей с тем же типом"
   ]
  },
  {
   "cell_type": "code",
   "execution_count": 68,
   "id": "4d40cce4",
   "metadata": {
    "deletable": false,
    "id": "42006a93"
   },
   "outputs": [],
   "source": [
    "for t in data['income_type'].unique():\n",
    "    data.loc[(data['income_type'] == t) & (data['total_income'].isna()), 'total_income'] = \\\n",
    "    data.loc[(data['income_type'] == t), 'total_income'].median()"
   ]
  },
  {
   "cell_type": "markdown",
   "id": "115d348b",
   "metadata": {
    "deletable": false,
    "editable": false,
    "id": "89da5ece"
   },
   "source": [
    "### Обработка аномальных значений"
   ]
  },
  {
   "cell_type": "markdown",
   "id": "d016ccae",
   "metadata": {
    "id": "57964554"
   },
   "source": [
    "В данных могут встречаться артефакты (аномалии) — значения, которые не отражают действительность и появились по какой-то ошибке. таким артефактом будет отрицательное количество дней трудового стажа в столбце `days_employed`.  Обработаем значения в этом столбце: заменим все отрицательные значения положительными с помощью метода `abs()`"
   ]
  },
  {
   "cell_type": "code",
   "execution_count": 69,
   "id": "10baf416",
   "metadata": {
    "deletable": false,
    "id": "f6f055bf"
   },
   "outputs": [],
   "source": [
    "data['days_employed'] = data['days_employed'].abs()"
   ]
  },
  {
   "cell_type": "markdown",
   "id": "07328b6b",
   "metadata": {
    "id": "6107dd2f"
   },
   "source": [
    "Для каждого типа занятости посмотрим медианное значение трудового стажа `days_employed` в днях"
   ]
  },
  {
   "cell_type": "code",
   "execution_count": 70,
   "id": "a1e78515",
   "metadata": {
    "deletable": false,
    "id": "85a5faf6",
    "outputId": "801ef80e-522b-4668-f34e-565af7432bcf"
   },
   "outputs": [
    {
     "data": {
      "text/plain": [
       "income_type\n",
       "безработный        366413.652744\n",
       "в декрете            3296.759962\n",
       "госслужащий          2689.368353\n",
       "компаньон            1547.382223\n",
       "пенсионер          365213.306266\n",
       "предприниматель       520.848083\n",
       "сотрудник            1574.202821\n",
       "студент               578.751554\n",
       "Name: days_employed, dtype: float64"
      ]
     },
     "execution_count": 70,
     "metadata": {},
     "output_type": "execute_result"
    }
   ],
   "source": [
    "data.groupby('income_type')['days_employed'].agg('median')"
   ]
  },
  {
   "cell_type": "markdown",
   "id": "90db2ef6",
   "metadata": {
    "id": "38d1a030"
   },
   "source": [
    "У двух типов (безработные и пенсионеры) получатся аномально большие значения. Оставим их как есть. Тем более этот столбец не понадобится для исследования."
   ]
  },
  {
   "cell_type": "markdown",
   "id": "235e4abc",
   "metadata": {
    "id": "d8a9f147"
   },
   "source": [
    "Получим перечень уникальных значений столбца `children`"
   ]
  },
  {
   "cell_type": "code",
   "execution_count": 71,
   "id": "1477f51d",
   "metadata": {
    "deletable": false,
    "id": "ef5056eb",
    "outputId": "6975b15c-7f95-4697-d16d-a0c79b657b03"
   },
   "outputs": [
    {
     "data": {
      "text/plain": [
       "array([ 1,  0,  3,  2, -1,  4, 20,  5])"
      ]
     },
     "execution_count": 71,
     "metadata": {},
     "output_type": "execute_result"
    }
   ],
   "source": [
    "data['children'].unique()"
   ]
  },
  {
   "cell_type": "markdown",
   "id": "e36b6835",
   "metadata": {
    "id": "40b9ebf2"
   },
   "source": [
    " В столбце `children` есть два аномальных значения. Удалим строки, в которых встречаются такие аномальные значения из датафрейма `data`"
   ]
  },
  {
   "cell_type": "code",
   "execution_count": 72,
   "id": "97b18b51",
   "metadata": {
    "deletable": false,
    "id": "3ff9801d"
   },
   "outputs": [],
   "source": [
    "data = data[(data['children'] != -1) & (data['children'] != 20)]"
   ]
  },
  {
   "cell_type": "markdown",
   "id": "7e244ac7",
   "metadata": {
    "id": "bbc4d0ce"
   },
   "source": [
    "Убедимся, что артефакты удалены"
   ]
  },
  {
   "cell_type": "code",
   "execution_count": 73,
   "id": "b66f550c",
   "metadata": {
    "deletable": false,
    "id": "ad4fa8b7",
    "outputId": "b2097101-d49d-44d9-901b-32a65c9463d1"
   },
   "outputs": [
    {
     "data": {
      "text/plain": [
       "array([1, 0, 3, 2, 4, 5])"
      ]
     },
     "execution_count": 73,
     "metadata": {},
     "output_type": "execute_result"
    }
   ],
   "source": [
    "data['children'].unique()"
   ]
  },
  {
   "cell_type": "markdown",
   "id": "922d9626",
   "metadata": {
    "deletable": false,
    "editable": false,
    "id": "75440b63"
   },
   "source": [
    "### Удаление пропусков (продолжение)"
   ]
  },
  {
   "cell_type": "markdown",
   "id": "6a93b214",
   "metadata": {
    "id": "f4ea573f"
   },
   "source": [
    "Заполним пропуски в столбце `days_employed` медианными значениями по каждого типа занятости `income_type`"
   ]
  },
  {
   "cell_type": "code",
   "execution_count": 74,
   "id": "6f04bf2c",
   "metadata": {
    "deletable": false,
    "id": "af6b1a7e"
   },
   "outputs": [],
   "source": [
    "for t in data['income_type'].unique():\n",
    "    data.loc[(data['income_type'] == t) & (data['days_employed'].isna()), 'days_employed'] = \\\n",
    "    data.loc[(data['income_type'] == t), 'days_employed'].median()"
   ]
  },
  {
   "cell_type": "markdown",
   "id": "698186ba",
   "metadata": {
    "id": "2753f40d"
   },
   "source": [
    "Убедимся, что все пропуски заполнены."
   ]
  },
  {
   "cell_type": "code",
   "execution_count": 75,
   "id": "ff743e64",
   "metadata": {
    "deletable": false,
    "id": "55f78bc2",
    "outputId": "8da1e4e1-358e-4e87-98c9-f261bce0a7b2"
   },
   "outputs": [
    {
     "data": {
      "text/plain": [
       "children            0\n",
       "days_employed       0\n",
       "dob_years           0\n",
       "education           0\n",
       "education_id        0\n",
       "family_status       0\n",
       "family_status_id    0\n",
       "gender              0\n",
       "income_type         0\n",
       "debt                0\n",
       "total_income        0\n",
       "purpose             0\n",
       "dtype: int64"
      ]
     },
     "execution_count": 75,
     "metadata": {},
     "output_type": "execute_result"
    }
   ],
   "source": [
    "data.isna().sum()"
   ]
  },
  {
   "cell_type": "markdown",
   "id": "4106eaad",
   "metadata": {
    "deletable": false,
    "editable": false,
    "id": "ddc81e43"
   },
   "source": [
    "### Изменение типов данных"
   ]
  },
  {
   "cell_type": "markdown",
   "id": "d3f09ebb",
   "metadata": {
    "id": "42d19d24"
   },
   "source": [
    "Заменим вещественный тип данных в столбце `total_income` на целочисленный с помощью метода `astype()`"
   ]
  },
  {
   "cell_type": "code",
   "execution_count": 76,
   "id": "125426ba",
   "metadata": {
    "deletable": false,
    "id": "920b65ad"
   },
   "outputs": [],
   "source": [
    "data['total_income'] = data['total_income'].astype(int)"
   ]
  },
  {
   "cell_type": "markdown",
   "id": "c809f658",
   "metadata": {
    "deletable": false,
    "editable": false,
    "id": "80c420ba"
   },
   "source": [
    "### Обработка дубликатов"
   ]
  },
  {
   "cell_type": "markdown",
   "id": "ac71d217",
   "metadata": {},
   "source": [
    "Обработаем неявные дубликаты в столбце `education`. В этом столбце есть одни и те же значения, но записанные по-разному: с использованием заглавных и строчных букв. Приведём их к нижнему регистру."
   ]
  },
  {
   "cell_type": "code",
   "execution_count": 77,
   "id": "37fd1baf",
   "metadata": {
    "deletable": false
   },
   "outputs": [],
   "source": [
    "data['education'] = data['education'].str.lower()"
   ]
  },
  {
   "cell_type": "markdown",
   "id": "3992cd95",
   "metadata": {
    "id": "dc587695"
   },
   "source": [
    "Выведем на экран количество строк-дубликатов в данных. Если такие строки присутствуют, удалим их"
   ]
  },
  {
   "cell_type": "code",
   "execution_count": 78,
   "id": "21b4440f",
   "metadata": {
    "deletable": false,
    "id": "3ee445e4",
    "outputId": "9684deba-1934-42d1-99e1-cda61740f822"
   },
   "outputs": [
    {
     "data": {
      "text/plain": [
       "71"
      ]
     },
     "execution_count": 78,
     "metadata": {},
     "output_type": "execute_result"
    }
   ],
   "source": [
    "data.duplicated().sum()"
   ]
  },
  {
   "cell_type": "code",
   "execution_count": 79,
   "id": "d8ad5812",
   "metadata": {
    "deletable": false,
    "id": "8575fe05"
   },
   "outputs": [],
   "source": [
    "data = data.drop_duplicates()"
   ]
  },
  {
   "cell_type": "markdown",
   "id": "30150f70",
   "metadata": {
    "deletable": false,
    "editable": false,
    "id": "9904cf55"
   },
   "source": [
    "### Категоризация данных"
   ]
  },
  {
   "cell_type": "markdown",
   "id": "09a6d8ee",
   "metadata": {
    "id": "72fcc8a2"
   },
   "source": [
    " Разделим заёмщиков по категориям, основываясь на `total_income`, согласно следующим критериям:\n",
    "\n",
    "- 0–30000 — `'E'`;\n",
    "- 30001–50000 — `'D'`;\n",
    "- 50001–200000 — `'C'`;\n",
    "- 200001–1000000 — `'B'`;\n",
    "- 1000001 и выше — `'A'`.\n",
    "\n"
   ]
  },
  {
   "cell_type": "code",
   "execution_count": 80,
   "id": "2edd1483",
   "metadata": {
    "deletable": false,
    "id": "e1771346"
   },
   "outputs": [],
   "source": [
    "def categorize_income(income):\n",
    "    try:\n",
    "        if 0 <= income <= 30000:\n",
    "            return 'E'\n",
    "        elif 30001 <= income <= 50000:\n",
    "            return 'D'\n",
    "        elif 50001 <= income <= 200000:\n",
    "            return 'C'\n",
    "        elif 200001 <= income <= 1000000:\n",
    "            return 'B'\n",
    "        elif income >= 1000001:\n",
    "            return 'A'\n",
    "    except:\n",
    "        pass"
   ]
  },
  {
   "cell_type": "code",
   "execution_count": 81,
   "id": "f24c7ea1",
   "metadata": {
    "deletable": false,
    "id": "d5f3586d"
   },
   "outputs": [],
   "source": [
    "data['total_income_category'] = data['total_income'].apply(categorize_income)"
   ]
  },
  {
   "cell_type": "markdown",
   "id": "e9af6924",
   "metadata": {
    "id": "dde49b5c"
   },
   "source": [
    "Выведем на экран перечень уникальных целей взятия кредита из столбца `purpose`"
   ]
  },
  {
   "cell_type": "code",
   "execution_count": 82,
   "id": "d433a40d",
   "metadata": {
    "deletable": false,
    "id": "f67ce9b3",
    "outputId": "673c12d9-7d7e-4ae0-9812-c622c89dd244"
   },
   "outputs": [
    {
     "data": {
      "text/plain": [
       "array(['покупка жилья', 'приобретение автомобиля',\n",
       "       'дополнительное образование', 'сыграть свадьбу',\n",
       "       'операции с жильем', 'образование', 'на проведение свадьбы',\n",
       "       'покупка жилья для семьи', 'покупка недвижимости',\n",
       "       'покупка коммерческой недвижимости', 'покупка жилой недвижимости',\n",
       "       'строительство собственной недвижимости', 'недвижимость',\n",
       "       'строительство недвижимости', 'на покупку подержанного автомобиля',\n",
       "       'на покупку своего автомобиля',\n",
       "       'операции с коммерческой недвижимостью',\n",
       "       'строительство жилой недвижимости', 'жилье',\n",
       "       'операции со своей недвижимостью', 'автомобили',\n",
       "       'заняться образованием', 'сделка с подержанным автомобилем',\n",
       "       'получение образования', 'автомобиль', 'свадьба',\n",
       "       'получение дополнительного образования', 'покупка своего жилья',\n",
       "       'операции с недвижимостью', 'получение высшего образования',\n",
       "       'свой автомобиль', 'сделка с автомобилем',\n",
       "       'профильное образование', 'высшее образование',\n",
       "       'покупка жилья для сдачи', 'на покупку автомобиля', 'ремонт жилью',\n",
       "       'заняться высшим образованием'], dtype=object)"
      ]
     },
     "execution_count": 82,
     "metadata": {},
     "output_type": "execute_result"
    }
   ],
   "source": [
    "data['purpose'].unique()"
   ]
  },
  {
   "cell_type": "markdown",
   "id": "409c7928",
   "metadata": {
    "id": "85d0aef0"
   },
   "source": [
    "Создадим функцию, которая на основании данных из столбца `purpose` сформирует новый столбец `purpose_category`, в который войдут следующие категории:**\n",
    "\n",
    "- `'операции с автомобилем'`,\n",
    "- `'операции с недвижимостью'`,\n",
    "- `'проведение свадьбы'`,\n",
    "- `'получение образования'`.\n"
   ]
  },
  {
   "cell_type": "code",
   "execution_count": 83,
   "id": "da356562",
   "metadata": {
    "deletable": false,
    "id": "e149fab4"
   },
   "outputs": [],
   "source": [
    "def categorize_purpose(row):\n",
    "    try:\n",
    "        if 'автом' in row:\n",
    "            return 'операции с автомобилем'\n",
    "        elif 'жил' in row or 'недвиж' in row:\n",
    "            return 'операции с недвижимостью'\n",
    "        elif 'свад' in row:\n",
    "            return 'проведение свадьбы'\n",
    "        elif 'образов' in row:\n",
    "            return 'получение образования'\n",
    "    except:\n",
    "        return 'нет категории'"
   ]
  },
  {
   "cell_type": "code",
   "execution_count": 84,
   "id": "a4adf8fd",
   "metadata": {
    "deletable": false,
    "id": "bf36e69b"
   },
   "outputs": [],
   "source": [
    "data['purpose_category'] = data['purpose'].apply(categorize_purpose)"
   ]
  },
  {
   "cell_type": "markdown",
   "id": "b1a75034",
   "metadata": {
    "id": "09b242bf"
   },
   "source": [
    "### Исследование данных"
   ]
  },
  {
   "cell_type": "markdown",
   "id": "070c6aa1",
   "metadata": {
    "id": "c5d66278"
   },
   "source": [
    "#### Есть ли зависимость между количеством детей и возвратом кредита в срок?"
   ]
  },
  {
   "cell_type": "markdown",
   "id": "4676f95c",
   "metadata": {},
   "source": [
    "Нужно сгруппировать данные по количеству детей, найти количество людей и количество должников в каждой группе. \n",
    "Затем посчитать процентное соотношение должники/вся группа и отсортировать."
   ]
  },
  {
   "cell_type": "code",
   "execution_count": 85,
   "id": "70fef691",
   "metadata": {
    "deletable": false,
    "id": "2cacfc4a",
    "scrolled": true
   },
   "outputs": [
    {
     "data": {
      "text/html": [
       "<div>\n",
       "<style scoped>\n",
       "    .dataframe tbody tr th:only-of-type {\n",
       "        vertical-align: middle;\n",
       "    }\n",
       "\n",
       "    .dataframe tbody tr th {\n",
       "        vertical-align: top;\n",
       "    }\n",
       "\n",
       "    .dataframe thead tr th {\n",
       "        text-align: left;\n",
       "    }\n",
       "\n",
       "    .dataframe thead tr:last-of-type th {\n",
       "        text-align: right;\n",
       "    }\n",
       "</style>\n",
       "<table border=\"1\" class=\"dataframe\">\n",
       "  <thead>\n",
       "    <tr>\n",
       "      <th></th>\n",
       "      <th colspan=\"2\" halign=\"left\">debt</th>\n",
       "      <th>debt_percentage</th>\n",
       "    </tr>\n",
       "    <tr>\n",
       "      <th></th>\n",
       "      <th>count</th>\n",
       "      <th>sum</th>\n",
       "      <th></th>\n",
       "    </tr>\n",
       "    <tr>\n",
       "      <th>children</th>\n",
       "      <th></th>\n",
       "      <th></th>\n",
       "      <th></th>\n",
       "    </tr>\n",
       "  </thead>\n",
       "  <tbody>\n",
       "    <tr>\n",
       "      <th>5</th>\n",
       "      <td>9</td>\n",
       "      <td>0</td>\n",
       "      <td>0.000000</td>\n",
       "    </tr>\n",
       "    <tr>\n",
       "      <th>0</th>\n",
       "      <td>14091</td>\n",
       "      <td>1063</td>\n",
       "      <td>0.075438</td>\n",
       "    </tr>\n",
       "    <tr>\n",
       "      <th>3</th>\n",
       "      <td>330</td>\n",
       "      <td>27</td>\n",
       "      <td>0.081818</td>\n",
       "    </tr>\n",
       "    <tr>\n",
       "      <th>1</th>\n",
       "      <td>4808</td>\n",
       "      <td>444</td>\n",
       "      <td>0.092346</td>\n",
       "    </tr>\n",
       "    <tr>\n",
       "      <th>2</th>\n",
       "      <td>2052</td>\n",
       "      <td>194</td>\n",
       "      <td>0.094542</td>\n",
       "    </tr>\n",
       "    <tr>\n",
       "      <th>4</th>\n",
       "      <td>41</td>\n",
       "      <td>4</td>\n",
       "      <td>0.097561</td>\n",
       "    </tr>\n",
       "  </tbody>\n",
       "</table>\n",
       "</div>"
      ],
      "text/plain": [
       "           debt       debt_percentage\n",
       "          count   sum                \n",
       "children                             \n",
       "5             9     0        0.000000\n",
       "0         14091  1063        0.075438\n",
       "3           330    27        0.081818\n",
       "1          4808   444        0.092346\n",
       "2          2052   194        0.094542\n",
       "4            41     4        0.097561"
      ]
     },
     "execution_count": 85,
     "metadata": {},
     "output_type": "execute_result"
    }
   ],
   "source": [
    "data_grouped_children = data.groupby('children').agg({'debt': ['count', 'sum']})\n",
    "data_grouped_children['debt_percentage'] = data_grouped_children['debt']['sum'] / data_grouped_children['debt']['count']\n",
    "data_grouped_children.sort_values(by = 'debt_percentage') "
   ]
  },
  {
   "cell_type": "markdown",
   "id": "4a6b7430",
   "metadata": {
    "deletable": false,
    "id": "3a6b99ec"
   },
   "source": [
    "Вывод: Согласно полученным результатам, самые добросовестные заёмщики имеют 5 детей, однако таких всего 9 человек из 21525, поэтому однозначно утверждать нельзя. Похожая ситуация с клиентами с 3 и 4 детьми. Но в целом, прослеживается такая тенденция: чем больше детей, тем ниже вероятность возврата кредита в срок."
   ]
  },
  {
   "cell_type": "markdown",
   "id": "be419b07",
   "metadata": {
    "id": "97be82ca"
   },
   "source": [
    "#### Есть ли зависимость между семейным положением и возвратом кредита в срок?"
   ]
  },
  {
   "cell_type": "code",
   "execution_count": 86,
   "id": "e9b934da",
   "metadata": {
    "deletable": false,
    "id": "dc3f7ee8"
   },
   "outputs": [
    {
     "data": {
      "text/html": [
       "<div>\n",
       "<style scoped>\n",
       "    .dataframe tbody tr th:only-of-type {\n",
       "        vertical-align: middle;\n",
       "    }\n",
       "\n",
       "    .dataframe tbody tr th {\n",
       "        vertical-align: top;\n",
       "    }\n",
       "\n",
       "    .dataframe thead th {\n",
       "        text-align: right;\n",
       "    }\n",
       "</style>\n",
       "<table border=\"1\" class=\"dataframe\">\n",
       "  <thead>\n",
       "    <tr style=\"text-align: right;\">\n",
       "      <th></th>\n",
       "      <th></th>\n",
       "      <th>count</th>\n",
       "      <th>sum</th>\n",
       "    </tr>\n",
       "    <tr>\n",
       "      <th>family_status</th>\n",
       "      <th>family_status_id</th>\n",
       "      <th></th>\n",
       "      <th></th>\n",
       "    </tr>\n",
       "  </thead>\n",
       "  <tbody>\n",
       "    <tr>\n",
       "      <th>Не женат / не замужем</th>\n",
       "      <th>4</th>\n",
       "      <td>2796</td>\n",
       "      <td>273</td>\n",
       "    </tr>\n",
       "    <tr>\n",
       "      <th>в разводе</th>\n",
       "      <th>3</th>\n",
       "      <td>1189</td>\n",
       "      <td>84</td>\n",
       "    </tr>\n",
       "    <tr>\n",
       "      <th>вдовец / вдова</th>\n",
       "      <th>2</th>\n",
       "      <td>951</td>\n",
       "      <td>63</td>\n",
       "    </tr>\n",
       "    <tr>\n",
       "      <th>гражданский брак</th>\n",
       "      <th>1</th>\n",
       "      <td>4134</td>\n",
       "      <td>385</td>\n",
       "    </tr>\n",
       "    <tr>\n",
       "      <th>женат / замужем</th>\n",
       "      <th>0</th>\n",
       "      <td>12261</td>\n",
       "      <td>927</td>\n",
       "    </tr>\n",
       "  </tbody>\n",
       "</table>\n",
       "</div>"
      ],
      "text/plain": [
       "                                        count  sum\n",
       "family_status         family_status_id            \n",
       "Не женат / не замужем 4                  2796  273\n",
       "в разводе             3                  1189   84\n",
       "вдовец / вдова        2                   951   63\n",
       "гражданский брак      1                  4134  385\n",
       "женат / замужем       0                 12261  927"
      ]
     },
     "execution_count": 86,
     "metadata": {},
     "output_type": "execute_result"
    }
   ],
   "source": [
    "data_family_pivot = data.pivot_table(index=['family_status', 'family_status_id'], values='debt', aggfunc={'debt': ['count', 'sum']})\n",
    "data_family_pivot"
   ]
  },
  {
   "cell_type": "markdown",
   "id": "6893db70",
   "metadata": {},
   "source": [
    "Сделала сводную таблицу "
   ]
  },
  {
   "cell_type": "code",
   "execution_count": 87,
   "id": "e0c3addf",
   "metadata": {},
   "outputs": [
    {
     "data": {
      "text/html": [
       "<div>\n",
       "<style scoped>\n",
       "    .dataframe tbody tr th:only-of-type {\n",
       "        vertical-align: middle;\n",
       "    }\n",
       "\n",
       "    .dataframe tbody tr th {\n",
       "        vertical-align: top;\n",
       "    }\n",
       "\n",
       "    .dataframe thead th {\n",
       "        text-align: right;\n",
       "    }\n",
       "</style>\n",
       "<table border=\"1\" class=\"dataframe\">\n",
       "  <thead>\n",
       "    <tr style=\"text-align: right;\">\n",
       "      <th></th>\n",
       "      <th></th>\n",
       "      <th>count</th>\n",
       "      <th>sum</th>\n",
       "      <th>debt_percentage</th>\n",
       "    </tr>\n",
       "    <tr>\n",
       "      <th>family_status</th>\n",
       "      <th>family_status_id</th>\n",
       "      <th></th>\n",
       "      <th></th>\n",
       "      <th></th>\n",
       "    </tr>\n",
       "  </thead>\n",
       "  <tbody>\n",
       "    <tr>\n",
       "      <th>вдовец / вдова</th>\n",
       "      <th>2</th>\n",
       "      <td>951</td>\n",
       "      <td>63</td>\n",
       "      <td>0.066246</td>\n",
       "    </tr>\n",
       "    <tr>\n",
       "      <th>в разводе</th>\n",
       "      <th>3</th>\n",
       "      <td>1189</td>\n",
       "      <td>84</td>\n",
       "      <td>0.070648</td>\n",
       "    </tr>\n",
       "    <tr>\n",
       "      <th>женат / замужем</th>\n",
       "      <th>0</th>\n",
       "      <td>12261</td>\n",
       "      <td>927</td>\n",
       "      <td>0.075606</td>\n",
       "    </tr>\n",
       "    <tr>\n",
       "      <th>гражданский брак</th>\n",
       "      <th>1</th>\n",
       "      <td>4134</td>\n",
       "      <td>385</td>\n",
       "      <td>0.093130</td>\n",
       "    </tr>\n",
       "    <tr>\n",
       "      <th>Не женат / не замужем</th>\n",
       "      <th>4</th>\n",
       "      <td>2796</td>\n",
       "      <td>273</td>\n",
       "      <td>0.097639</td>\n",
       "    </tr>\n",
       "  </tbody>\n",
       "</table>\n",
       "</div>"
      ],
      "text/plain": [
       "                                        count  sum  debt_percentage\n",
       "family_status         family_status_id                             \n",
       "вдовец / вдова        2                   951   63         0.066246\n",
       "в разводе             3                  1189   84         0.070648\n",
       "женат / замужем       0                 12261  927         0.075606\n",
       "гражданский брак      1                  4134  385         0.093130\n",
       "Не женат / не замужем 4                  2796  273         0.097639"
      ]
     },
     "execution_count": 87,
     "metadata": {},
     "output_type": "execute_result"
    }
   ],
   "source": [
    "data_family_pivot['debt_percentage'] = data_family_pivot['sum']/data_family_pivot['count']\n",
    "data_family_pivot.sort_values('debt_percentage')"
   ]
  },
  {
   "cell_type": "markdown",
   "id": "a214ebf0",
   "metadata": {},
   "source": [
    "Оценила долю клиентов с задолженностями в каждой группе"
   ]
  },
  {
   "cell_type": "markdown",
   "id": "20c5f56d",
   "metadata": {
    "deletable": false,
    "id": "1cef7837"
   },
   "source": [
    "Вывод: В данном случае количество человек в группах отличается не так сильно, как в предыдущем задании, однако всё равно группа 0 примерно в 12 раз больше группы 2. Если не учитывать 2 группу, то можно сказать, что у клиентов, которые не женаты/не замужем, самая большая доля задолженников, а у клиентов, которые в разводе, - самая маленькая."
   ]
  },
  {
   "cell_type": "markdown",
   "id": "6cbb4aa2",
   "metadata": {
    "id": "1e8b2fca"
   },
   "source": [
    "#### Есть ли зависимость между уровнем дохода и возвратом кредита в срок?"
   ]
  },
  {
   "cell_type": "code",
   "execution_count": 88,
   "id": "662f14b8",
   "metadata": {
    "deletable": false,
    "id": "cd7e3720"
   },
   "outputs": [
    {
     "data": {
      "text/html": [
       "<div>\n",
       "<style scoped>\n",
       "    .dataframe tbody tr th:only-of-type {\n",
       "        vertical-align: middle;\n",
       "    }\n",
       "\n",
       "    .dataframe tbody tr th {\n",
       "        vertical-align: top;\n",
       "    }\n",
       "\n",
       "    .dataframe thead th {\n",
       "        text-align: right;\n",
       "    }\n",
       "</style>\n",
       "<table border=\"1\" class=\"dataframe\">\n",
       "  <thead>\n",
       "    <tr style=\"text-align: right;\">\n",
       "      <th></th>\n",
       "      <th>count</th>\n",
       "      <th>sum</th>\n",
       "      <th>debt_percentage</th>\n",
       "    </tr>\n",
       "    <tr>\n",
       "      <th>total_income_category</th>\n",
       "      <th></th>\n",
       "      <th></th>\n",
       "      <th></th>\n",
       "    </tr>\n",
       "  </thead>\n",
       "  <tbody>\n",
       "    <tr>\n",
       "      <th>A</th>\n",
       "      <td>25</td>\n",
       "      <td>2</td>\n",
       "      <td>0.080000</td>\n",
       "    </tr>\n",
       "    <tr>\n",
       "      <th>B</th>\n",
       "      <td>5014</td>\n",
       "      <td>354</td>\n",
       "      <td>0.070602</td>\n",
       "    </tr>\n",
       "    <tr>\n",
       "      <th>C</th>\n",
       "      <td>15921</td>\n",
       "      <td>1353</td>\n",
       "      <td>0.084982</td>\n",
       "    </tr>\n",
       "    <tr>\n",
       "      <th>D</th>\n",
       "      <td>349</td>\n",
       "      <td>21</td>\n",
       "      <td>0.060172</td>\n",
       "    </tr>\n",
       "    <tr>\n",
       "      <th>E</th>\n",
       "      <td>22</td>\n",
       "      <td>2</td>\n",
       "      <td>0.090909</td>\n",
       "    </tr>\n",
       "  </tbody>\n",
       "</table>\n",
       "</div>"
      ],
      "text/plain": [
       "                       count   sum  debt_percentage\n",
       "total_income_category                              \n",
       "A                         25     2         0.080000\n",
       "B                       5014   354         0.070602\n",
       "C                      15921  1353         0.084982\n",
       "D                        349    21         0.060172\n",
       "E                         22     2         0.090909"
      ]
     },
     "execution_count": 88,
     "metadata": {},
     "output_type": "execute_result"
    }
   ],
   "source": [
    "data_income_pivot = data.pivot_table(index=['total_income_category'], values='debt', aggfunc={'debt': ['count', 'sum']})\n",
    "data_income_pivot['debt_percentage'] = data_income_pivot['sum']/data_income_pivot['count']\n",
    "data_income_pivot"
   ]
  },
  {
   "cell_type": "markdown",
   "id": "3ebf4742",
   "metadata": {},
   "source": [
    "Из таблицы видно, что количество клиентов в категориях сильно различаются. Добавим столбец, который расшифрует эти категории."
   ]
  },
  {
   "cell_type": "code",
   "execution_count": 89,
   "id": "2975e5a6",
   "metadata": {},
   "outputs": [
    {
     "data": {
      "text/html": [
       "<div>\n",
       "<style scoped>\n",
       "    .dataframe tbody tr th:only-of-type {\n",
       "        vertical-align: middle;\n",
       "    }\n",
       "\n",
       "    .dataframe tbody tr th {\n",
       "        vertical-align: top;\n",
       "    }\n",
       "\n",
       "    .dataframe thead th {\n",
       "        text-align: right;\n",
       "    }\n",
       "</style>\n",
       "<table border=\"1\" class=\"dataframe\">\n",
       "  <thead>\n",
       "    <tr style=\"text-align: right;\">\n",
       "      <th></th>\n",
       "      <th>count</th>\n",
       "      <th>sum</th>\n",
       "      <th>debt_percentage</th>\n",
       "      <th>total_income</th>\n",
       "    </tr>\n",
       "    <tr>\n",
       "      <th>total_income_category</th>\n",
       "      <th></th>\n",
       "      <th></th>\n",
       "      <th></th>\n",
       "      <th></th>\n",
       "    </tr>\n",
       "  </thead>\n",
       "  <tbody>\n",
       "    <tr>\n",
       "      <th>D</th>\n",
       "      <td>349</td>\n",
       "      <td>21</td>\n",
       "      <td>0.060172</td>\n",
       "      <td>30001–50000</td>\n",
       "    </tr>\n",
       "    <tr>\n",
       "      <th>B</th>\n",
       "      <td>5014</td>\n",
       "      <td>354</td>\n",
       "      <td>0.070602</td>\n",
       "      <td>200001–1000000</td>\n",
       "    </tr>\n",
       "    <tr>\n",
       "      <th>A</th>\n",
       "      <td>25</td>\n",
       "      <td>2</td>\n",
       "      <td>0.080000</td>\n",
       "      <td>&gt;1000001</td>\n",
       "    </tr>\n",
       "    <tr>\n",
       "      <th>C</th>\n",
       "      <td>15921</td>\n",
       "      <td>1353</td>\n",
       "      <td>0.084982</td>\n",
       "      <td>50001–200000</td>\n",
       "    </tr>\n",
       "    <tr>\n",
       "      <th>E</th>\n",
       "      <td>22</td>\n",
       "      <td>2</td>\n",
       "      <td>0.090909</td>\n",
       "      <td>0–30000</td>\n",
       "    </tr>\n",
       "  </tbody>\n",
       "</table>\n",
       "</div>"
      ],
      "text/plain": [
       "                       count   sum  debt_percentage    total_income\n",
       "total_income_category                                              \n",
       "D                        349    21         0.060172     30001–50000\n",
       "B                       5014   354         0.070602  200001–1000000\n",
       "A                         25     2         0.080000        >1000001\n",
       "C                      15921  1353         0.084982    50001–200000\n",
       "E                         22     2         0.090909         0–30000"
      ]
     },
     "execution_count": 89,
     "metadata": {},
     "output_type": "execute_result"
    }
   ],
   "source": [
    "data_income_pivot['total_income'] = ['>1000001', '200001–1000000', '50001–200000', '30001–50000', '0–30000']\n",
    "data_income_pivot.sort_values('debt_percentage')\n"
   ]
  },
  {
   "cell_type": "markdown",
   "id": "c50d3f6c",
   "metadata": {
    "deletable": false,
    "id": "e8593def"
   },
   "source": [
    "Вывод: Видим, что суммарно на долю клиентов с зп до 50000 и от 1000000 приходится около 2%, примерно 3/4 всех заёмщиков составляют люди с зп 50001–200000, остальные с зп 200001–1000000. Так как большая часть клиентов приходятся на категорию C и B, по ним можно сказать, что с ростом уровня дохода, уменьшается доля должников. "
   ]
  },
  {
   "cell_type": "markdown",
   "id": "c9dfcf7a",
   "metadata": {
    "id": "99ecbd1f"
   },
   "source": [
    "#### Как разные цели кредита влияют на его возврат в срок?"
   ]
  },
  {
   "cell_type": "code",
   "execution_count": 90,
   "id": "f5fb5c6b",
   "metadata": {
    "deletable": false,
    "id": "2b687290"
   },
   "outputs": [
    {
     "data": {
      "text/html": [
       "<div>\n",
       "<style scoped>\n",
       "    .dataframe tbody tr th:only-of-type {\n",
       "        vertical-align: middle;\n",
       "    }\n",
       "\n",
       "    .dataframe tbody tr th {\n",
       "        vertical-align: top;\n",
       "    }\n",
       "\n",
       "    .dataframe thead th {\n",
       "        text-align: right;\n",
       "    }\n",
       "</style>\n",
       "<table border=\"1\" class=\"dataframe\">\n",
       "  <thead>\n",
       "    <tr style=\"text-align: right;\">\n",
       "      <th></th>\n",
       "      <th>count</th>\n",
       "      <th>sum</th>\n",
       "      <th>debt_percentage</th>\n",
       "    </tr>\n",
       "    <tr>\n",
       "      <th>purpose_category</th>\n",
       "      <th></th>\n",
       "      <th></th>\n",
       "      <th></th>\n",
       "    </tr>\n",
       "  </thead>\n",
       "  <tbody>\n",
       "    <tr>\n",
       "      <th>операции с недвижимостью</th>\n",
       "      <td>10751</td>\n",
       "      <td>780</td>\n",
       "      <td>0.072551</td>\n",
       "    </tr>\n",
       "    <tr>\n",
       "      <th>проведение свадьбы</th>\n",
       "      <td>2313</td>\n",
       "      <td>183</td>\n",
       "      <td>0.079118</td>\n",
       "    </tr>\n",
       "    <tr>\n",
       "      <th>получение образования</th>\n",
       "      <td>3988</td>\n",
       "      <td>369</td>\n",
       "      <td>0.092528</td>\n",
       "    </tr>\n",
       "    <tr>\n",
       "      <th>операции с автомобилем</th>\n",
       "      <td>4279</td>\n",
       "      <td>400</td>\n",
       "      <td>0.093480</td>\n",
       "    </tr>\n",
       "  </tbody>\n",
       "</table>\n",
       "</div>"
      ],
      "text/plain": [
       "                          count  sum  debt_percentage\n",
       "purpose_category                                     \n",
       "операции с недвижимостью  10751  780         0.072551\n",
       "проведение свадьбы         2313  183         0.079118\n",
       "получение образования      3988  369         0.092528\n",
       "операции с автомобилем     4279  400         0.093480"
      ]
     },
     "execution_count": 90,
     "metadata": {},
     "output_type": "execute_result"
    }
   ],
   "source": [
    "data_purpose_pivot = data.pivot_table(index=['purpose_category'], values='debt', aggfunc={'debt': ['count', 'sum']})\n",
    "data_purpose_pivot['debt_percentage'] = data_purpose_pivot['sum']/data_purpose_pivot['count']\n",
    "data_purpose_pivot.sort_values('debt_percentage')"
   ]
  },
  {
   "cell_type": "markdown",
   "id": "4a73a644",
   "metadata": {
    "deletable": false,
    "id": "b4bb2ce6"
   },
   "source": [
    "Вывод: В данном случае количество клиентов в категориях отличаются меньше, чем в предыдущих исследованиях, поэтому можно сказать, что цели на кредит влияют на его возврат в срок больше, чем уровень дохода, семейное положение и количество детей. Самая большая доля должников среди тех, кто берет кредит на операции с автомобилем, самая малая - среди тех, кто берет кредит на операции с недвижимостью. "
   ]
  },
  {
   "cell_type": "markdown",
   "id": "0c2afbeb",
   "metadata": {
    "id": "09c3ac4c"
   },
   "source": [
    "#### Какие возможные причины появления пропусков в исходных данных?"
   ]
  },
  {
   "cell_type": "markdown",
   "id": "74cce09c",
   "metadata": {
    "deletable": false,
    "id": "9da2ceda"
   },
   "source": [
    "Ответ: Пропуски наблюдаются только в столбцах со стажем и с месячной зарплатой, причём их одинаковое количество (2174). Проверим, находятся ли эти пропуски в одной строке."
   ]
  },
  {
   "cell_type": "code",
   "execution_count": 91,
   "id": "1dc354a2",
   "metadata": {},
   "outputs": [],
   "source": [
    "import pandas as pd\n",
    "\n",
    "try:\n",
    "    data_na = pd.read_csv('/datasets/data.csv')\n",
    "except:\n",
    "    data_na = pd.read_csv('https://code.s3.yandex.net/datasets/data.csv')\n",
    "   "
   ]
  },
  {
   "cell_type": "code",
   "execution_count": 92,
   "id": "08048155",
   "metadata": {},
   "outputs": [
    {
     "name": "stdout",
     "output_type": "stream",
     "text": [
      "<class 'pandas.core.frame.DataFrame'>\n",
      "Int64Index: 2174 entries, 12 to 21510\n",
      "Data columns (total 12 columns):\n",
      " #   Column            Non-Null Count  Dtype  \n",
      "---  ------            --------------  -----  \n",
      " 0   children          2174 non-null   int64  \n",
      " 1   days_employed     0 non-null      float64\n",
      " 2   dob_years         2174 non-null   int64  \n",
      " 3   education         2174 non-null   object \n",
      " 4   education_id      2174 non-null   int64  \n",
      " 5   family_status     2174 non-null   object \n",
      " 6   family_status_id  2174 non-null   int64  \n",
      " 7   gender            2174 non-null   object \n",
      " 8   income_type       2174 non-null   object \n",
      " 9   debt              2174 non-null   int64  \n",
      " 10  total_income      0 non-null      float64\n",
      " 11  purpose           2174 non-null   object \n",
      "dtypes: float64(2), int64(5), object(5)\n",
      "memory usage: 220.8+ KB\n"
     ]
    }
   ],
   "source": [
    " \n",
    "    data_na = data_na.loc[(data_na['days_employed'].isna()) & (data_na['total_income'].isna())]\n",
    "    data_na.info()"
   ]
  },
  {
   "cell_type": "markdown",
   "id": "2b617d1e",
   "metadata": {},
   "source": [
    "Получили таблицу, в которой в столбцах 'days_employed' и 'total_income' находятся NaN. Количество строк в этой таблице также 2174. Значит, можно сделать вывод о том, что эти пропуски между собой связаны. То есть, если появился в одном столбце, значит появится и в другом. Такое не может быть связано с нежеланием людей указывать какую-то информацию (тогда бы пропуски были и в других столбцах и их было бы разное количество). Это может быть объяснятся тем, что 2174 человека получили другой бланк для анкетирования, но вероятнее всего произошёл технический сбой при выгрузке данных."
   ]
  },
  {
   "cell_type": "markdown",
   "id": "162fadc1",
   "metadata": {
    "id": "7b0487d6"
   },
   "source": [
    "#### Объясним, почему заполнить пропуски медианным значением — лучшее решение для количественных переменных"
   ]
  },
  {
   "cell_type": "markdown",
   "id": "9cd29c58",
   "metadata": {},
   "source": [
    "Найдём максимальную и минимальную зарплату для каждого типа занятости"
   ]
  },
  {
   "cell_type": "code",
   "execution_count": 93,
   "id": "d9dfede5",
   "metadata": {},
   "outputs": [
    {
     "data": {
      "text/html": [
       "<div>\n",
       "<style scoped>\n",
       "    .dataframe tbody tr th:only-of-type {\n",
       "        vertical-align: middle;\n",
       "    }\n",
       "\n",
       "    .dataframe tbody tr th {\n",
       "        vertical-align: top;\n",
       "    }\n",
       "\n",
       "    .dataframe thead th {\n",
       "        text-align: right;\n",
       "    }\n",
       "</style>\n",
       "<table border=\"1\" class=\"dataframe\">\n",
       "  <thead>\n",
       "    <tr style=\"text-align: right;\">\n",
       "      <th></th>\n",
       "      <th>Тип занятости</th>\n",
       "      <th>Минимальная зп</th>\n",
       "      <th>Максимальная зп</th>\n",
       "    </tr>\n",
       "  </thead>\n",
       "  <tbody>\n",
       "    <tr>\n",
       "      <th>0</th>\n",
       "      <td>сотрудник</td>\n",
       "      <td>21367</td>\n",
       "      <td>1726276</td>\n",
       "    </tr>\n",
       "    <tr>\n",
       "      <th>1</th>\n",
       "      <td>пенсионер</td>\n",
       "      <td>20667</td>\n",
       "      <td>735103</td>\n",
       "    </tr>\n",
       "    <tr>\n",
       "      <th>2</th>\n",
       "      <td>компаньон</td>\n",
       "      <td>28702</td>\n",
       "      <td>2265604</td>\n",
       "    </tr>\n",
       "    <tr>\n",
       "      <th>3</th>\n",
       "      <td>госслужащий</td>\n",
       "      <td>29200</td>\n",
       "      <td>910451</td>\n",
       "    </tr>\n",
       "    <tr>\n",
       "      <th>4</th>\n",
       "      <td>безработный</td>\n",
       "      <td>59956</td>\n",
       "      <td>202722</td>\n",
       "    </tr>\n",
       "    <tr>\n",
       "      <th>5</th>\n",
       "      <td>предприниматель</td>\n",
       "      <td>499163</td>\n",
       "      <td>499163</td>\n",
       "    </tr>\n",
       "    <tr>\n",
       "      <th>6</th>\n",
       "      <td>студент</td>\n",
       "      <td>98201</td>\n",
       "      <td>98201</td>\n",
       "    </tr>\n",
       "    <tr>\n",
       "      <th>7</th>\n",
       "      <td>в декрете</td>\n",
       "      <td>53829</td>\n",
       "      <td>53829</td>\n",
       "    </tr>\n",
       "  </tbody>\n",
       "</table>\n",
       "</div>"
      ],
      "text/plain": [
       "     Тип занятости  Минимальная зп  Максимальная зп\n",
       "0        сотрудник           21367          1726276\n",
       "1        пенсионер           20667           735103\n",
       "2        компаньон           28702          2265604\n",
       "3      госслужащий           29200           910451\n",
       "4      безработный           59956           202722\n",
       "5  предприниматель          499163           499163\n",
       "6          студент           98201            98201\n",
       "7        в декрете           53829            53829"
      ]
     },
     "execution_count": 93,
     "metadata": {},
     "output_type": "execute_result"
    }
   ],
   "source": [
    "incomes = []\n",
    "columns = ['Тип занятости', 'Минимальная зп', 'Максимальная зп']\n",
    "for t in data['income_type'].unique():\n",
    "    income = []\n",
    "    income.append(t)\n",
    "    income.append(data.loc[data['income_type'] == t, 'total_income'].min())\n",
    "    income.append(data.loc[data['income_type'] == t, 'total_income'].max())\n",
    "    incomes.append(income)\n",
    "income_type = pd.DataFrame(data = incomes, columns = columns)    \n",
    "income_type"
   ]
  },
  {
   "cell_type": "markdown",
   "id": "d7eb135f",
   "metadata": {
    "deletable": false,
    "id": "7ecf2b8e"
   },
   "source": [
    "\n",
    "Видим, что даже в пределах одного типа занятости доходы могут отличаться на порядки, в таком случае среднее арифметическое даёт некорректное значение."
   ]
  },
  {
   "cell_type": "markdown",
   "id": "a9e5a2e5",
   "metadata": {},
   "source": [
    "Повторим то же самое для нахождения минимального и максимального стажа внутри одного типа занятости:"
   ]
  },
  {
   "cell_type": "code",
   "execution_count": 94,
   "id": "c5336ae4",
   "metadata": {},
   "outputs": [
    {
     "data": {
      "text/html": [
       "<div>\n",
       "<style scoped>\n",
       "    .dataframe tbody tr th:only-of-type {\n",
       "        vertical-align: middle;\n",
       "    }\n",
       "\n",
       "    .dataframe tbody tr th {\n",
       "        vertical-align: top;\n",
       "    }\n",
       "\n",
       "    .dataframe thead th {\n",
       "        text-align: right;\n",
       "    }\n",
       "</style>\n",
       "<table border=\"1\" class=\"dataframe\">\n",
       "  <thead>\n",
       "    <tr style=\"text-align: right;\">\n",
       "      <th></th>\n",
       "      <th>Тип занятости</th>\n",
       "      <th>Минимальный стаж</th>\n",
       "      <th>Максимальный стаж</th>\n",
       "    </tr>\n",
       "  </thead>\n",
       "  <tbody>\n",
       "    <tr>\n",
       "      <th>0</th>\n",
       "      <td>сотрудник</td>\n",
       "      <td>24.141633</td>\n",
       "      <td>18388.949901</td>\n",
       "    </tr>\n",
       "    <tr>\n",
       "      <th>1</th>\n",
       "      <td>пенсионер</td>\n",
       "      <td>328728.720605</td>\n",
       "      <td>401755.400475</td>\n",
       "    </tr>\n",
       "    <tr>\n",
       "      <th>2</th>\n",
       "      <td>компаньон</td>\n",
       "      <td>30.195337</td>\n",
       "      <td>17615.563266</td>\n",
       "    </tr>\n",
       "    <tr>\n",
       "      <th>3</th>\n",
       "      <td>госслужащий</td>\n",
       "      <td>39.954170</td>\n",
       "      <td>15193.032201</td>\n",
       "    </tr>\n",
       "    <tr>\n",
       "      <th>4</th>\n",
       "      <td>безработный</td>\n",
       "      <td>337524.466835</td>\n",
       "      <td>395302.838654</td>\n",
       "    </tr>\n",
       "    <tr>\n",
       "      <th>5</th>\n",
       "      <td>предприниматель</td>\n",
       "      <td>520.848083</td>\n",
       "      <td>520.848083</td>\n",
       "    </tr>\n",
       "    <tr>\n",
       "      <th>6</th>\n",
       "      <td>студент</td>\n",
       "      <td>578.751554</td>\n",
       "      <td>578.751554</td>\n",
       "    </tr>\n",
       "    <tr>\n",
       "      <th>7</th>\n",
       "      <td>в декрете</td>\n",
       "      <td>3296.759962</td>\n",
       "      <td>3296.759962</td>\n",
       "    </tr>\n",
       "  </tbody>\n",
       "</table>\n",
       "</div>"
      ],
      "text/plain": [
       "     Тип занятости  Минимальный стаж  Максимальный стаж\n",
       "0        сотрудник         24.141633       18388.949901\n",
       "1        пенсионер     328728.720605      401755.400475\n",
       "2        компаньон         30.195337       17615.563266\n",
       "3      госслужащий         39.954170       15193.032201\n",
       "4      безработный     337524.466835      395302.838654\n",
       "5  предприниматель        520.848083         520.848083\n",
       "6          студент        578.751554         578.751554\n",
       "7        в декрете       3296.759962        3296.759962"
      ]
     },
     "execution_count": 94,
     "metadata": {},
     "output_type": "execute_result"
    }
   ],
   "source": [
    "days = []\n",
    "columns = ['Тип занятости', 'Минимальный стаж', 'Максимальный стаж']\n",
    "for t in data['income_type'].unique():\n",
    "    days_employed = []\n",
    "    days_employed.append(t)\n",
    "    days_employed.append(data.loc[data['income_type'] == t, 'days_employed'].min())\n",
    "    days_employed.append(data.loc[data['income_type'] == t, 'days_employed'].max())\n",
    "    days.append(days_employed)\n",
    "days_employed_type = pd.DataFrame(data = days, columns = columns)    \n",
    "days_employed_type"
   ]
  },
  {
   "cell_type": "markdown",
   "id": "12f30462",
   "metadata": {},
   "source": [
    "Видим похожую ситуацию: есть сотрудники со стажем 24 дня и сотрудники со стажем 18388 дней. Поэтому здесь также используем медианное значение."
   ]
  },
  {
   "cell_type": "markdown",
   "id": "5035f218",
   "metadata": {
    "id": "6db5255a"
   },
   "source": [
    "### Общий вывод."
   ]
  },
  {
   "cell_type": "markdown",
   "id": "96d44249",
   "metadata": {
    "deletable": false,
    "id": "bad65432"
   },
   "source": [
    "В результате исследования выяснили:\n",
    "1) Из-за технических неполадок возникли пропуски в столбцах 'days_employed' и 'total_income' \n",
    "2) Среди клиентов с большим количеством детей больше задолженников\n",
    "3) Среди клиентов в разводе задолженников меньше всего, а среди неженатых - больше всего\n",
    "4) С ростом уровня дохода уменьшается количество должников\n",
    "5) Задолженников меньше всего среди клиентов, взявших кредит на операции с недвижимостью, и больше всего среди клиентов, взявших кредит на операции с автомобилем"
   ]
  }
 ],
 "metadata": {
  "ExecuteTimeLog": [
   {
    "duration": 60,
    "start_time": "2022-12-07T18:27:49.928Z"
   },
   {
    "duration": 521,
    "start_time": "2022-12-07T18:27:56.807Z"
   },
   {
    "duration": 22,
    "start_time": "2022-12-07T18:27:57.330Z"
   },
   {
    "duration": 15,
    "start_time": "2022-12-07T18:27:57.354Z"
   },
   {
    "duration": 9,
    "start_time": "2022-12-07T18:27:57.371Z"
   },
   {
    "duration": 33,
    "start_time": "2022-12-07T18:27:57.382Z"
   },
   {
    "duration": 4,
    "start_time": "2022-12-07T18:27:57.438Z"
   },
   {
    "duration": 10,
    "start_time": "2022-12-07T18:27:57.443Z"
   },
   {
    "duration": 4,
    "start_time": "2022-12-07T18:27:57.455Z"
   },
   {
    "duration": 9,
    "start_time": "2022-12-07T18:27:57.461Z"
   },
   {
    "duration": 4,
    "start_time": "2022-12-07T18:27:57.474Z"
   },
   {
    "duration": 64,
    "start_time": "2022-12-07T18:27:57.479Z"
   },
   {
    "duration": 11,
    "start_time": "2022-12-07T18:27:57.544Z"
   },
   {
    "duration": 3,
    "start_time": "2022-12-07T18:27:57.556Z"
   },
   {
    "duration": 13,
    "start_time": "2022-12-07T18:27:57.561Z"
   },
   {
    "duration": 22,
    "start_time": "2022-12-07T18:27:57.576Z"
   },
   {
    "duration": 42,
    "start_time": "2022-12-07T18:27:57.600Z"
   },
   {
    "duration": 4,
    "start_time": "2022-12-07T18:27:57.643Z"
   },
   {
    "duration": 13,
    "start_time": "2022-12-07T18:27:57.648Z"
   },
   {
    "duration": 6,
    "start_time": "2022-12-07T18:27:57.662Z"
   },
   {
    "duration": 4,
    "start_time": "2022-12-07T18:27:57.669Z"
   },
   {
    "duration": 11,
    "start_time": "2022-12-07T18:27:57.675Z"
   },
   {
    "duration": 63,
    "start_time": "2022-12-07T18:27:57.687Z"
   },
   {
    "duration": 0,
    "start_time": "2022-12-07T18:27:57.751Z"
   },
   {
    "duration": 0,
    "start_time": "2022-12-07T18:27:57.752Z"
   },
   {
    "duration": 0,
    "start_time": "2022-12-07T18:27:57.754Z"
   },
   {
    "duration": 6,
    "start_time": "2022-12-07T18:28:22.330Z"
   },
   {
    "duration": 5,
    "start_time": "2022-12-07T18:28:46.714Z"
   },
   {
    "duration": 16,
    "start_time": "2022-12-07T18:29:01.292Z"
   },
   {
    "duration": 19,
    "start_time": "2022-12-07T18:30:32.553Z"
   },
   {
    "duration": 106,
    "start_time": "2022-12-07T18:30:42.081Z"
   },
   {
    "duration": 6,
    "start_time": "2022-12-07T18:30:53.188Z"
   },
   {
    "duration": 521,
    "start_time": "2022-12-08T15:02:56.895Z"
   },
   {
    "duration": 21,
    "start_time": "2022-12-08T15:02:57.418Z"
   },
   {
    "duration": 23,
    "start_time": "2022-12-08T15:02:57.440Z"
   },
   {
    "duration": 29,
    "start_time": "2022-12-08T15:02:57.466Z"
   },
   {
    "duration": 47,
    "start_time": "2022-12-08T15:02:57.497Z"
   },
   {
    "duration": 3,
    "start_time": "2022-12-08T15:02:57.546Z"
   },
   {
    "duration": 30,
    "start_time": "2022-12-08T15:02:57.550Z"
   },
   {
    "duration": 15,
    "start_time": "2022-12-08T15:02:57.582Z"
   },
   {
    "duration": 28,
    "start_time": "2022-12-08T15:02:57.599Z"
   },
   {
    "duration": 29,
    "start_time": "2022-12-08T15:02:57.631Z"
   },
   {
    "duration": 54,
    "start_time": "2022-12-08T15:02:57.661Z"
   },
   {
    "duration": 9,
    "start_time": "2022-12-08T15:02:57.716Z"
   },
   {
    "duration": 30,
    "start_time": "2022-12-08T15:02:57.727Z"
   },
   {
    "duration": 28,
    "start_time": "2022-12-08T15:02:57.758Z"
   },
   {
    "duration": 38,
    "start_time": "2022-12-08T15:02:57.787Z"
   },
   {
    "duration": 16,
    "start_time": "2022-12-08T15:02:57.826Z"
   },
   {
    "duration": 11,
    "start_time": "2022-12-08T15:02:57.843Z"
   },
   {
    "duration": 27,
    "start_time": "2022-12-08T15:02:57.855Z"
   },
   {
    "duration": 32,
    "start_time": "2022-12-08T15:02:57.883Z"
   },
   {
    "duration": 3,
    "start_time": "2022-12-08T15:02:57.917Z"
   },
   {
    "duration": 34,
    "start_time": "2022-12-08T15:02:57.921Z"
   },
   {
    "duration": 20,
    "start_time": "2022-12-08T15:02:57.956Z"
   },
   {
    "duration": 30,
    "start_time": "2022-12-08T15:02:57.977Z"
   },
   {
    "duration": 6,
    "start_time": "2022-12-08T15:02:58.009Z"
   },
   {
    "duration": 19,
    "start_time": "2022-12-08T15:02:58.016Z"
   },
   {
    "duration": 20,
    "start_time": "2022-12-08T15:02:58.037Z"
   },
   {
    "duration": 8,
    "start_time": "2022-12-08T15:03:34.595Z"
   },
   {
    "duration": 19,
    "start_time": "2022-12-08T15:07:57.219Z"
   },
   {
    "duration": 7,
    "start_time": "2022-12-08T15:08:24.224Z"
   },
   {
    "duration": 10,
    "start_time": "2022-12-08T15:12:28.693Z"
   },
   {
    "duration": 14,
    "start_time": "2022-12-08T15:12:38.105Z"
   },
   {
    "duration": 68,
    "start_time": "2022-12-08T15:14:23.494Z"
   },
   {
    "duration": 13,
    "start_time": "2022-12-08T15:14:31.844Z"
   },
   {
    "duration": 15,
    "start_time": "2022-12-08T15:14:46.484Z"
   },
   {
    "duration": 16,
    "start_time": "2022-12-08T15:18:57.094Z"
   },
   {
    "duration": 11,
    "start_time": "2022-12-08T16:03:05.561Z"
   },
   {
    "duration": 11,
    "start_time": "2022-12-08T16:03:26.204Z"
   },
   {
    "duration": 12,
    "start_time": "2022-12-08T16:03:49.463Z"
   },
   {
    "duration": 69,
    "start_time": "2022-12-08T16:09:17.970Z"
   },
   {
    "duration": 17,
    "start_time": "2022-12-08T16:11:08.141Z"
   },
   {
    "duration": 17,
    "start_time": "2022-12-08T16:13:49.241Z"
   },
   {
    "duration": 13,
    "start_time": "2022-12-08T16:15:14.210Z"
   },
   {
    "duration": 77,
    "start_time": "2022-12-08T16:15:35.558Z"
   },
   {
    "duration": 13,
    "start_time": "2022-12-08T16:21:04.257Z"
   },
   {
    "duration": 7,
    "start_time": "2022-12-08T16:24:47.376Z"
   },
   {
    "duration": 14,
    "start_time": "2022-12-08T16:24:56.526Z"
   },
   {
    "duration": 12,
    "start_time": "2022-12-08T16:25:30.999Z"
   },
   {
    "duration": 11,
    "start_time": "2022-12-08T16:25:44.183Z"
   },
   {
    "duration": 12,
    "start_time": "2022-12-08T16:26:52.999Z"
   },
   {
    "duration": 14,
    "start_time": "2022-12-08T16:27:04.048Z"
   },
   {
    "duration": 12,
    "start_time": "2022-12-08T16:27:10.358Z"
   },
   {
    "duration": 11,
    "start_time": "2022-12-08T16:27:34.576Z"
   },
   {
    "duration": 11,
    "start_time": "2022-12-08T16:27:39.124Z"
   },
   {
    "duration": 15,
    "start_time": "2022-12-08T16:28:15.686Z"
   },
   {
    "duration": 14,
    "start_time": "2022-12-08T16:28:19.148Z"
   },
   {
    "duration": 12,
    "start_time": "2022-12-08T16:29:29.965Z"
   },
   {
    "duration": 26,
    "start_time": "2022-12-08T16:36:50.840Z"
   },
   {
    "duration": 23,
    "start_time": "2022-12-08T16:37:33.457Z"
   },
   {
    "duration": 11,
    "start_time": "2022-12-08T16:38:17.332Z"
   },
   {
    "duration": 1316,
    "start_time": "2022-12-08T16:40:41.786Z"
   },
   {
    "duration": 15,
    "start_time": "2022-12-08T16:42:31.446Z"
   },
   {
    "duration": 14,
    "start_time": "2022-12-08T16:42:59.605Z"
   },
   {
    "duration": 23,
    "start_time": "2022-12-08T16:44:46.332Z"
   },
   {
    "duration": 1098,
    "start_time": "2022-12-08T16:45:27.521Z"
   },
   {
    "duration": 8,
    "start_time": "2022-12-08T16:45:46.738Z"
   },
   {
    "duration": 10,
    "start_time": "2022-12-08T16:52:16.526Z"
   },
   {
    "duration": 14,
    "start_time": "2022-12-08T16:56:18.015Z"
   },
   {
    "duration": 14,
    "start_time": "2022-12-08T16:56:35.439Z"
   },
   {
    "duration": 7,
    "start_time": "2022-12-08T16:57:18.023Z"
   },
   {
    "duration": 14,
    "start_time": "2022-12-08T16:58:18.543Z"
   },
   {
    "duration": 4,
    "start_time": "2022-12-08T16:58:36.725Z"
   },
   {
    "duration": 17,
    "start_time": "2022-12-08T16:58:40.815Z"
   },
   {
    "duration": 7,
    "start_time": "2022-12-08T17:01:17.564Z"
   },
   {
    "duration": 15,
    "start_time": "2022-12-08T17:01:49.232Z"
   },
   {
    "duration": 8,
    "start_time": "2022-12-08T17:03:18.655Z"
   },
   {
    "duration": 14,
    "start_time": "2022-12-08T17:03:37.398Z"
   },
   {
    "duration": 12,
    "start_time": "2022-12-08T17:04:05.952Z"
   },
   {
    "duration": 7,
    "start_time": "2022-12-08T17:04:18.250Z"
   },
   {
    "duration": 13,
    "start_time": "2022-12-08T17:07:59.724Z"
   },
   {
    "duration": 16,
    "start_time": "2022-12-08T17:09:54.162Z"
   },
   {
    "duration": 15,
    "start_time": "2022-12-08T17:09:59.136Z"
   },
   {
    "duration": 114,
    "start_time": "2022-12-08T17:11:10.955Z"
   },
   {
    "duration": 46,
    "start_time": "2022-12-08T19:27:30.843Z"
   },
   {
    "duration": 500,
    "start_time": "2022-12-08T19:27:38.273Z"
   },
   {
    "duration": 22,
    "start_time": "2022-12-08T19:27:38.775Z"
   },
   {
    "duration": 29,
    "start_time": "2022-12-08T19:27:38.799Z"
   },
   {
    "duration": 34,
    "start_time": "2022-12-08T19:27:38.832Z"
   },
   {
    "duration": 53,
    "start_time": "2022-12-08T19:27:38.867Z"
   },
   {
    "duration": 9,
    "start_time": "2022-12-08T19:27:38.921Z"
   },
   {
    "duration": 17,
    "start_time": "2022-12-08T19:27:38.932Z"
   },
   {
    "duration": 27,
    "start_time": "2022-12-08T19:27:38.950Z"
   },
   {
    "duration": 36,
    "start_time": "2022-12-08T19:27:38.979Z"
   },
   {
    "duration": 25,
    "start_time": "2022-12-08T19:27:39.017Z"
   },
   {
    "duration": 64,
    "start_time": "2022-12-08T19:27:39.043Z"
   },
   {
    "duration": 15,
    "start_time": "2022-12-08T19:27:39.108Z"
   },
   {
    "duration": 12,
    "start_time": "2022-12-08T19:27:39.126Z"
   },
   {
    "duration": 39,
    "start_time": "2022-12-08T19:27:39.140Z"
   },
   {
    "duration": 42,
    "start_time": "2022-12-08T19:27:39.181Z"
   },
   {
    "duration": 36,
    "start_time": "2022-12-08T19:27:39.225Z"
   },
   {
    "duration": 12,
    "start_time": "2022-12-08T19:27:39.263Z"
   },
   {
    "duration": 42,
    "start_time": "2022-12-08T19:27:39.277Z"
   },
   {
    "duration": 33,
    "start_time": "2022-12-08T19:27:39.321Z"
   },
   {
    "duration": 33,
    "start_time": "2022-12-08T19:27:39.355Z"
   },
   {
    "duration": 41,
    "start_time": "2022-12-08T19:27:39.390Z"
   },
   {
    "duration": 25,
    "start_time": "2022-12-08T19:27:39.432Z"
   },
   {
    "duration": 32,
    "start_time": "2022-12-08T19:27:39.458Z"
   },
   {
    "duration": 25,
    "start_time": "2022-12-08T19:27:39.491Z"
   },
   {
    "duration": 0,
    "start_time": "2022-12-08T19:27:39.517Z"
   },
   {
    "duration": 0,
    "start_time": "2022-12-08T19:27:39.519Z"
   },
   {
    "duration": 0,
    "start_time": "2022-12-08T19:27:39.526Z"
   },
   {
    "duration": 20,
    "start_time": "2022-12-08T19:27:50.499Z"
   },
   {
    "duration": 31,
    "start_time": "2022-12-08T19:28:05.455Z"
   },
   {
    "duration": 10,
    "start_time": "2022-12-08T19:29:07.896Z"
   },
   {
    "duration": 9,
    "start_time": "2022-12-08T19:29:31.751Z"
   },
   {
    "duration": 1155,
    "start_time": "2022-12-08T19:30:00.182Z"
   },
   {
    "duration": 1135,
    "start_time": "2022-12-08T19:30:42.685Z"
   },
   {
    "duration": 20,
    "start_time": "2022-12-08T19:34:07.009Z"
   },
   {
    "duration": 7,
    "start_time": "2022-12-08T19:34:34.277Z"
   },
   {
    "duration": 4,
    "start_time": "2022-12-08T19:34:50.608Z"
   },
   {
    "duration": 9,
    "start_time": "2022-12-08T19:35:04.045Z"
   },
   {
    "duration": 8,
    "start_time": "2022-12-08T19:36:02.852Z"
   },
   {
    "duration": 73,
    "start_time": "2022-12-08T19:41:01.547Z"
   },
   {
    "duration": 32,
    "start_time": "2022-12-08T19:57:32.640Z"
   },
   {
    "duration": 15,
    "start_time": "2022-12-08T19:58:09.857Z"
   },
   {
    "duration": 16,
    "start_time": "2022-12-08T19:59:39.355Z"
   },
   {
    "duration": 17,
    "start_time": "2022-12-08T20:00:09.981Z"
   },
   {
    "duration": 50,
    "start_time": "2022-12-09T11:11:22.875Z"
   },
   {
    "duration": 492,
    "start_time": "2022-12-09T11:11:33.467Z"
   },
   {
    "duration": 21,
    "start_time": "2022-12-09T11:11:33.961Z"
   },
   {
    "duration": 14,
    "start_time": "2022-12-09T11:11:33.984Z"
   },
   {
    "duration": 10,
    "start_time": "2022-12-09T11:11:34.001Z"
   },
   {
    "duration": 43,
    "start_time": "2022-12-09T11:11:34.013Z"
   },
   {
    "duration": 4,
    "start_time": "2022-12-09T11:11:34.058Z"
   },
   {
    "duration": 24,
    "start_time": "2022-12-09T11:11:34.064Z"
   },
   {
    "duration": 16,
    "start_time": "2022-12-09T11:11:34.089Z"
   },
   {
    "duration": 10,
    "start_time": "2022-12-09T11:11:34.106Z"
   },
   {
    "duration": 9,
    "start_time": "2022-12-09T11:11:34.119Z"
   },
   {
    "duration": 34,
    "start_time": "2022-12-09T11:11:34.129Z"
   },
   {
    "duration": 10,
    "start_time": "2022-12-09T11:11:34.164Z"
   },
   {
    "duration": 8,
    "start_time": "2022-12-09T11:11:34.176Z"
   },
   {
    "duration": 14,
    "start_time": "2022-12-09T11:11:34.186Z"
   },
   {
    "duration": 36,
    "start_time": "2022-12-09T11:11:34.202Z"
   },
   {
    "duration": 15,
    "start_time": "2022-12-09T11:11:34.239Z"
   },
   {
    "duration": 3,
    "start_time": "2022-12-09T11:11:34.256Z"
   },
   {
    "duration": 13,
    "start_time": "2022-12-09T11:11:34.261Z"
   },
   {
    "duration": 11,
    "start_time": "2022-12-09T11:11:34.276Z"
   },
   {
    "duration": 19,
    "start_time": "2022-12-09T11:11:34.288Z"
   },
   {
    "duration": 22,
    "start_time": "2022-12-09T11:11:34.308Z"
   },
   {
    "duration": 39,
    "start_time": "2022-12-09T11:11:34.332Z"
   },
   {
    "duration": 15,
    "start_time": "2022-12-09T11:11:37.929Z"
   },
   {
    "duration": 16,
    "start_time": "2022-12-09T11:11:52.625Z"
   },
   {
    "duration": 7,
    "start_time": "2022-12-09T11:12:10.809Z"
   },
   {
    "duration": 21,
    "start_time": "2022-12-09T11:12:16.564Z"
   },
   {
    "duration": 9,
    "start_time": "2022-12-09T11:12:19.146Z"
   },
   {
    "duration": 19,
    "start_time": "2022-12-09T11:16:25.106Z"
   },
   {
    "duration": 18,
    "start_time": "2022-12-09T11:16:37.266Z"
   },
   {
    "duration": 18,
    "start_time": "2022-12-09T11:24:49.038Z"
   },
   {
    "duration": 9,
    "start_time": "2022-12-09T11:30:40.541Z"
   },
   {
    "duration": 23,
    "start_time": "2022-12-09T11:38:19.322Z"
   },
   {
    "duration": 19,
    "start_time": "2022-12-09T11:38:54.455Z"
   },
   {
    "duration": 69,
    "start_time": "2022-12-09T12:06:36.363Z"
   },
   {
    "duration": 66,
    "start_time": "2022-12-09T12:06:40.313Z"
   },
   {
    "duration": 66,
    "start_time": "2022-12-09T12:07:04.696Z"
   },
   {
    "duration": 65,
    "start_time": "2022-12-09T12:07:13.954Z"
   },
   {
    "duration": 65,
    "start_time": "2022-12-09T12:07:18.892Z"
   },
   {
    "duration": 77,
    "start_time": "2022-12-09T12:07:25.633Z"
   },
   {
    "duration": 9,
    "start_time": "2022-12-09T12:07:32.934Z"
   },
   {
    "duration": 12,
    "start_time": "2022-12-09T12:07:40.138Z"
   },
   {
    "duration": 20,
    "start_time": "2022-12-09T12:08:23.764Z"
   },
   {
    "duration": 12,
    "start_time": "2022-12-09T12:09:14.812Z"
   },
   {
    "duration": 5,
    "start_time": "2022-12-09T12:19:14.332Z"
   },
   {
    "duration": 4,
    "start_time": "2022-12-09T12:19:33.710Z"
   },
   {
    "duration": 5,
    "start_time": "2022-12-09T12:22:12.605Z"
   },
   {
    "duration": 73,
    "start_time": "2022-12-09T12:33:08.243Z"
   },
   {
    "duration": 81,
    "start_time": "2022-12-09T12:33:17.603Z"
   },
   {
    "duration": 72,
    "start_time": "2022-12-09T12:33:23.685Z"
   },
   {
    "duration": 69,
    "start_time": "2022-12-09T12:33:29.414Z"
   },
   {
    "duration": 40,
    "start_time": "2022-12-09T12:33:34.205Z"
   },
   {
    "duration": 171,
    "start_time": "2022-12-09T12:35:27.526Z"
   },
   {
    "duration": 78,
    "start_time": "2022-12-09T12:35:53.651Z"
   },
   {
    "duration": 74,
    "start_time": "2022-12-09T12:36:50.255Z"
   },
   {
    "duration": 29,
    "start_time": "2022-12-09T12:39:06.280Z"
   },
   {
    "duration": 28,
    "start_time": "2022-12-09T12:56:02.494Z"
   },
   {
    "duration": 31,
    "start_time": "2022-12-09T12:56:53.946Z"
   },
   {
    "duration": 53,
    "start_time": "2022-12-09T12:57:19.710Z"
   },
   {
    "duration": 34,
    "start_time": "2022-12-09T13:04:45.951Z"
   },
   {
    "duration": 86,
    "start_time": "2022-12-09T13:08:52.692Z"
   },
   {
    "duration": 6,
    "start_time": "2022-12-09T13:37:06.725Z"
   },
   {
    "duration": 9,
    "start_time": "2022-12-09T13:37:22.576Z"
   },
   {
    "duration": 77,
    "start_time": "2022-12-09T13:41:49.852Z"
   },
   {
    "duration": 15,
    "start_time": "2022-12-09T13:41:49.935Z"
   },
   {
    "duration": 21,
    "start_time": "2022-12-09T13:41:49.951Z"
   },
   {
    "duration": 17,
    "start_time": "2022-12-09T13:41:49.974Z"
   },
   {
    "duration": 53,
    "start_time": "2022-12-09T13:41:49.993Z"
   },
   {
    "duration": 3,
    "start_time": "2022-12-09T13:41:50.048Z"
   },
   {
    "duration": 27,
    "start_time": "2022-12-09T13:41:50.053Z"
   },
   {
    "duration": 13,
    "start_time": "2022-12-09T13:41:50.082Z"
   },
   {
    "duration": 13,
    "start_time": "2022-12-09T13:41:50.096Z"
   },
   {
    "duration": 11,
    "start_time": "2022-12-09T13:41:50.111Z"
   },
   {
    "duration": 47,
    "start_time": "2022-12-09T13:41:50.123Z"
   },
   {
    "duration": 8,
    "start_time": "2022-12-09T13:41:50.172Z"
   },
   {
    "duration": 7,
    "start_time": "2022-12-09T13:41:50.182Z"
   },
   {
    "duration": 15,
    "start_time": "2022-12-09T13:41:50.190Z"
   },
   {
    "duration": 16,
    "start_time": "2022-12-09T13:41:50.207Z"
   },
   {
    "duration": 21,
    "start_time": "2022-12-09T13:41:50.225Z"
   },
   {
    "duration": 3,
    "start_time": "2022-12-09T13:41:50.248Z"
   },
   {
    "duration": 14,
    "start_time": "2022-12-09T13:41:50.252Z"
   },
   {
    "duration": 5,
    "start_time": "2022-12-09T13:41:50.267Z"
   },
   {
    "duration": 7,
    "start_time": "2022-12-09T13:41:50.273Z"
   },
   {
    "duration": 19,
    "start_time": "2022-12-09T13:41:50.282Z"
   },
   {
    "duration": 30,
    "start_time": "2022-12-09T13:41:50.303Z"
   },
   {
    "duration": 26,
    "start_time": "2022-12-09T13:41:50.334Z"
   },
   {
    "duration": 9,
    "start_time": "2022-12-09T13:41:50.362Z"
   },
   {
    "duration": 18,
    "start_time": "2022-12-09T13:41:50.373Z"
   },
   {
    "duration": 16,
    "start_time": "2022-12-09T13:41:50.392Z"
   },
   {
    "duration": 22,
    "start_time": "2022-12-09T13:41:50.430Z"
   },
   {
    "duration": 45,
    "start_time": "2022-12-09T13:41:50.455Z"
   },
   {
    "duration": 28,
    "start_time": "2022-12-09T13:41:50.502Z"
   },
   {
    "duration": 51,
    "start_time": "2022-12-09T13:41:50.535Z"
   },
   {
    "duration": 64,
    "start_time": "2022-12-09T13:41:50.588Z"
   },
   {
    "duration": 56,
    "start_time": "2022-12-10T13:46:43.325Z"
   },
   {
    "duration": 55,
    "start_time": "2022-12-10T13:52:43.234Z"
   }
  ],
  "celltoolbar": "Edit Metadata",
  "colab": {
   "name": "dpp_template_part2.ipynb",
   "provenance": []
  },
  "kernelspec": {
   "display_name": "Python 3 (ipykernel)",
   "language": "python",
   "name": "python3"
  },
  "language_info": {
   "codemirror_mode": {
    "name": "ipython",
    "version": 3
   },
   "file_extension": ".py",
   "mimetype": "text/x-python",
   "name": "python",
   "nbconvert_exporter": "python",
   "pygments_lexer": "ipython3",
   "version": "3.10.9"
  },
  "toc": {
   "base_numbering": 1,
   "nav_menu": {},
   "number_sections": true,
   "sideBar": true,
   "skip_h1_title": true,
   "title_cell": "Table of Contents",
   "title_sidebar": "Contents",
   "toc_cell": false,
   "toc_position": {
    "height": "calc(100% - 180px)",
    "left": "10px",
    "top": "150px",
    "width": "286.075px"
   },
   "toc_section_display": true,
   "toc_window_display": true
  }
 },
 "nbformat": 4,
 "nbformat_minor": 5
}
