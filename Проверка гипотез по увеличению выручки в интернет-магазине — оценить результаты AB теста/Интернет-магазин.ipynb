{
 "cells": [
  {
   "cell_type": "markdown",
   "metadata": {},
   "source": [
    "<div style=\"border:solid Black 3px; padding: 40px\">\n",
    "\n",
    "# Приоритизация гипотез и анализ A/B теста интернет-магазина\n",
    "    \n",
    "Перед нами ряд гипотез о повышении выручки интернет-магазина и результаты A/B теста. Наша основная задача провести приоритизацию гипотез и анализ полученных данных во время теста.\n",
    "\n",
    "\n",
    "Ход исследования первой части:\n",
    "\n",
    "- загрузить данные и подготовить их для работы\n",
    "- провести приоритизацию с помощью фреймворка ICE\n",
    "- провести приоритизацию с помощью фреймворка RICE\n",
    "- сравнить полученные результаты и объяснить их\n",
    "    \n",
    "Описание данных:\n",
    "- `Hypothesis` — краткое описание гипотезы;\n",
    "- `Reach` — охват пользователей по 10-балльной шкале;\n",
    "- `Impact` — влияние на пользователей по 10-балльной шкале;\n",
    "- `Confidence` — уверенность в гипотезе по 10-балльной шкале;\n",
    "- `Efforts` — затраты ресурсов на проверку гипотезы по 10-балльной шкале.\n",
    "\n",
    "Ход исследования второй части:\n",
    "- загрузить данные и подготовить их для работы\n",
    "- построить графики кумулятивных метрик по группам, а также графики их относительного изменения\n",
    "- с помощью точечных графиков и 95, 99 перцентилей установить аномальных пользователей\n",
    "- с помощью теста Уилкоксона-Манна-Уитни найти статистическую значимость различий  в среднем числе заказов на пользователя и среднем чеке между группами по «сырым» данным, а затем по «очищенным»\n",
    "- сделать вывод\n",
    "\n",
    "Описание orders:\n",
    "- `transactionId` — идентификатор заказа;\n",
    "- `visitorId` — идентификатор пользователя, совершившего заказ;\n",
    "- `date` — дата, когда был совершён заказ;\n",
    "- `revenue` — выручка заказа;\n",
    "- `group` — группа A/B-теста, в которую попал заказ.\n",
    "    \n",
    "Описание visitors:\n",
    "- `date` — дата;\n",
    "- `group` — группа A/B-теста;\n",
    "- `visitors` — количество пользователей в указанную дату в указанной группе A/B-теста"
   ]
  },
  {
   "cell_type": "markdown",
   "metadata": {},
   "source": [
    "## Первая часть"
   ]
  },
  {
   "cell_type": "markdown",
   "metadata": {},
   "source": [
    "### Загрузка данных"
   ]
  },
  {
   "cell_type": "code",
   "execution_count": 1,
   "metadata": {},
   "outputs": [],
   "source": [
    "import pandas as pd\n",
    "import datetime as dt\n",
    "import numpy as np\n",
    "import matplotlib.pyplot as plt\n",
    "from pandas.plotting import register_matplotlib_converters\n",
    "import warnings\n",
    "import scipy.stats as stats"
   ]
  },
  {
   "cell_type": "code",
   "execution_count": 2,
   "metadata": {},
   "outputs": [],
   "source": [
    "data_hyp = pd.read_csv('hypothesis.csv')"
   ]
  },
  {
   "cell_type": "code",
   "execution_count": 3,
   "metadata": {},
   "outputs": [
    {
     "data": {
      "text/html": [
       "<div>\n",
       "<style scoped>\n",
       "    .dataframe tbody tr th:only-of-type {\n",
       "        vertical-align: middle;\n",
       "    }\n",
       "\n",
       "    .dataframe tbody tr th {\n",
       "        vertical-align: top;\n",
       "    }\n",
       "\n",
       "    .dataframe thead th {\n",
       "        text-align: right;\n",
       "    }\n",
       "</style>\n",
       "<table border=\"1\" class=\"dataframe\">\n",
       "  <thead>\n",
       "    <tr style=\"text-align: right;\">\n",
       "      <th></th>\n",
       "      <th>Hypothesis</th>\n",
       "      <th>Reach</th>\n",
       "      <th>Impact</th>\n",
       "      <th>Confidence</th>\n",
       "      <th>Efforts</th>\n",
       "    </tr>\n",
       "  </thead>\n",
       "  <tbody>\n",
       "    <tr>\n",
       "      <th>0</th>\n",
       "      <td>Добавить два новых канала привлечения трафика, что позволит привлекать на 30% больше пользователей</td>\n",
       "      <td>3</td>\n",
       "      <td>10</td>\n",
       "      <td>8</td>\n",
       "      <td>6</td>\n",
       "    </tr>\n",
       "    <tr>\n",
       "      <th>1</th>\n",
       "      <td>Запустить собственную службу доставки, что сократит срок доставки заказов</td>\n",
       "      <td>2</td>\n",
       "      <td>5</td>\n",
       "      <td>4</td>\n",
       "      <td>10</td>\n",
       "    </tr>\n",
       "    <tr>\n",
       "      <th>2</th>\n",
       "      <td>Добавить блоки рекомендаций товаров на сайт интернет магазина, чтобы повысить конверсию и средний чек заказа</td>\n",
       "      <td>8</td>\n",
       "      <td>3</td>\n",
       "      <td>7</td>\n",
       "      <td>3</td>\n",
       "    </tr>\n",
       "    <tr>\n",
       "      <th>3</th>\n",
       "      <td>Изменить структура категорий, что увеличит конверсию, т.к. пользователи быстрее найдут нужный товар</td>\n",
       "      <td>8</td>\n",
       "      <td>3</td>\n",
       "      <td>3</td>\n",
       "      <td>8</td>\n",
       "    </tr>\n",
       "    <tr>\n",
       "      <th>4</th>\n",
       "      <td>Изменить цвет фона главной страницы, чтобы увеличить вовлеченность пользователей</td>\n",
       "      <td>3</td>\n",
       "      <td>1</td>\n",
       "      <td>1</td>\n",
       "      <td>1</td>\n",
       "    </tr>\n",
       "    <tr>\n",
       "      <th>5</th>\n",
       "      <td>Добавить страницу отзывов клиентов о магазине, что позволит увеличить количество заказов</td>\n",
       "      <td>3</td>\n",
       "      <td>2</td>\n",
       "      <td>2</td>\n",
       "      <td>3</td>\n",
       "    </tr>\n",
       "    <tr>\n",
       "      <th>6</th>\n",
       "      <td>Показать на главной странице баннеры с актуальными акциями и распродажами, чтобы увеличить конверсию</td>\n",
       "      <td>5</td>\n",
       "      <td>3</td>\n",
       "      <td>8</td>\n",
       "      <td>3</td>\n",
       "    </tr>\n",
       "    <tr>\n",
       "      <th>7</th>\n",
       "      <td>Добавить форму подписки на все основные страницы, чтобы собрать базу клиентов для email-рассылок</td>\n",
       "      <td>10</td>\n",
       "      <td>7</td>\n",
       "      <td>8</td>\n",
       "      <td>5</td>\n",
       "    </tr>\n",
       "    <tr>\n",
       "      <th>8</th>\n",
       "      <td>Запустить акцию, дающую скидку на товар в день рождения</td>\n",
       "      <td>1</td>\n",
       "      <td>9</td>\n",
       "      <td>9</td>\n",
       "      <td>5</td>\n",
       "    </tr>\n",
       "  </tbody>\n",
       "</table>\n",
       "</div>"
      ],
      "text/plain": [
       "                                                                                                     Hypothesis  \\\n",
       "0  Добавить два новых канала привлечения трафика, что позволит привлекать на 30% больше пользователей             \n",
       "1  Запустить собственную службу доставки, что сократит срок доставки заказов                                      \n",
       "2  Добавить блоки рекомендаций товаров на сайт интернет магазина, чтобы повысить конверсию и средний чек заказа   \n",
       "3  Изменить структура категорий, что увеличит конверсию, т.к. пользователи быстрее найдут нужный товар            \n",
       "4  Изменить цвет фона главной страницы, чтобы увеличить вовлеченность пользователей                               \n",
       "5  Добавить страницу отзывов клиентов о магазине, что позволит увеличить количество заказов                       \n",
       "6  Показать на главной странице баннеры с актуальными акциями и распродажами, чтобы увеличить конверсию           \n",
       "7  Добавить форму подписки на все основные страницы, чтобы собрать базу клиентов для email-рассылок               \n",
       "8  Запустить акцию, дающую скидку на товар в день рождения                                                        \n",
       "\n",
       "   Reach  Impact  Confidence  Efforts  \n",
       "0  3      10      8           6        \n",
       "1  2      5       4           10       \n",
       "2  8      3       7           3        \n",
       "3  8      3       3           8        \n",
       "4  3      1       1           1        \n",
       "5  3      2       2           3        \n",
       "6  5      3       8           3        \n",
       "7  10     7       8           5        \n",
       "8  1      9       9           5        "
      ]
     },
     "execution_count": 3,
     "metadata": {},
     "output_type": "execute_result"
    }
   ],
   "source": [
    "pd.set_option('display.max_colwidth', False)\n",
    "data_hyp"
   ]
  },
  {
   "cell_type": "code",
   "execution_count": 4,
   "metadata": {},
   "outputs": [
    {
     "name": "stdout",
     "output_type": "stream",
     "text": [
      "<class 'pandas.core.frame.DataFrame'>\n",
      "RangeIndex: 9 entries, 0 to 8\n",
      "Data columns (total 5 columns):\n",
      " #   Column      Non-Null Count  Dtype \n",
      "---  ------      --------------  ----- \n",
      " 0   Hypothesis  9 non-null      object\n",
      " 1   Reach       9 non-null      int64 \n",
      " 2   Impact      9 non-null      int64 \n",
      " 3   Confidence  9 non-null      int64 \n",
      " 4   Efforts     9 non-null      int64 \n",
      "dtypes: int64(4), object(1)\n",
      "memory usage: 488.0+ bytes\n"
     ]
    }
   ],
   "source": [
    "data_hyp.info()"
   ]
  },
  {
   "cell_type": "code",
   "execution_count": 5,
   "metadata": {},
   "outputs": [
    {
     "data": {
      "text/plain": [
       "array(['Добавить два новых канала привлечения трафика, что позволит привлекать на 30% больше пользователей',\n",
       "       'Запустить собственную службу доставки, что сократит срок доставки заказов',\n",
       "       'Добавить блоки рекомендаций товаров на сайт интернет магазина, чтобы повысить конверсию и средний чек заказа',\n",
       "       'Изменить структура категорий, что увеличит конверсию, т.к. пользователи быстрее найдут нужный товар',\n",
       "       'Изменить цвет фона главной страницы, чтобы увеличить вовлеченность пользователей',\n",
       "       'Добавить страницу отзывов клиентов о магазине, что позволит увеличить количество заказов',\n",
       "       'Показать на главной странице баннеры с актуальными акциями и распродажами, чтобы увеличить конверсию',\n",
       "       'Добавить форму подписки на все основные страницы, чтобы собрать базу клиентов для email-рассылок',\n",
       "       'Запустить акцию, дающую скидку на товар в день рождения'],\n",
       "      dtype=object)"
      ]
     },
     "execution_count": 5,
     "metadata": {},
     "output_type": "execute_result"
    }
   ],
   "source": [
    "data_hyp['Hypothesis'].unique()"
   ]
  },
  {
   "cell_type": "markdown",
   "metadata": {},
   "source": [
    "Перед нами 9 различных гипотез с параметрами Reach, Impact, Confidence, Efforts. Видим, что дубликатов и пропусков в данных нет и типы данных менять тоже не нужно. Значит, можем перейти к приоритизации гипотез. \n",
    "\n",
    "Фреймворк ICE учитывает как сильно повлияет изменение на наблюдаемую величину (Impact), уверенность в том, что повлияет именно таким образом (Confidence), а также затраты на это изменение (Efforts) ICE = Impact*Confidence/Efforts\n",
    "\n",
    "Фреймворк RICE дополнительно учитывает количество пользователей, на которое повлияет изменение (Reach) RICE = Reach * Impact* Confidence/Efforts"
   ]
  },
  {
   "cell_type": "markdown",
   "metadata": {},
   "source": [
    "### Фреймворк ICE"
   ]
  },
  {
   "cell_type": "code",
   "execution_count": 6,
   "metadata": {},
   "outputs": [
    {
     "data": {
      "text/html": [
       "<div>\n",
       "<style scoped>\n",
       "    .dataframe tbody tr th:only-of-type {\n",
       "        vertical-align: middle;\n",
       "    }\n",
       "\n",
       "    .dataframe tbody tr th {\n",
       "        vertical-align: top;\n",
       "    }\n",
       "\n",
       "    .dataframe thead th {\n",
       "        text-align: right;\n",
       "    }\n",
       "</style>\n",
       "<table border=\"1\" class=\"dataframe\">\n",
       "  <thead>\n",
       "    <tr style=\"text-align: right;\">\n",
       "      <th></th>\n",
       "      <th>Hypothesis</th>\n",
       "      <th>Reach</th>\n",
       "      <th>Impact</th>\n",
       "      <th>Confidence</th>\n",
       "      <th>Efforts</th>\n",
       "      <th>ICE</th>\n",
       "    </tr>\n",
       "  </thead>\n",
       "  <tbody>\n",
       "    <tr>\n",
       "      <th>8</th>\n",
       "      <td>Запустить акцию, дающую скидку на товар в день рождения</td>\n",
       "      <td>1</td>\n",
       "      <td>9</td>\n",
       "      <td>9</td>\n",
       "      <td>5</td>\n",
       "      <td>16.20</td>\n",
       "    </tr>\n",
       "    <tr>\n",
       "      <th>0</th>\n",
       "      <td>Добавить два новых канала привлечения трафика, что позволит привлекать на 30% больше пользователей</td>\n",
       "      <td>3</td>\n",
       "      <td>10</td>\n",
       "      <td>8</td>\n",
       "      <td>6</td>\n",
       "      <td>13.33</td>\n",
       "    </tr>\n",
       "    <tr>\n",
       "      <th>7</th>\n",
       "      <td>Добавить форму подписки на все основные страницы, чтобы собрать базу клиентов для email-рассылок</td>\n",
       "      <td>10</td>\n",
       "      <td>7</td>\n",
       "      <td>8</td>\n",
       "      <td>5</td>\n",
       "      <td>11.20</td>\n",
       "    </tr>\n",
       "    <tr>\n",
       "      <th>6</th>\n",
       "      <td>Показать на главной странице баннеры с актуальными акциями и распродажами, чтобы увеличить конверсию</td>\n",
       "      <td>5</td>\n",
       "      <td>3</td>\n",
       "      <td>8</td>\n",
       "      <td>3</td>\n",
       "      <td>8.00</td>\n",
       "    </tr>\n",
       "    <tr>\n",
       "      <th>2</th>\n",
       "      <td>Добавить блоки рекомендаций товаров на сайт интернет магазина, чтобы повысить конверсию и средний чек заказа</td>\n",
       "      <td>8</td>\n",
       "      <td>3</td>\n",
       "      <td>7</td>\n",
       "      <td>3</td>\n",
       "      <td>7.00</td>\n",
       "    </tr>\n",
       "    <tr>\n",
       "      <th>1</th>\n",
       "      <td>Запустить собственную службу доставки, что сократит срок доставки заказов</td>\n",
       "      <td>2</td>\n",
       "      <td>5</td>\n",
       "      <td>4</td>\n",
       "      <td>10</td>\n",
       "      <td>2.00</td>\n",
       "    </tr>\n",
       "    <tr>\n",
       "      <th>5</th>\n",
       "      <td>Добавить страницу отзывов клиентов о магазине, что позволит увеличить количество заказов</td>\n",
       "      <td>3</td>\n",
       "      <td>2</td>\n",
       "      <td>2</td>\n",
       "      <td>3</td>\n",
       "      <td>1.33</td>\n",
       "    </tr>\n",
       "    <tr>\n",
       "      <th>3</th>\n",
       "      <td>Изменить структура категорий, что увеличит конверсию, т.к. пользователи быстрее найдут нужный товар</td>\n",
       "      <td>8</td>\n",
       "      <td>3</td>\n",
       "      <td>3</td>\n",
       "      <td>8</td>\n",
       "      <td>1.12</td>\n",
       "    </tr>\n",
       "    <tr>\n",
       "      <th>4</th>\n",
       "      <td>Изменить цвет фона главной страницы, чтобы увеличить вовлеченность пользователей</td>\n",
       "      <td>3</td>\n",
       "      <td>1</td>\n",
       "      <td>1</td>\n",
       "      <td>1</td>\n",
       "      <td>1.00</td>\n",
       "    </tr>\n",
       "  </tbody>\n",
       "</table>\n",
       "</div>"
      ],
      "text/plain": [
       "                                                                                                     Hypothesis  \\\n",
       "8  Запустить акцию, дающую скидку на товар в день рождения                                                        \n",
       "0  Добавить два новых канала привлечения трафика, что позволит привлекать на 30% больше пользователей             \n",
       "7  Добавить форму подписки на все основные страницы, чтобы собрать базу клиентов для email-рассылок               \n",
       "6  Показать на главной странице баннеры с актуальными акциями и распродажами, чтобы увеличить конверсию           \n",
       "2  Добавить блоки рекомендаций товаров на сайт интернет магазина, чтобы повысить конверсию и средний чек заказа   \n",
       "1  Запустить собственную службу доставки, что сократит срок доставки заказов                                      \n",
       "5  Добавить страницу отзывов клиентов о магазине, что позволит увеличить количество заказов                       \n",
       "3  Изменить структура категорий, что увеличит конверсию, т.к. пользователи быстрее найдут нужный товар            \n",
       "4  Изменить цвет фона главной страницы, чтобы увеличить вовлеченность пользователей                               \n",
       "\n",
       "   Reach  Impact  Confidence  Efforts    ICE  \n",
       "8  1      9       9           5        16.20  \n",
       "0  3      10      8           6        13.33  \n",
       "7  10     7       8           5        11.20  \n",
       "6  5      3       8           3        8.00   \n",
       "2  8      3       7           3        7.00   \n",
       "1  2      5       4           10       2.00   \n",
       "5  3      2       2           3        1.33   \n",
       "3  8      3       3           8        1.12   \n",
       "4  3      1       1           1        1.00   "
      ]
     },
     "execution_count": 6,
     "metadata": {},
     "output_type": "execute_result"
    }
   ],
   "source": [
    "data_hyp['ICE'] = round(data_hyp['Impact']*data_hyp['Confidence']/data_hyp['Efforts'], 2)\n",
    "data_hyp.sort_values(by='ICE', ascending=False)"
   ]
  },
  {
   "cell_type": "markdown",
   "metadata": {},
   "source": [
    "Согласно ICE самые перспективные гипотезы 8, 0, 7, а самые неперспективные - 4, 3, 5. У гипотезы-лидера практически самое большое влияние на пользователей и такая же уверенность в том, что они повлияют именно таким образом. Также введение акции на день рождения не требует максимальных затрат на тестирование."
   ]
  },
  {
   "cell_type": "markdown",
   "metadata": {},
   "source": [
    "### Фреймворк RICE"
   ]
  },
  {
   "cell_type": "code",
   "execution_count": 7,
   "metadata": {
    "scrolled": true
   },
   "outputs": [
    {
     "data": {
      "text/html": [
       "<div>\n",
       "<style scoped>\n",
       "    .dataframe tbody tr th:only-of-type {\n",
       "        vertical-align: middle;\n",
       "    }\n",
       "\n",
       "    .dataframe tbody tr th {\n",
       "        vertical-align: top;\n",
       "    }\n",
       "\n",
       "    .dataframe thead th {\n",
       "        text-align: right;\n",
       "    }\n",
       "</style>\n",
       "<table border=\"1\" class=\"dataframe\">\n",
       "  <thead>\n",
       "    <tr style=\"text-align: right;\">\n",
       "      <th></th>\n",
       "      <th>Hypothesis</th>\n",
       "      <th>Reach</th>\n",
       "      <th>Impact</th>\n",
       "      <th>Confidence</th>\n",
       "      <th>Efforts</th>\n",
       "      <th>ICE</th>\n",
       "      <th>RICE</th>\n",
       "    </tr>\n",
       "  </thead>\n",
       "  <tbody>\n",
       "    <tr>\n",
       "      <th>7</th>\n",
       "      <td>Добавить форму подписки на все основные страницы, чтобы собрать базу клиентов для email-рассылок</td>\n",
       "      <td>10</td>\n",
       "      <td>7</td>\n",
       "      <td>8</td>\n",
       "      <td>5</td>\n",
       "      <td>11.20</td>\n",
       "      <td>112.0</td>\n",
       "    </tr>\n",
       "    <tr>\n",
       "      <th>2</th>\n",
       "      <td>Добавить блоки рекомендаций товаров на сайт интернет магазина, чтобы повысить конверсию и средний чек заказа</td>\n",
       "      <td>8</td>\n",
       "      <td>3</td>\n",
       "      <td>7</td>\n",
       "      <td>3</td>\n",
       "      <td>7.00</td>\n",
       "      <td>56.0</td>\n",
       "    </tr>\n",
       "    <tr>\n",
       "      <th>0</th>\n",
       "      <td>Добавить два новых канала привлечения трафика, что позволит привлекать на 30% больше пользователей</td>\n",
       "      <td>3</td>\n",
       "      <td>10</td>\n",
       "      <td>8</td>\n",
       "      <td>6</td>\n",
       "      <td>13.33</td>\n",
       "      <td>40.0</td>\n",
       "    </tr>\n",
       "    <tr>\n",
       "      <th>6</th>\n",
       "      <td>Показать на главной странице баннеры с актуальными акциями и распродажами, чтобы увеличить конверсию</td>\n",
       "      <td>5</td>\n",
       "      <td>3</td>\n",
       "      <td>8</td>\n",
       "      <td>3</td>\n",
       "      <td>8.00</td>\n",
       "      <td>40.0</td>\n",
       "    </tr>\n",
       "    <tr>\n",
       "      <th>8</th>\n",
       "      <td>Запустить акцию, дающую скидку на товар в день рождения</td>\n",
       "      <td>1</td>\n",
       "      <td>9</td>\n",
       "      <td>9</td>\n",
       "      <td>5</td>\n",
       "      <td>16.20</td>\n",
       "      <td>16.2</td>\n",
       "    </tr>\n",
       "    <tr>\n",
       "      <th>3</th>\n",
       "      <td>Изменить структура категорий, что увеличит конверсию, т.к. пользователи быстрее найдут нужный товар</td>\n",
       "      <td>8</td>\n",
       "      <td>3</td>\n",
       "      <td>3</td>\n",
       "      <td>8</td>\n",
       "      <td>1.12</td>\n",
       "      <td>9.0</td>\n",
       "    </tr>\n",
       "    <tr>\n",
       "      <th>1</th>\n",
       "      <td>Запустить собственную службу доставки, что сократит срок доставки заказов</td>\n",
       "      <td>2</td>\n",
       "      <td>5</td>\n",
       "      <td>4</td>\n",
       "      <td>10</td>\n",
       "      <td>2.00</td>\n",
       "      <td>4.0</td>\n",
       "    </tr>\n",
       "    <tr>\n",
       "      <th>5</th>\n",
       "      <td>Добавить страницу отзывов клиентов о магазине, что позволит увеличить количество заказов</td>\n",
       "      <td>3</td>\n",
       "      <td>2</td>\n",
       "      <td>2</td>\n",
       "      <td>3</td>\n",
       "      <td>1.33</td>\n",
       "      <td>4.0</td>\n",
       "    </tr>\n",
       "    <tr>\n",
       "      <th>4</th>\n",
       "      <td>Изменить цвет фона главной страницы, чтобы увеличить вовлеченность пользователей</td>\n",
       "      <td>3</td>\n",
       "      <td>1</td>\n",
       "      <td>1</td>\n",
       "      <td>1</td>\n",
       "      <td>1.00</td>\n",
       "      <td>3.0</td>\n",
       "    </tr>\n",
       "  </tbody>\n",
       "</table>\n",
       "</div>"
      ],
      "text/plain": [
       "                                                                                                     Hypothesis  \\\n",
       "7  Добавить форму подписки на все основные страницы, чтобы собрать базу клиентов для email-рассылок               \n",
       "2  Добавить блоки рекомендаций товаров на сайт интернет магазина, чтобы повысить конверсию и средний чек заказа   \n",
       "0  Добавить два новых канала привлечения трафика, что позволит привлекать на 30% больше пользователей             \n",
       "6  Показать на главной странице баннеры с актуальными акциями и распродажами, чтобы увеличить конверсию           \n",
       "8  Запустить акцию, дающую скидку на товар в день рождения                                                        \n",
       "3  Изменить структура категорий, что увеличит конверсию, т.к. пользователи быстрее найдут нужный товар            \n",
       "1  Запустить собственную службу доставки, что сократит срок доставки заказов                                      \n",
       "5  Добавить страницу отзывов клиентов о магазине, что позволит увеличить количество заказов                       \n",
       "4  Изменить цвет фона главной страницы, чтобы увеличить вовлеченность пользователей                               \n",
       "\n",
       "   Reach  Impact  Confidence  Efforts    ICE   RICE  \n",
       "7  10     7       8           5        11.20  112.0  \n",
       "2  8      3       7           3        7.00   56.0   \n",
       "0  3      10      8           6        13.33  40.0   \n",
       "6  5      3       8           3        8.00   40.0   \n",
       "8  1      9       9           5        16.20  16.2   \n",
       "3  8      3       3           8        1.12   9.0    \n",
       "1  2      5       4           10       2.00   4.0    \n",
       "5  3      2       2           3        1.33   4.0    \n",
       "4  3      1       1           1        1.00   3.0    "
      ]
     },
     "execution_count": 7,
     "metadata": {},
     "output_type": "execute_result"
    }
   ],
   "source": [
    "data_hyp['RICE'] = round(data_hyp['Impact']*data_hyp['Confidence']*data_hyp['Reach']/data_hyp['Efforts'], 2)\n",
    "data_hyp.sort_values(by='RICE', ascending=False)"
   ]
  },
  {
   "cell_type": "markdown",
   "metadata": {},
   "source": [
    "Согласно фреймворку RICE самые переспективные гипотезы 7, 2, 0, а самые неперспективные 4, 5, 1."
   ]
  },
  {
   "cell_type": "markdown",
   "metadata": {},
   "source": [
    "`Вывод:`Видим, что из-за того, что гипотеза 8 влияет на небольшое количество людей, в рамках фреймворка RICE она сдвигается с первого на пятое место (к сожалению, День рождения только раз в году). Гипотезы 7 и 0 сохраняют лидирующие позиции, поскольку у гипотезы 7 максимальный параметр Reach (добавление формы подписки будет видно всем клиентам), а гипотеза 8 обладает максимальным Impact так как добавление канала привлечения напрямую влияет на количество покупателей. Также согласно RICE гипотеза 3 больше не является одной из самых неперспективных. Изменение структуры сайта увидят все пользователи, поэтому у гипотезы 3 высокий Reach, что и подняло её в рейтинге гипотез."
   ]
  },
  {
   "cell_type": "markdown",
   "metadata": {},
   "source": [
    "## Вторая часть"
   ]
  },
  {
   "cell_type": "markdown",
   "metadata": {},
   "source": [
    "### Загрузка данных"
   ]
  },
  {
   "cell_type": "code",
   "execution_count": 6,
   "metadata": {},
   "outputs": [
    {
     "data": {
      "text/html": [
       "<div>\n",
       "<style scoped>\n",
       "    .dataframe tbody tr th:only-of-type {\n",
       "        vertical-align: middle;\n",
       "    }\n",
       "\n",
       "    .dataframe tbody tr th {\n",
       "        vertical-align: top;\n",
       "    }\n",
       "\n",
       "    .dataframe thead th {\n",
       "        text-align: right;\n",
       "    }\n",
       "</style>\n",
       "<table border=\"1\" class=\"dataframe\">\n",
       "  <thead>\n",
       "    <tr style=\"text-align: right;\">\n",
       "      <th></th>\n",
       "      <th>transactionId</th>\n",
       "      <th>visitorId</th>\n",
       "      <th>date</th>\n",
       "      <th>revenue</th>\n",
       "      <th>group</th>\n",
       "    </tr>\n",
       "  </thead>\n",
       "  <tbody>\n",
       "    <tr>\n",
       "      <th>0</th>\n",
       "      <td>3667963787</td>\n",
       "      <td>3312258926</td>\n",
       "      <td>2019-08-15</td>\n",
       "      <td>1650</td>\n",
       "      <td>B</td>\n",
       "    </tr>\n",
       "    <tr>\n",
       "      <th>1</th>\n",
       "      <td>2804400009</td>\n",
       "      <td>3642806036</td>\n",
       "      <td>2019-08-15</td>\n",
       "      <td>730</td>\n",
       "      <td>B</td>\n",
       "    </tr>\n",
       "    <tr>\n",
       "      <th>2</th>\n",
       "      <td>2961555356</td>\n",
       "      <td>4069496402</td>\n",
       "      <td>2019-08-15</td>\n",
       "      <td>400</td>\n",
       "      <td>A</td>\n",
       "    </tr>\n",
       "    <tr>\n",
       "      <th>3</th>\n",
       "      <td>3797467345</td>\n",
       "      <td>1196621759</td>\n",
       "      <td>2019-08-15</td>\n",
       "      <td>9759</td>\n",
       "      <td>B</td>\n",
       "    </tr>\n",
       "    <tr>\n",
       "      <th>4</th>\n",
       "      <td>2282983706</td>\n",
       "      <td>2322279887</td>\n",
       "      <td>2019-08-15</td>\n",
       "      <td>2308</td>\n",
       "      <td>B</td>\n",
       "    </tr>\n",
       "    <tr>\n",
       "      <th>...</th>\n",
       "      <td>...</td>\n",
       "      <td>...</td>\n",
       "      <td>...</td>\n",
       "      <td>...</td>\n",
       "      <td>...</td>\n",
       "    </tr>\n",
       "    <tr>\n",
       "      <th>1192</th>\n",
       "      <td>2662137336</td>\n",
       "      <td>3733762160</td>\n",
       "      <td>2019-08-14</td>\n",
       "      <td>6490</td>\n",
       "      <td>B</td>\n",
       "    </tr>\n",
       "    <tr>\n",
       "      <th>1193</th>\n",
       "      <td>2203539145</td>\n",
       "      <td>370388673</td>\n",
       "      <td>2019-08-14</td>\n",
       "      <td>3190</td>\n",
       "      <td>A</td>\n",
       "    </tr>\n",
       "    <tr>\n",
       "      <th>1194</th>\n",
       "      <td>1807773912</td>\n",
       "      <td>573423106</td>\n",
       "      <td>2019-08-14</td>\n",
       "      <td>10550</td>\n",
       "      <td>A</td>\n",
       "    </tr>\n",
       "    <tr>\n",
       "      <th>1195</th>\n",
       "      <td>1947021204</td>\n",
       "      <td>1614305549</td>\n",
       "      <td>2019-08-14</td>\n",
       "      <td>100</td>\n",
       "      <td>A</td>\n",
       "    </tr>\n",
       "    <tr>\n",
       "      <th>1196</th>\n",
       "      <td>3936777065</td>\n",
       "      <td>2108080724</td>\n",
       "      <td>2019-08-15</td>\n",
       "      <td>202740</td>\n",
       "      <td>B</td>\n",
       "    </tr>\n",
       "  </tbody>\n",
       "</table>\n",
       "<p>1197 rows × 5 columns</p>\n",
       "</div>"
      ],
      "text/plain": [
       "      transactionId   visitorId        date  revenue group\n",
       "0     3667963787     3312258926  2019-08-15  1650     B   \n",
       "1     2804400009     3642806036  2019-08-15  730      B   \n",
       "2     2961555356     4069496402  2019-08-15  400      A   \n",
       "3     3797467345     1196621759  2019-08-15  9759     B   \n",
       "4     2282983706     2322279887  2019-08-15  2308     B   \n",
       "...          ...            ...         ...   ...    ..   \n",
       "1192  2662137336     3733762160  2019-08-14  6490     B   \n",
       "1193  2203539145     370388673   2019-08-14  3190     A   \n",
       "1194  1807773912     573423106   2019-08-14  10550    A   \n",
       "1195  1947021204     1614305549  2019-08-14  100      A   \n",
       "1196  3936777065     2108080724  2019-08-15  202740   B   \n",
       "\n",
       "[1197 rows x 5 columns]"
      ]
     },
     "execution_count": 6,
     "metadata": {},
     "output_type": "execute_result"
    }
   ],
   "source": [
    "orders = pd.read_csv('orders.csv')\n",
    "orders"
   ]
  },
  {
   "cell_type": "code",
   "execution_count": 7,
   "metadata": {},
   "outputs": [
    {
     "name": "stdout",
     "output_type": "stream",
     "text": [
      "<class 'pandas.core.frame.DataFrame'>\n",
      "RangeIndex: 1197 entries, 0 to 1196\n",
      "Data columns (total 5 columns):\n",
      " #   Column         Non-Null Count  Dtype \n",
      "---  ------         --------------  ----- \n",
      " 0   transactionId  1197 non-null   int64 \n",
      " 1   visitorId      1197 non-null   int64 \n",
      " 2   date           1197 non-null   object\n",
      " 3   revenue        1197 non-null   int64 \n",
      " 4   group          1197 non-null   object\n",
      "dtypes: int64(3), object(2)\n",
      "memory usage: 46.9+ KB\n"
     ]
    }
   ],
   "source": [
    "orders.info()"
   ]
  },
  {
   "cell_type": "code",
   "execution_count": 10,
   "metadata": {},
   "outputs": [
    {
     "data": {
      "text/plain": [
       "0"
      ]
     },
     "execution_count": 10,
     "metadata": {},
     "output_type": "execute_result"
    }
   ],
   "source": [
    "orders.duplicated().sum()"
   ]
  },
  {
   "cell_type": "code",
   "execution_count": 8,
   "metadata": {},
   "outputs": [
    {
     "data": {
      "text/html": [
       "<div>\n",
       "<style scoped>\n",
       "    .dataframe tbody tr th:only-of-type {\n",
       "        vertical-align: middle;\n",
       "    }\n",
       "\n",
       "    .dataframe tbody tr th {\n",
       "        vertical-align: top;\n",
       "    }\n",
       "\n",
       "    .dataframe thead th {\n",
       "        text-align: right;\n",
       "    }\n",
       "</style>\n",
       "<table border=\"1\" class=\"dataframe\">\n",
       "  <thead>\n",
       "    <tr style=\"text-align: right;\">\n",
       "      <th></th>\n",
       "      <th>date</th>\n",
       "      <th>group</th>\n",
       "      <th>visitors</th>\n",
       "    </tr>\n",
       "  </thead>\n",
       "  <tbody>\n",
       "    <tr>\n",
       "      <th>0</th>\n",
       "      <td>2019-08-01</td>\n",
       "      <td>A</td>\n",
       "      <td>719</td>\n",
       "    </tr>\n",
       "    <tr>\n",
       "      <th>1</th>\n",
       "      <td>2019-08-02</td>\n",
       "      <td>A</td>\n",
       "      <td>619</td>\n",
       "    </tr>\n",
       "    <tr>\n",
       "      <th>2</th>\n",
       "      <td>2019-08-03</td>\n",
       "      <td>A</td>\n",
       "      <td>507</td>\n",
       "    </tr>\n",
       "    <tr>\n",
       "      <th>3</th>\n",
       "      <td>2019-08-04</td>\n",
       "      <td>A</td>\n",
       "      <td>717</td>\n",
       "    </tr>\n",
       "    <tr>\n",
       "      <th>4</th>\n",
       "      <td>2019-08-05</td>\n",
       "      <td>A</td>\n",
       "      <td>756</td>\n",
       "    </tr>\n",
       "    <tr>\n",
       "      <th>...</th>\n",
       "      <td>...</td>\n",
       "      <td>...</td>\n",
       "      <td>...</td>\n",
       "    </tr>\n",
       "    <tr>\n",
       "      <th>57</th>\n",
       "      <td>2019-08-27</td>\n",
       "      <td>B</td>\n",
       "      <td>720</td>\n",
       "    </tr>\n",
       "    <tr>\n",
       "      <th>58</th>\n",
       "      <td>2019-08-28</td>\n",
       "      <td>B</td>\n",
       "      <td>654</td>\n",
       "    </tr>\n",
       "    <tr>\n",
       "      <th>59</th>\n",
       "      <td>2019-08-29</td>\n",
       "      <td>B</td>\n",
       "      <td>531</td>\n",
       "    </tr>\n",
       "    <tr>\n",
       "      <th>60</th>\n",
       "      <td>2019-08-30</td>\n",
       "      <td>B</td>\n",
       "      <td>490</td>\n",
       "    </tr>\n",
       "    <tr>\n",
       "      <th>61</th>\n",
       "      <td>2019-08-31</td>\n",
       "      <td>B</td>\n",
       "      <td>718</td>\n",
       "    </tr>\n",
       "  </tbody>\n",
       "</table>\n",
       "<p>62 rows × 3 columns</p>\n",
       "</div>"
      ],
      "text/plain": [
       "          date group  visitors\n",
       "0   2019-08-01  A     719     \n",
       "1   2019-08-02  A     619     \n",
       "2   2019-08-03  A     507     \n",
       "3   2019-08-04  A     717     \n",
       "4   2019-08-05  A     756     \n",
       "..         ... ..     ...     \n",
       "57  2019-08-27  B     720     \n",
       "58  2019-08-28  B     654     \n",
       "59  2019-08-29  B     531     \n",
       "60  2019-08-30  B     490     \n",
       "61  2019-08-31  B     718     \n",
       "\n",
       "[62 rows x 3 columns]"
      ]
     },
     "execution_count": 8,
     "metadata": {},
     "output_type": "execute_result"
    }
   ],
   "source": [
    "visitors = pd.read_csv('visitors.csv')\n",
    "visitors"
   ]
  },
  {
   "cell_type": "code",
   "execution_count": 9,
   "metadata": {},
   "outputs": [
    {
     "name": "stdout",
     "output_type": "stream",
     "text": [
      "<class 'pandas.core.frame.DataFrame'>\n",
      "RangeIndex: 62 entries, 0 to 61\n",
      "Data columns (total 3 columns):\n",
      " #   Column    Non-Null Count  Dtype \n",
      "---  ------    --------------  ----- \n",
      " 0   date      62 non-null     object\n",
      " 1   group     62 non-null     object\n",
      " 2   visitors  62 non-null     int64 \n",
      "dtypes: int64(1), object(2)\n",
      "memory usage: 1.6+ KB\n"
     ]
    }
   ],
   "source": [
    "visitors.info()"
   ]
  },
  {
   "cell_type": "code",
   "execution_count": 13,
   "metadata": {},
   "outputs": [
    {
     "data": {
      "text/plain": [
       "0"
      ]
     },
     "execution_count": 13,
     "metadata": {},
     "output_type": "execute_result"
    }
   ],
   "source": [
    "visitors.duplicated().sum()"
   ]
  },
  {
   "cell_type": "markdown",
   "metadata": {},
   "source": [
    "Необходимо привести столбцы с датами к типу datetime"
   ]
  },
  {
   "cell_type": "code",
   "execution_count": 14,
   "metadata": {},
   "outputs": [],
   "source": [
    "orders['date'] = pd.to_datetime(orders['date'])\n",
    "visitors['date'] = pd.to_datetime(visitors['date'])"
   ]
  },
  {
   "cell_type": "markdown",
   "metadata": {},
   "source": [
    "Итак, имеем данные о заказах (1197 строк) в интернет-магазине и его клиентах (62 строки). В данных нет пропусков и дубликатов."
   ]
  },
  {
   "cell_type": "markdown",
   "metadata": {},
   "source": [
    "В тесте участвуют группы:"
   ]
  },
  {
   "cell_type": "code",
   "execution_count": 15,
   "metadata": {},
   "outputs": [
    {
     "data": {
      "text/plain": [
       "array(['B', 'A'], dtype=object)"
      ]
     },
     "execution_count": 15,
     "metadata": {},
     "output_type": "execute_result"
    }
   ],
   "source": [
    "orders['group'].unique()"
   ]
  },
  {
   "cell_type": "markdown",
   "metadata": {},
   "source": [
    "Дата начала теста:"
   ]
  },
  {
   "cell_type": "code",
   "execution_count": 16,
   "metadata": {},
   "outputs": [
    {
     "data": {
      "text/plain": [
       "Timestamp('2019-08-01 00:00:00')"
      ]
     },
     "execution_count": 16,
     "metadata": {},
     "output_type": "execute_result"
    }
   ],
   "source": [
    "orders['date'].min()"
   ]
  },
  {
   "cell_type": "markdown",
   "metadata": {},
   "source": [
    "Окончание теста:"
   ]
  },
  {
   "cell_type": "code",
   "execution_count": 17,
   "metadata": {},
   "outputs": [
    {
     "data": {
      "text/plain": [
       "Timestamp('2019-08-31 00:00:00')"
      ]
     },
     "execution_count": 17,
     "metadata": {},
     "output_type": "execute_result"
    }
   ],
   "source": [
    "orders['date'].max()"
   ]
  },
  {
   "cell_type": "markdown",
   "metadata": {},
   "source": [
    "Уникальные сочетания группа-идентификатор пользователя"
   ]
  },
  {
   "cell_type": "code",
   "execution_count": 18,
   "metadata": {},
   "outputs": [
    {
     "data": {
      "text/html": [
       "<div>\n",
       "<style scoped>\n",
       "    .dataframe tbody tr th:only-of-type {\n",
       "        vertical-align: middle;\n",
       "    }\n",
       "\n",
       "    .dataframe tbody tr th {\n",
       "        vertical-align: top;\n",
       "    }\n",
       "\n",
       "    .dataframe thead th {\n",
       "        text-align: right;\n",
       "    }\n",
       "</style>\n",
       "<table border=\"1\" class=\"dataframe\">\n",
       "  <thead>\n",
       "    <tr style=\"text-align: right;\">\n",
       "      <th></th>\n",
       "      <th>group</th>\n",
       "      <th>visitorId</th>\n",
       "    </tr>\n",
       "  </thead>\n",
       "  <tbody>\n",
       "    <tr>\n",
       "      <th>0</th>\n",
       "      <td>B</td>\n",
       "      <td>3312258926</td>\n",
       "    </tr>\n",
       "    <tr>\n",
       "      <th>1</th>\n",
       "      <td>B</td>\n",
       "      <td>3642806036</td>\n",
       "    </tr>\n",
       "    <tr>\n",
       "      <th>2</th>\n",
       "      <td>A</td>\n",
       "      <td>4069496402</td>\n",
       "    </tr>\n",
       "    <tr>\n",
       "      <th>3</th>\n",
       "      <td>B</td>\n",
       "      <td>1196621759</td>\n",
       "    </tr>\n",
       "    <tr>\n",
       "      <th>4</th>\n",
       "      <td>B</td>\n",
       "      <td>2322279887</td>\n",
       "    </tr>\n",
       "    <tr>\n",
       "      <th>...</th>\n",
       "      <td>...</td>\n",
       "      <td>...</td>\n",
       "    </tr>\n",
       "    <tr>\n",
       "      <th>1191</th>\n",
       "      <td>B</td>\n",
       "      <td>608641596</td>\n",
       "    </tr>\n",
       "    <tr>\n",
       "      <th>1192</th>\n",
       "      <td>B</td>\n",
       "      <td>3733762160</td>\n",
       "    </tr>\n",
       "    <tr>\n",
       "      <th>1193</th>\n",
       "      <td>A</td>\n",
       "      <td>370388673</td>\n",
       "    </tr>\n",
       "    <tr>\n",
       "      <th>1194</th>\n",
       "      <td>A</td>\n",
       "      <td>573423106</td>\n",
       "    </tr>\n",
       "    <tr>\n",
       "      <th>1196</th>\n",
       "      <td>B</td>\n",
       "      <td>2108080724</td>\n",
       "    </tr>\n",
       "  </tbody>\n",
       "</table>\n",
       "<p>1089 rows × 2 columns</p>\n",
       "</div>"
      ],
      "text/plain": [
       "     group   visitorId\n",
       "0     B     3312258926\n",
       "1     B     3642806036\n",
       "2     A     4069496402\n",
       "3     B     1196621759\n",
       "4     B     2322279887\n",
       "...  ..            ...\n",
       "1191  B     608641596 \n",
       "1192  B     3733762160\n",
       "1193  A     370388673 \n",
       "1194  A     573423106 \n",
       "1196  B     2108080724\n",
       "\n",
       "[1089 rows x 2 columns]"
      ]
     },
     "execution_count": 18,
     "metadata": {},
     "output_type": "execute_result"
    }
   ],
   "source": [
    "orders_unique = orders[['group', 'visitorId']].drop_duplicates()\n",
    "orders_unique"
   ]
  },
  {
   "cell_type": "markdown",
   "metadata": {},
   "source": [
    "Количество уникальных пользователей:"
   ]
  },
  {
   "cell_type": "code",
   "execution_count": 19,
   "metadata": {
    "scrolled": true
   },
   "outputs": [
    {
     "data": {
      "text/plain": [
       "1031"
      ]
     },
     "execution_count": 19,
     "metadata": {},
     "output_type": "execute_result"
    }
   ],
   "source": [
    "orders_unique['visitorId'].nunique()"
   ]
  },
  {
   "cell_type": "markdown",
   "metadata": {},
   "source": [
    "Повторяющиеся пользователи:"
   ]
  },
  {
   "cell_type": "code",
   "execution_count": 20,
   "metadata": {},
   "outputs": [
    {
     "data": {
      "text/html": [
       "<div>\n",
       "<style scoped>\n",
       "    .dataframe tbody tr th:only-of-type {\n",
       "        vertical-align: middle;\n",
       "    }\n",
       "\n",
       "    .dataframe tbody tr th {\n",
       "        vertical-align: top;\n",
       "    }\n",
       "\n",
       "    .dataframe thead th {\n",
       "        text-align: right;\n",
       "    }\n",
       "</style>\n",
       "<table border=\"1\" class=\"dataframe\">\n",
       "  <thead>\n",
       "    <tr style=\"text-align: right;\">\n",
       "      <th></th>\n",
       "      <th>group</th>\n",
       "      <th>visitorId</th>\n",
       "    </tr>\n",
       "  </thead>\n",
       "  <tbody>\n",
       "    <tr>\n",
       "      <th>41</th>\n",
       "      <td>A</td>\n",
       "      <td>237748145</td>\n",
       "    </tr>\n",
       "    <tr>\n",
       "      <th>114</th>\n",
       "      <td>A</td>\n",
       "      <td>4256040402</td>\n",
       "    </tr>\n",
       "    <tr>\n",
       "      <th>117</th>\n",
       "      <td>A</td>\n",
       "      <td>2038680547</td>\n",
       "    </tr>\n",
       "    <tr>\n",
       "      <th>197</th>\n",
       "      <td>A</td>\n",
       "      <td>2716752286</td>\n",
       "    </tr>\n",
       "    <tr>\n",
       "      <th>246</th>\n",
       "      <td>B</td>\n",
       "      <td>199603092</td>\n",
       "    </tr>\n",
       "    <tr>\n",
       "      <th>249</th>\n",
       "      <td>A</td>\n",
       "      <td>3234906277</td>\n",
       "    </tr>\n",
       "    <tr>\n",
       "      <th>252</th>\n",
       "      <td>B</td>\n",
       "      <td>3803269165</td>\n",
       "    </tr>\n",
       "    <tr>\n",
       "      <th>254</th>\n",
       "      <td>B</td>\n",
       "      <td>2686716486</td>\n",
       "    </tr>\n",
       "    <tr>\n",
       "      <th>256</th>\n",
       "      <td>A</td>\n",
       "      <td>457167155</td>\n",
       "    </tr>\n",
       "    <tr>\n",
       "      <th>267</th>\n",
       "      <td>B</td>\n",
       "      <td>2579882178</td>\n",
       "    </tr>\n",
       "    <tr>\n",
       "      <th>279</th>\n",
       "      <td>A</td>\n",
       "      <td>1648269707</td>\n",
       "    </tr>\n",
       "    <tr>\n",
       "      <th>330</th>\n",
       "      <td>B</td>\n",
       "      <td>1738359350</td>\n",
       "    </tr>\n",
       "    <tr>\n",
       "      <th>380</th>\n",
       "      <td>B</td>\n",
       "      <td>2458001652</td>\n",
       "    </tr>\n",
       "    <tr>\n",
       "      <th>391</th>\n",
       "      <td>B</td>\n",
       "      <td>2378935119</td>\n",
       "    </tr>\n",
       "    <tr>\n",
       "      <th>432</th>\n",
       "      <td>B</td>\n",
       "      <td>3202540741</td>\n",
       "    </tr>\n",
       "    <tr>\n",
       "      <th>453</th>\n",
       "      <td>A</td>\n",
       "      <td>351125977</td>\n",
       "    </tr>\n",
       "    <tr>\n",
       "      <th>455</th>\n",
       "      <td>B</td>\n",
       "      <td>2954449915</td>\n",
       "    </tr>\n",
       "    <tr>\n",
       "      <th>479</th>\n",
       "      <td>B</td>\n",
       "      <td>2927087541</td>\n",
       "    </tr>\n",
       "    <tr>\n",
       "      <th>497</th>\n",
       "      <td>A</td>\n",
       "      <td>3951559397</td>\n",
       "    </tr>\n",
       "    <tr>\n",
       "      <th>516</th>\n",
       "      <td>B</td>\n",
       "      <td>2044997962</td>\n",
       "    </tr>\n",
       "    <tr>\n",
       "      <th>536</th>\n",
       "      <td>A</td>\n",
       "      <td>3984495233</td>\n",
       "    </tr>\n",
       "    <tr>\n",
       "      <th>561</th>\n",
       "      <td>B</td>\n",
       "      <td>3957174400</td>\n",
       "    </tr>\n",
       "    <tr>\n",
       "      <th>606</th>\n",
       "      <td>B</td>\n",
       "      <td>3891541246</td>\n",
       "    </tr>\n",
       "    <tr>\n",
       "      <th>674</th>\n",
       "      <td>B</td>\n",
       "      <td>1230306981</td>\n",
       "    </tr>\n",
       "    <tr>\n",
       "      <th>677</th>\n",
       "      <td>A</td>\n",
       "      <td>1294878855</td>\n",
       "    </tr>\n",
       "    <tr>\n",
       "      <th>682</th>\n",
       "      <td>B</td>\n",
       "      <td>4266935830</td>\n",
       "    </tr>\n",
       "    <tr>\n",
       "      <th>687</th>\n",
       "      <td>A</td>\n",
       "      <td>1614305549</td>\n",
       "    </tr>\n",
       "    <tr>\n",
       "      <th>688</th>\n",
       "      <td>B</td>\n",
       "      <td>1333886533</td>\n",
       "    </tr>\n",
       "    <tr>\n",
       "      <th>703</th>\n",
       "      <td>A</td>\n",
       "      <td>8300375</td>\n",
       "    </tr>\n",
       "    <tr>\n",
       "      <th>732</th>\n",
       "      <td>B</td>\n",
       "      <td>477780734</td>\n",
       "    </tr>\n",
       "    <tr>\n",
       "      <th>782</th>\n",
       "      <td>A</td>\n",
       "      <td>1668030113</td>\n",
       "    </tr>\n",
       "    <tr>\n",
       "      <th>783</th>\n",
       "      <td>B</td>\n",
       "      <td>1959144690</td>\n",
       "    </tr>\n",
       "    <tr>\n",
       "      <th>809</th>\n",
       "      <td>A</td>\n",
       "      <td>3717692402</td>\n",
       "    </tr>\n",
       "    <tr>\n",
       "      <th>832</th>\n",
       "      <td>B</td>\n",
       "      <td>3766097110</td>\n",
       "    </tr>\n",
       "    <tr>\n",
       "      <th>857</th>\n",
       "      <td>B</td>\n",
       "      <td>2780786433</td>\n",
       "    </tr>\n",
       "    <tr>\n",
       "      <th>879</th>\n",
       "      <td>A</td>\n",
       "      <td>1801183820</td>\n",
       "    </tr>\n",
       "    <tr>\n",
       "      <th>900</th>\n",
       "      <td>B</td>\n",
       "      <td>1316129916</td>\n",
       "    </tr>\n",
       "    <tr>\n",
       "      <th>914</th>\n",
       "      <td>A</td>\n",
       "      <td>1602967004</td>\n",
       "    </tr>\n",
       "    <tr>\n",
       "      <th>936</th>\n",
       "      <td>B</td>\n",
       "      <td>393266494</td>\n",
       "    </tr>\n",
       "    <tr>\n",
       "      <th>970</th>\n",
       "      <td>A</td>\n",
       "      <td>2587333274</td>\n",
       "    </tr>\n",
       "    <tr>\n",
       "      <th>973</th>\n",
       "      <td>B</td>\n",
       "      <td>3941795274</td>\n",
       "    </tr>\n",
       "    <tr>\n",
       "      <th>1008</th>\n",
       "      <td>A</td>\n",
       "      <td>2600415354</td>\n",
       "    </tr>\n",
       "    <tr>\n",
       "      <th>1013</th>\n",
       "      <td>A</td>\n",
       "      <td>232979603</td>\n",
       "    </tr>\n",
       "    <tr>\n",
       "      <th>1021</th>\n",
       "      <td>B</td>\n",
       "      <td>4120364173</td>\n",
       "    </tr>\n",
       "    <tr>\n",
       "      <th>1035</th>\n",
       "      <td>A</td>\n",
       "      <td>3972127743</td>\n",
       "    </tr>\n",
       "    <tr>\n",
       "      <th>1042</th>\n",
       "      <td>B</td>\n",
       "      <td>3656415546</td>\n",
       "    </tr>\n",
       "    <tr>\n",
       "      <th>1044</th>\n",
       "      <td>A</td>\n",
       "      <td>1404934699</td>\n",
       "    </tr>\n",
       "    <tr>\n",
       "      <th>1070</th>\n",
       "      <td>B</td>\n",
       "      <td>4069496402</td>\n",
       "    </tr>\n",
       "    <tr>\n",
       "      <th>1093</th>\n",
       "      <td>A</td>\n",
       "      <td>276558944</td>\n",
       "    </tr>\n",
       "    <tr>\n",
       "      <th>1098</th>\n",
       "      <td>A</td>\n",
       "      <td>3062433592</td>\n",
       "    </tr>\n",
       "    <tr>\n",
       "      <th>1156</th>\n",
       "      <td>A</td>\n",
       "      <td>2654030115</td>\n",
       "    </tr>\n",
       "    <tr>\n",
       "      <th>1163</th>\n",
       "      <td>B</td>\n",
       "      <td>818047933</td>\n",
       "    </tr>\n",
       "    <tr>\n",
       "      <th>1165</th>\n",
       "      <td>B</td>\n",
       "      <td>3963646447</td>\n",
       "    </tr>\n",
       "    <tr>\n",
       "      <th>1166</th>\n",
       "      <td>B</td>\n",
       "      <td>471551937</td>\n",
       "    </tr>\n",
       "    <tr>\n",
       "      <th>1167</th>\n",
       "      <td>A</td>\n",
       "      <td>4186807279</td>\n",
       "    </tr>\n",
       "    <tr>\n",
       "      <th>1173</th>\n",
       "      <td>A</td>\n",
       "      <td>2712142231</td>\n",
       "    </tr>\n",
       "    <tr>\n",
       "      <th>1183</th>\n",
       "      <td>A</td>\n",
       "      <td>963407295</td>\n",
       "    </tr>\n",
       "    <tr>\n",
       "      <th>1184</th>\n",
       "      <td>B</td>\n",
       "      <td>2949041841</td>\n",
       "    </tr>\n",
       "  </tbody>\n",
       "</table>\n",
       "</div>"
      ],
      "text/plain": [
       "     group   visitorId\n",
       "41    A     237748145 \n",
       "114   A     4256040402\n",
       "117   A     2038680547\n",
       "197   A     2716752286\n",
       "246   B     199603092 \n",
       "249   A     3234906277\n",
       "252   B     3803269165\n",
       "254   B     2686716486\n",
       "256   A     457167155 \n",
       "267   B     2579882178\n",
       "279   A     1648269707\n",
       "330   B     1738359350\n",
       "380   B     2458001652\n",
       "391   B     2378935119\n",
       "432   B     3202540741\n",
       "453   A     351125977 \n",
       "455   B     2954449915\n",
       "479   B     2927087541\n",
       "497   A     3951559397\n",
       "516   B     2044997962\n",
       "536   A     3984495233\n",
       "561   B     3957174400\n",
       "606   B     3891541246\n",
       "674   B     1230306981\n",
       "677   A     1294878855\n",
       "682   B     4266935830\n",
       "687   A     1614305549\n",
       "688   B     1333886533\n",
       "703   A     8300375   \n",
       "732   B     477780734 \n",
       "782   A     1668030113\n",
       "783   B     1959144690\n",
       "809   A     3717692402\n",
       "832   B     3766097110\n",
       "857   B     2780786433\n",
       "879   A     1801183820\n",
       "900   B     1316129916\n",
       "914   A     1602967004\n",
       "936   B     393266494 \n",
       "970   A     2587333274\n",
       "973   B     3941795274\n",
       "1008  A     2600415354\n",
       "1013  A     232979603 \n",
       "1021  B     4120364173\n",
       "1035  A     3972127743\n",
       "1042  B     3656415546\n",
       "1044  A     1404934699\n",
       "1070  B     4069496402\n",
       "1093  A     276558944 \n",
       "1098  A     3062433592\n",
       "1156  A     2654030115\n",
       "1163  B     818047933 \n",
       "1165  B     3963646447\n",
       "1166  B     471551937 \n",
       "1167  A     4186807279\n",
       "1173  A     2712142231\n",
       "1183  A     963407295 \n",
       "1184  B     2949041841"
      ]
     },
     "execution_count": 20,
     "metadata": {},
     "output_type": "execute_result"
    }
   ],
   "source": [
    "orders_unique[orders_unique['visitorId'].duplicated()==True]"
   ]
  },
  {
   "cell_type": "markdown",
   "metadata": {},
   "source": [
    "Количество повторяющихся пользователей"
   ]
  },
  {
   "cell_type": "code",
   "execution_count": 21,
   "metadata": {},
   "outputs": [
    {
     "data": {
      "text/plain": [
       "(58, 2)"
      ]
     },
     "execution_count": 21,
     "metadata": {},
     "output_type": "execute_result"
    }
   ],
   "source": [
    "orders_unique[orders_unique['visitorId'].duplicated()==True].shape"
   ]
  },
  {
   "cell_type": "markdown",
   "metadata": {},
   "source": [
    "### График кумулятивной выручки"
   ]
  },
  {
   "cell_type": "code",
   "execution_count": 22,
   "metadata": {},
   "outputs": [
    {
     "data": {
      "image/png": "[encoded data removed]",
      "text/plain": [
       "<Figure size 1080x360 with 1 Axes>"
      ]
     },
     "metadata": {
      "needs_background": "light"
     },
     "output_type": "display_data"
    }
   ],
   "source": [
    "datesGroups = orders[['date', 'group']].drop_duplicates() # создаем массив уникальных пар значений дат и групп теста\n",
    "\n",
    "ordersAggregated = datesGroups.apply(\n",
    "    lambda x: orders[\n",
    "        np.logical_and(\n",
    "            orders['date'] <= x['date'], orders['group'] == x['group']\n",
    "        )\n",
    "    ].agg(\n",
    "        {\n",
    "            'date': 'max',\n",
    "            'group': 'max',\n",
    "            'transactionId': 'nunique',\n",
    "            'visitorId': 'nunique',\n",
    "            'revenue': 'sum',\n",
    "        }\n",
    "    ),\n",
    "    axis=1,\n",
    ").sort_values(by=['date', 'group']) #получаем агрегированные данные о заказах\n",
    "\n",
    "visitorsAggregated = datesGroups.apply(\n",
    "    lambda x: visitors[\n",
    "        np.logical_and(\n",
    "            visitors['date'] <= x['date'], visitors['group'] == x['group']\n",
    "        )\n",
    "    ].agg({'date': 'max', 'group': 'max', 'visitors': 'sum'}),\n",
    "    axis=1,\n",
    ").sort_values(by=['date', 'group']) #получаем агрегированные данные о клиентах магазина\n",
    "\n",
    "cumulativeData = ordersAggregated.merge(\n",
    "    visitorsAggregated, left_on=['date', 'group'], right_on=['date', 'group']\n",
    ") #объединяем агрегированные данные\n",
    "\n",
    "cumulativeData.columns = [\n",
    "    'date',\n",
    "    'group',\n",
    "    'orders',\n",
    "    'buyers',\n",
    "    'revenue',\n",
    "    'visitors',\n",
    "] #переименовываем столбцы\n",
    "cumulativeRevenueA = cumulativeData[cumulativeData['group'] == 'A'][['date', 'revenue', 'orders']] #получаем данные о кумулятивной выручке от группы А\n",
    "cumulativeRevenueB = cumulativeData[cumulativeData['group'] == 'B'][['date', 'revenue', 'orders']] #получаем данные о кумулятивной выручке от группы А\n",
    "\n",
    "plt.figure(figsize = (15, 5))\n",
    "plt.plot(cumulativeRevenueA['date'], cumulativeRevenueA['revenue'], label = 'A')\n",
    "plt.plot(cumulativeRevenueB['date'], cumulativeRevenueB['revenue'], label = 'B')\n",
    "plt.legend()\n",
    "plt.grid()\n",
    "plt.xlabel('Дата')\n",
    "plt.ylabel('Выручка')\n",
    "plt.title('График кумулятивной выручки')\n",
    "plt.show() #строим график"
   ]
  },
  {
   "cell_type": "markdown",
   "metadata": {},
   "source": [
    "`Вывод:` за время тестирования выручка группы В была выше, чем у группы А, кроме первых пяти дней, когда их выручка была одинакова. Также выручка двух групп была одинакова 13 августа. После 17 августа в группе В наблюдается резкий скачок, а затем рост с примено такой же скоростью, как и у группы А (возможно скачок обусловлен аномальными значениями)"
   ]
  },
  {
   "cell_type": "markdown",
   "metadata": {},
   "source": [
    "### График кумулятивного среднего чека"
   ]
  },
  {
   "cell_type": "code",
   "execution_count": 23,
   "metadata": {},
   "outputs": [
    {
     "data": {
      "image/png": "[encoded data removed]",
      "text/plain": [
       "<Figure size 1080x360 with 1 Axes>"
      ]
     },
     "metadata": {
      "needs_background": "light"
     },
     "output_type": "display_data"
    }
   ],
   "source": [
    "#находим кумулятивный средний чек для разных групп\n",
    "cumulativeRevenueA = cumulativeData[cumulativeData['group'] == 'A'][\n",
    "    ['date', 'revenue', 'orders']\n",
    "]\n",
    "cumulativeRevenueB = cumulativeData[cumulativeData['group'] == 'B'][\n",
    "    ['date', 'revenue', 'orders']\n",
    "]\n",
    "\n",
    "plt.figure(figsize = (15, 5))\n",
    "plt.plot(cumulativeRevenueA['date'], cumulativeRevenueA['revenue']/cumulativeRevenueA['orders'], label ='A')\n",
    "plt.plot(cumulativeRevenueB['date'], cumulativeRevenueB['revenue']/cumulativeRevenueB['orders'], label ='B')\n",
    "plt.legend()\n",
    "plt.xlabel('Дата')\n",
    "plt.ylabel('Средний чек')\n",
    "plt.grid()\n",
    "plt.title('График кумулятивного среднего чека')\n",
    "plt.show() #строим график"
   ]
  },
  {
   "cell_type": "markdown",
   "metadata": {},
   "source": [
    "`Вывод:` величина среднего чека колебалась в течение первых двух недель, затем в группе В произошёл резкий скачок (тогда же, когда и произошёл скачок кумулятивной выручки). После скачка средний чек группы В остаётся выше, чем чек группы А."
   ]
  },
  {
   "cell_type": "markdown",
   "metadata": {},
   "source": [
    "### График относительного изменения кумулятивного среднего чека группы B к группе A"
   ]
  },
  {
   "cell_type": "code",
   "execution_count": 24,
   "metadata": {},
   "outputs": [
    {
     "data": {
      "image/png": "[encoded data removed]",
      "text/plain": [
       "<Figure size 1080x360 with 1 Axes>"
      ]
     },
     "metadata": {
      "needs_background": "light"
     },
     "output_type": "display_data"
    }
   ],
   "source": [
    "#объединяем таблицы с кумулятивными значениями для групп\n",
    "mergedCumulativeRevenue = cumulativeRevenueA.merge(cumulativeRevenueB,\n",
    "                                                   left_on='date',\n",
    "                                                   right_on='date',\n",
    "                                                   how='left', \n",
    "                                                   suffixes=['A', 'B'])\n",
    "\n",
    "#строим график\n",
    "plt.figure(figsize = (15, 5))\n",
    "plt.plot(mergedCumulativeRevenue['date'], (mergedCumulativeRevenue['revenueB']/mergedCumulativeRevenue['ordersB'])/(mergedCumulativeRevenue['revenueA']/mergedCumulativeRevenue['ordersA'])-1)\n",
    "plt.axhline(y=0, color = 'black', linestyle = '--')\n",
    "plt.grid()\n",
    "plt.xlabel('Дата')\n",
    "plt.ylabel('Средний чек группы B относительно группы А')\n",
    "plt.title('График относительного изменения кумулятивного среднего чека группы B к группе A')\n",
    "plt.show()"
   ]
  },
  {
   "cell_type": "markdown",
   "metadata": {},
   "source": [
    "`Вывод:` в начале теста средний чек группы В был выше, но затем наблюдается спад. Затем произошёл резкий скачок и медленное падение, что говорит о том, что средний чек группы В был выше, но разница начала уменьшаться."
   ]
  },
  {
   "cell_type": "markdown",
   "metadata": {},
   "source": [
    "### График кумулятивного среднего количества заказов на посетителя"
   ]
  },
  {
   "cell_type": "code",
   "execution_count": 25,
   "metadata": {},
   "outputs": [
    {
     "data": {
      "image/png": "[encoded data removed]",
      "text/plain": [
       "<Figure size 720x360 with 1 Axes>"
      ]
     },
     "metadata": {
      "needs_background": "light"
     },
     "output_type": "display_data"
    }
   ],
   "source": [
    "cumulativeData['conversion'] = cumulativeData['orders']/cumulativeData['visitors']\n",
    "cumulativeDataA = cumulativeData[cumulativeData['group'] == 'A']\n",
    "cumulativeDataB = cumulativeData[cumulativeData['group'] == 'B']\n",
    "\n",
    "plt.figure(figsize = (10, 5))\n",
    "plt.plot(cumulativeDataA['date'], cumulativeDataA['conversion'], label = 'A')\n",
    "plt.plot(cumulativeDataB['date'], cumulativeDataB['conversion'], label = 'B')\n",
    "plt.axis([dt.datetime(2019, 8, 1), dt.datetime(2019, 9, 1), 0.02, 0.05])\n",
    "plt.legend()\n",
    "plt.xlabel('Дата')\n",
    "plt.ylabel('Количество заказов на посетителя')\n",
    "plt.grid()\n",
    "plt.title('График кумулятивного среднего количества заказов на посетителя')\n",
    "plt.show()"
   ]
  },
  {
   "cell_type": "markdown",
   "metadata": {},
   "source": [
    "`Вывод:` видим, что среднее количество заказов на посетителя в группе В стабильно выше, чем в группе А."
   ]
  },
  {
   "cell_type": "markdown",
   "metadata": {},
   "source": [
    "### График относительного изменения кумулятивного среднего количества заказов на посетителя группы B к группе A"
   ]
  },
  {
   "cell_type": "code",
   "execution_count": 26,
   "metadata": {},
   "outputs": [
    {
     "data": {
      "image/png": "[encoded data removed]",
      "text/plain": [
       "<Figure size 1080x360 with 1 Axes>"
      ]
     },
     "metadata": {
      "needs_background": "light"
     },
     "output_type": "display_data"
    }
   ],
   "source": [
    "mergedCumulativeConversions = cumulativeDataA[['date', 'conversion']].merge(cumulativeDataB[['date', 'conversion']],\n",
    "                                                                            left_on='date',\n",
    "                                                                           right_on='date',\n",
    "                                                                           how='left',\n",
    "                                                                           suffixes=['A', 'B'])\n",
    "\n",
    "\n",
    "plt.figure(figsize = (15, 5))\n",
    "plt.plot(mergedCumulativeConversions['date'], mergedCumulativeConversions['conversionB']/mergedCumulativeConversions['conversionA']-1,\n",
    "        label = \"Относительный прирост конверсии группы B относительно группы A\")\n",
    "plt.axhline(y=0, color='black', linestyle = '--')\n",
    "plt.axhline(y=0.2, color='grey', linestyle = '--')\n",
    "plt.axis([dt.datetime(2019, 8, 1), dt.datetime(2019, 9, 1), -0.1, 0.25])\n",
    "plt.legend()\n",
    "plt.grid()\n",
    "plt.xlabel('Дата')\n",
    "plt.ylabel('Относительное среднее количество заказов группы В к группе А')\n",
    "plt.title('График относительного изменения кумулятивного среднего количества заказов на посетителя группы B к группе A')\n",
    "plt.show()"
   ]
  },
  {
   "cell_type": "markdown",
   "metadata": {},
   "source": [
    "`Вывод:` среднеее количество заказов на посетителя в группе В выше почти с самого начала тестирования"
   ]
  },
  {
   "cell_type": "markdown",
   "metadata": {},
   "source": [
    "### Точечный график количества заказов по пользователям"
   ]
  },
  {
   "cell_type": "code",
   "execution_count": 27,
   "metadata": {},
   "outputs": [
    {
     "data": {
      "text/html": [
       "<div>\n",
       "<style scoped>\n",
       "    .dataframe tbody tr th:only-of-type {\n",
       "        vertical-align: middle;\n",
       "    }\n",
       "\n",
       "    .dataframe tbody tr th {\n",
       "        vertical-align: top;\n",
       "    }\n",
       "\n",
       "    .dataframe thead th {\n",
       "        text-align: right;\n",
       "    }\n",
       "</style>\n",
       "<table border=\"1\" class=\"dataframe\">\n",
       "  <thead>\n",
       "    <tr style=\"text-align: right;\">\n",
       "      <th></th>\n",
       "      <th>visitorId</th>\n",
       "      <th>orders</th>\n",
       "    </tr>\n",
       "  </thead>\n",
       "  <tbody>\n",
       "    <tr>\n",
       "      <th>1023</th>\n",
       "      <td>4256040402</td>\n",
       "      <td>11</td>\n",
       "    </tr>\n",
       "    <tr>\n",
       "      <th>591</th>\n",
       "      <td>2458001652</td>\n",
       "      <td>11</td>\n",
       "    </tr>\n",
       "    <tr>\n",
       "      <th>569</th>\n",
       "      <td>2378935119</td>\n",
       "      <td>9</td>\n",
       "    </tr>\n",
       "    <tr>\n",
       "      <th>487</th>\n",
       "      <td>2038680547</td>\n",
       "      <td>8</td>\n",
       "    </tr>\n",
       "    <tr>\n",
       "      <th>44</th>\n",
       "      <td>199603092</td>\n",
       "      <td>5</td>\n",
       "    </tr>\n",
       "    <tr>\n",
       "      <th>744</th>\n",
       "      <td>3062433592</td>\n",
       "      <td>5</td>\n",
       "    </tr>\n",
       "    <tr>\n",
       "      <th>55</th>\n",
       "      <td>237748145</td>\n",
       "      <td>5</td>\n",
       "    </tr>\n",
       "    <tr>\n",
       "      <th>917</th>\n",
       "      <td>3803269165</td>\n",
       "      <td>5</td>\n",
       "    </tr>\n",
       "    <tr>\n",
       "      <th>299</th>\n",
       "      <td>1230306981</td>\n",
       "      <td>5</td>\n",
       "    </tr>\n",
       "    <tr>\n",
       "      <th>897</th>\n",
       "      <td>3717692402</td>\n",
       "      <td>5</td>\n",
       "    </tr>\n",
       "  </tbody>\n",
       "</table>\n",
       "</div>"
      ],
      "text/plain": [
       "       visitorId  orders\n",
       "1023  4256040402  11    \n",
       "591   2458001652  11    \n",
       "569   2378935119  9     \n",
       "487   2038680547  8     \n",
       "44    199603092   5     \n",
       "744   3062433592  5     \n",
       "55    237748145   5     \n",
       "917   3803269165  5     \n",
       "299   1230306981  5     \n",
       "897   3717692402  5     "
      ]
     },
     "execution_count": 27,
     "metadata": {},
     "output_type": "execute_result"
    }
   ],
   "source": [
    "ordersByUsers = (\n",
    "    orders.groupby('visitorId', as_index=False)\n",
    "    .agg({'transactionId':'nunique'})\n",
    ")\n",
    "ordersByUsers.columns = ['visitorId', 'orders']\n",
    "ordersByUsers.sort_values(by='orders', ascending=False).head(10)"
   ]
  },
  {
   "cell_type": "code",
   "execution_count": 28,
   "metadata": {},
   "outputs": [
    {
     "data": {
      "image/png": "[encoded data removed]",
      "text/plain": [
       "<Figure size 432x288 with 1 Axes>"
      ]
     },
     "metadata": {
      "needs_background": "light"
     },
     "output_type": "display_data"
    }
   ],
   "source": [
    "x_values = pd.Series(range(0, len(ordersByUsers)))\n",
    "plt.scatter(x_values, ordersByUsers['orders'])\n",
    "plt.title('Точечный график количества заказов по пользователям')\n",
    "plt.xlabel('Пользователи')\n",
    "plt.ylabel('Количество заказов')\n",
    "plt.show()"
   ]
  },
  {
   "cell_type": "markdown",
   "metadata": {},
   "source": [
    "`Вывод:` большинство пользователей заказывали 1-2 раза. Единицы пользователй с 8-11 заказами"
   ]
  },
  {
   "cell_type": "markdown",
   "metadata": {},
   "source": [
    "### 95-й и 99-й перцентили количества заказов на пользователя"
   ]
  },
  {
   "cell_type": "code",
   "execution_count": 29,
   "metadata": {},
   "outputs": [
    {
     "data": {
      "text/plain": [
       "array([2., 4.])"
      ]
     },
     "execution_count": 29,
     "metadata": {},
     "output_type": "execute_result"
    }
   ],
   "source": [
    "np.percentile(ordersByUsers['orders'], [95, 99])\n"
   ]
  },
  {
   "cell_type": "markdown",
   "metadata": {},
   "source": [
    "`Вывод:` не более 5% пользователей совершили больше 2 заказов, и не больше 1% совершили более 4 заказов. Можем принять за аномальных пользователей тех, кто совершил 4 и более заказов."
   ]
  },
  {
   "cell_type": "markdown",
   "metadata": {},
   "source": [
    "### Точечный график стоимостей заказов"
   ]
  },
  {
   "cell_type": "code",
   "execution_count": 30,
   "metadata": {},
   "outputs": [
    {
     "data": {
      "image/png": "[encoded data removed]",
      "text/plain": [
       "<Figure size 432x288 with 1 Axes>"
      ]
     },
     "metadata": {
      "needs_background": "light"
     },
     "output_type": "display_data"
    }
   ],
   "source": [
    "orders.sort_values(by='revenue', ascending=False)\n",
    "\n",
    "x_values = pd.Series(range(0, len(orders['revenue'])))\n",
    "plt.scatter(x_values, orders['revenue'])\n",
    "plt.xlabel('Пользователи')\n",
    "plt.ylabel('Сумма заказа')\n",
    "plt.show()"
   ]
  },
  {
   "cell_type": "markdown",
   "metadata": {},
   "source": [
    "`Вывод:` Видим один заказ больше чем на 1200000! И ещё один приблизительно на 200000. Все остальные заказы плохо различимы, можно задать значения оси."
   ]
  },
  {
   "cell_type": "code",
   "execution_count": 31,
   "metadata": {},
   "outputs": [
    {
     "data": {
      "image/png": "[encoded data removed]",
      "text/plain": [
       "<Figure size 432x288 with 1 Axes>"
      ]
     },
     "metadata": {
      "needs_background": "light"
     },
     "output_type": "display_data"
    }
   ],
   "source": [
    "plt.scatter(x_values, orders['revenue'])\n",
    "plt.axis([0, 1200, 0, 100000])\n",
    "plt.xlabel('Пользователи')\n",
    "plt.ylabel('Сумма заказа')\n",
    "plt.show()"
   ]
  },
  {
   "cell_type": "markdown",
   "metadata": {},
   "source": [
    "`Вывод:` основное количество заказов меньше, чем на 20000. Несколько на 80000-100000."
   ]
  },
  {
   "cell_type": "markdown",
   "metadata": {},
   "source": [
    "### 95-й и 99-й перцентили стоимости заказов"
   ]
  },
  {
   "cell_type": "code",
   "execution_count": 32,
   "metadata": {},
   "outputs": [
    {
     "data": {
      "text/plain": [
       "array([28000. , 58233.2])"
      ]
     },
     "execution_count": 32,
     "metadata": {},
     "output_type": "execute_result"
    }
   ],
   "source": [
    "np.percentile(orders['revenue'], [95, 99])"
   ]
  },
  {
   "cell_type": "markdown",
   "metadata": {},
   "source": [
    "`Вывод:` не более 5% совершили заказ больше, чем на 28000, и не более 1% процента пользователей  совершили заказ более, чем на 58233. Примем за аномальных пользователей тех, кто совершил заказ на 28000 или больше"
   ]
  },
  {
   "cell_type": "markdown",
   "metadata": {},
   "source": [
    "###  Статистическая значимость различий в среднем количестве заказов на посетителя между группами по «сырым» данным"
   ]
  },
  {
   "cell_type": "markdown",
   "metadata": {},
   "source": [
    "`Гипотезы:`\n",
    "- H0: различий в среднем количестве заказов между группами нет. \n",
    "\n",
    "- H1: различия в среднем между группами есть."
   ]
  },
  {
   "cell_type": "code",
   "execution_count": 33,
   "metadata": {},
   "outputs": [
    {
     "data": {
      "text/html": [
       "<div>\n",
       "<style scoped>\n",
       "    .dataframe tbody tr th:only-of-type {\n",
       "        vertical-align: middle;\n",
       "    }\n",
       "\n",
       "    .dataframe tbody tr th {\n",
       "        vertical-align: top;\n",
       "    }\n",
       "\n",
       "    .dataframe thead th {\n",
       "        text-align: right;\n",
       "    }\n",
       "</style>\n",
       "<table border=\"1\" class=\"dataframe\">\n",
       "  <thead>\n",
       "    <tr style=\"text-align: right;\">\n",
       "      <th></th>\n",
       "      <th>date</th>\n",
       "      <th>ordersPerDateA</th>\n",
       "      <th>revenuePerDateA</th>\n",
       "      <th>ordersPerDateB</th>\n",
       "      <th>revenuePerDateB</th>\n",
       "      <th>ordersCummulativeA</th>\n",
       "      <th>revenueCummulativeA</th>\n",
       "      <th>ordersCummulativeB</th>\n",
       "      <th>revenueCummulativeB</th>\n",
       "      <th>visitorsPerDateA</th>\n",
       "      <th>visitorsPerDateB</th>\n",
       "      <th>visitorsCummulativeA</th>\n",
       "      <th>visitorsCummulativeB</th>\n",
       "    </tr>\n",
       "  </thead>\n",
       "  <tbody>\n",
       "    <tr>\n",
       "      <th>0</th>\n",
       "      <td>2019-08-01</td>\n",
       "      <td>24</td>\n",
       "      <td>148579</td>\n",
       "      <td>21</td>\n",
       "      <td>101217</td>\n",
       "      <td>24</td>\n",
       "      <td>148579</td>\n",
       "      <td>21</td>\n",
       "      <td>101217</td>\n",
       "      <td>719</td>\n",
       "      <td>713</td>\n",
       "      <td>719</td>\n",
       "      <td>713</td>\n",
       "    </tr>\n",
       "    <tr>\n",
       "      <th>1</th>\n",
       "      <td>2019-08-02</td>\n",
       "      <td>20</td>\n",
       "      <td>93822</td>\n",
       "      <td>24</td>\n",
       "      <td>165531</td>\n",
       "      <td>44</td>\n",
       "      <td>242401</td>\n",
       "      <td>45</td>\n",
       "      <td>266748</td>\n",
       "      <td>619</td>\n",
       "      <td>581</td>\n",
       "      <td>1338</td>\n",
       "      <td>1294</td>\n",
       "    </tr>\n",
       "    <tr>\n",
       "      <th>2</th>\n",
       "      <td>2019-08-03</td>\n",
       "      <td>24</td>\n",
       "      <td>112473</td>\n",
       "      <td>16</td>\n",
       "      <td>114248</td>\n",
       "      <td>68</td>\n",
       "      <td>354874</td>\n",
       "      <td>61</td>\n",
       "      <td>380996</td>\n",
       "      <td>507</td>\n",
       "      <td>509</td>\n",
       "      <td>1845</td>\n",
       "      <td>1803</td>\n",
       "    </tr>\n",
       "    <tr>\n",
       "      <th>3</th>\n",
       "      <td>2019-08-04</td>\n",
       "      <td>16</td>\n",
       "      <td>70825</td>\n",
       "      <td>17</td>\n",
       "      <td>108571</td>\n",
       "      <td>84</td>\n",
       "      <td>425699</td>\n",
       "      <td>78</td>\n",
       "      <td>489567</td>\n",
       "      <td>717</td>\n",
       "      <td>770</td>\n",
       "      <td>2562</td>\n",
       "      <td>2573</td>\n",
       "    </tr>\n",
       "    <tr>\n",
       "      <th>4</th>\n",
       "      <td>2019-08-05</td>\n",
       "      <td>25</td>\n",
       "      <td>124218</td>\n",
       "      <td>23</td>\n",
       "      <td>92428</td>\n",
       "      <td>109</td>\n",
       "      <td>549917</td>\n",
       "      <td>101</td>\n",
       "      <td>581995</td>\n",
       "      <td>756</td>\n",
       "      <td>707</td>\n",
       "      <td>3318</td>\n",
       "      <td>3280</td>\n",
       "    </tr>\n",
       "  </tbody>\n",
       "</table>\n",
       "</div>"
      ],
      "text/plain": [
       "        date  ordersPerDateA  revenuePerDateA  ordersPerDateB  \\\n",
       "0 2019-08-01  24              148579           21               \n",
       "1 2019-08-02  20              93822            24               \n",
       "2 2019-08-03  24              112473           16               \n",
       "3 2019-08-04  16              70825            17               \n",
       "4 2019-08-05  25              124218           23               \n",
       "\n",
       "   revenuePerDateB  ordersCummulativeA  revenueCummulativeA  \\\n",
       "0  101217           24                  148579                \n",
       "1  165531           44                  242401                \n",
       "2  114248           68                  354874                \n",
       "3  108571           84                  425699                \n",
       "4  92428            109                 549917                \n",
       "\n",
       "   ordersCummulativeB  revenueCummulativeB  visitorsPerDateA  \\\n",
       "0  21                  101217               719                \n",
       "1  45                  266748               619                \n",
       "2  61                  380996               507                \n",
       "3  78                  489567               717                \n",
       "4  101                 581995               756                \n",
       "\n",
       "   visitorsPerDateB  visitorsCummulativeA  visitorsCummulativeB  \n",
       "0  713               719                   713                   \n",
       "1  581               1338                  1294                  \n",
       "2  509               1845                  1803                  \n",
       "3  770               2562                  2573                  \n",
       "4  707               3318                  3280                  "
      ]
     },
     "execution_count": 33,
     "metadata": {},
     "output_type": "execute_result"
    }
   ],
   "source": [
    "# информация о посетителях в группе А по дням\n",
    "visitorsADaily = visitors[visitors['group'] == 'A'][['date', 'visitors']]\n",
    "visitorsADaily.columns = ['date', 'visitorsPerDateA']\n",
    "\n",
    "# количество пользователей до выбранной даты включительно в группе A\n",
    "visitorsACummulative = visitorsADaily.apply(\n",
    "    lambda x: visitorsADaily[visitorsADaily['date'] <= x['date']].agg(\n",
    "        {'date': 'max', 'visitorsPerDateA': 'sum'}\n",
    "    ),\n",
    "    axis=1,\n",
    ")\n",
    "visitorsACummulative.columns = ['date', 'visitorsCummulativeA']\n",
    "\n",
    "# # информация о посетителях в группе В по дням\n",
    "visitorsBDaily = visitors[visitors['group'] == 'B'][['date', 'visitors']]\n",
    "visitorsBDaily.columns = ['date', 'visitorsPerDateB']\n",
    "\n",
    "#  количество пользователей до выбранной даты включительно в группе B\n",
    "visitorsBCummulative = visitorsBDaily.apply(\n",
    "    lambda x: visitorsBDaily[visitorsBDaily['date'] <= x['date']].agg(\n",
    "        {'date': 'max', 'visitorsPerDateB': 'sum'}\n",
    "    ),\n",
    "    axis=1,\n",
    ")\n",
    "visitorsBCummulative.columns = ['date', 'visitorsCummulativeB']\n",
    "\n",
    "# информация о заказах в группе А по дням\n",
    "ordersADaily = (\n",
    "    orders[orders['group'] == 'A'][['date', 'transactionId', 'visitorId', 'revenue']]\n",
    "    .groupby('date', as_index=False)\n",
    "    .agg({'transactionId': pd.Series.nunique, 'revenue': 'sum'})\n",
    ")\n",
    "ordersADaily.columns = ['date', 'ordersPerDateA', 'revenuePerDateA']\n",
    "\n",
    "# суммарное число заказов до выбранной даты включительно в группе A\n",
    "ordersACummulative = ordersADaily.apply(\n",
    "    lambda x: ordersADaily[ordersADaily['date'] <= x['date']].agg(\n",
    "        {'date': 'max', 'ordersPerDateA': 'sum', 'revenuePerDateA': 'sum'}\n",
    "    ),\n",
    "    axis=1,\n",
    ").sort_values(by=['date'])\n",
    "ordersACummulative.columns = [\n",
    "    'date',\n",
    "    'ordersCummulativeA',\n",
    "    'revenueCummulativeA',\n",
    "]\n",
    "\n",
    "# информация о заказах в группе В по дням\n",
    "ordersBDaily = (\n",
    "    orders[orders['group'] == 'B'][['date', 'transactionId', 'visitorId', 'revenue']]\n",
    "    .groupby('date', as_index=False)\n",
    "    .agg({'transactionId': pd.Series.nunique, 'revenue': 'sum'})\n",
    ")\n",
    "ordersBDaily.columns = ['date', 'ordersPerDateB', 'revenuePerDateB']\n",
    "\n",
    "# суммарное число заказов до выбранной даты включительно в группе В\n",
    "ordersBCummulative = ordersBDaily.apply(\n",
    "    lambda x: ordersBDaily[ordersBDaily['date'] <= x['date']].agg(\n",
    "        {'date': 'max', 'ordersPerDateB': 'sum', 'revenuePerDateB': 'sum'}\n",
    "    ),\n",
    "    axis=1,\n",
    ").sort_values(by=['date'])\n",
    "ordersBCummulative.columns = [\n",
    "    'date',\n",
    "    'ordersCummulativeB',\n",
    "    'revenueCummulativeB',\n",
    "]\n",
    "\n",
    "# объединяем все данные\n",
    "data = (\n",
    "    ordersADaily.merge(\n",
    "        ordersBDaily, left_on='date', right_on='date', how='left'\n",
    "    )\n",
    "    .merge(ordersACummulative, left_on='date', right_on='date', how='left')\n",
    "    .merge(ordersBCummulative, left_on='date', right_on='date', how='left')\n",
    "    .merge(visitorsADaily, left_on='date', right_on='date', how='left')\n",
    "    .merge(visitorsBDaily, left_on='date', right_on='date', how='left')\n",
    "    .merge(visitorsACummulative, left_on='date', right_on='date', how='left')\n",
    "    .merge(visitorsBCummulative, left_on='date', right_on='date', how='left')\n",
    ")\n",
    "\n",
    "data.head(5)\n"
   ]
  },
  {
   "cell_type": "code",
   "execution_count": 34,
   "metadata": {},
   "outputs": [
    {
     "data": {
      "text/plain": [
       "'p-value: 0.017'"
      ]
     },
     "execution_count": 34,
     "metadata": {},
     "output_type": "execute_result"
    }
   ],
   "source": [
    "# заказы пользователей из группы А\n",
    "ordersByUsersA = (\n",
    "    orders[orders['group'] == 'A']\n",
    "    .groupby('visitorId', as_index=False)\n",
    "    .agg({'transactionId': pd.Series.nunique})\n",
    ")\n",
    "ordersByUsersA.columns = ['userId', 'orders']\n",
    "\n",
    "# заказы пользователей из группы А\n",
    "ordersByUsersB = (\n",
    "    orders[orders['group'] == 'B']\n",
    "    .groupby('visitorId', as_index=False)\n",
    "    .agg({'transactionId': pd.Series.nunique})\n",
    ")\n",
    "ordersByUsersB.columns = ['userId', 'orders']\n",
    "\n",
    "# объявляем переменные с количеством заказов каждого посетителя по группам\n",
    "sampleA = pd.concat([ordersByUsersA['orders'], pd.Series(0, index=np.arange(data['visitorsPerDateA'].sum()- len(ordersByUsersA['orders'])), name = 'orders')], axis=0)\n",
    "sampleB = pd.concat([ordersByUsersB['orders'], pd.Series(0, index=np.arange(data['visitorsPerDateB'].sum()- len(ordersByUsersB['orders'])), name = 'orders')], axis=0)\n",
    "\n",
    "\"p-value: {0:.3f}\".format(stats.mannwhitneyu(sampleA, sampleB)[1])\n"
   ]
  },
  {
   "cell_type": "code",
   "execution_count": 35,
   "metadata": {},
   "outputs": [
    {
     "data": {
      "text/plain": [
       "'различие в средних: 0.138'"
      ]
     },
     "execution_count": 35,
     "metadata": {},
     "output_type": "execute_result"
    }
   ],
   "source": [
    "\"различие в средних: {0:.3f}\".format(sampleB.mean()/sampleA.mean() -1)"
   ]
  },
  {
   "cell_type": "markdown",
   "metadata": {},
   "source": [
    "`Вывод:` p-value меньше 0,05 (0,017), что означает, что мы отвергаем нулевую гипотезу о равенстве средних количеств заказа в \"сырых\" данных. Относительный прирост среднего группы В к группе А 13,8%"
   ]
  },
  {
   "cell_type": "markdown",
   "metadata": {},
   "source": [
    "### Статистическая значимость различий в среднем чеке заказа между группами по «сырым» данным"
   ]
  },
  {
   "cell_type": "markdown",
   "metadata": {},
   "source": [
    "`Гипотезы:`\n",
    "\n",
    "- H0: средний чеке между группами равен\n",
    "- H1: средний чеке между группами неравен"
   ]
  },
  {
   "cell_type": "code",
   "execution_count": 36,
   "metadata": {},
   "outputs": [
    {
     "data": {
      "text/plain": [
       "'p-value: 0.729'"
      ]
     },
     "execution_count": 36,
     "metadata": {},
     "output_type": "execute_result"
    }
   ],
   "source": [
    "'p-value: {0:.3f}'.format(stats.mannwhitneyu(orders[orders['group']=='A']['revenue'], orders[orders['group']=='B']['revenue'])[1])\n"
   ]
  },
  {
   "cell_type": "code",
   "execution_count": 37,
   "metadata": {},
   "outputs": [
    {
     "data": {
      "text/plain": [
       "'различие в средних: 0.259'"
      ]
     },
     "execution_count": 37,
     "metadata": {},
     "output_type": "execute_result"
    }
   ],
   "source": [
    "'различие в средних: {0:.3f}'.format(orders[orders['group']=='B']['revenue'].mean()/orders[orders['group']=='A']['revenue'].mean()-1)"
   ]
  },
  {
   "cell_type": "markdown",
   "metadata": {},
   "source": [
    "`Вывод:` p-value больше 0,05 (0,729), что означает, что мы не отвергаем нулевую гипотезу о равенстве средних чеков в \"сырых\" данных. Относительный прирост среднего чека группы В к группе А составляет целых 25,9% (может говорить о наличии аномалий, проверим)"
   ]
  },
  {
   "cell_type": "markdown",
   "metadata": {},
   "source": [
    "###  Статистическая значимость различий в среднем количестве заказов на посетителя между группами по «очищенным» данным"
   ]
  },
  {
   "cell_type": "markdown",
   "metadata": {},
   "source": [
    "За аномальных пользователей принимаем тех клиентов, которые совершили 4 и более заказов (1%), или тех, кто совершил заказ на 30000 и более (1%-5%)"
   ]
  },
  {
   "cell_type": "code",
   "execution_count": 38,
   "metadata": {},
   "outputs": [
    {
     "data": {
      "text/plain": [
       "1099    148427295\n",
       "18      199603092\n",
       "928     204675465\n",
       "23      237748145\n",
       "684     358944393\n",
       "dtype: int64"
      ]
     },
     "execution_count": 38,
     "metadata": {},
     "output_type": "execute_result"
    }
   ],
   "source": [
    "anomal_amount=np.percentile(ordersByUsers['orders'], [99])\n",
    "anomal_amount = [int (x) for x in anomal_amount]\n",
    "\n",
    "anomal_revenue = np.percentile(orders['revenue'], [95])\n",
    "anomal_revenue = [int (x) for x in anomal_revenue]\n",
    "\n",
    "# находим аномальных пользователей\n",
    "usersWithManyOrders = pd.concat(\n",
    "    [\n",
    "        ordersByUsersA[ordersByUsersA['orders']>= anomal_amount[0]]['userId'],\n",
    "        ordersByUsersB[ordersByUsersB['orders']>= anomal_amount[0]]['userId']\n",
    "    ],\n",
    "    axis=0\n",
    ")\n",
    "usersWithExpensiveOrders = orders[orders['revenue']>= anomal_revenue[0]]['visitorId']\n",
    "abnormalUsers =(\n",
    "    pd.concat([usersWithManyOrders, usersWithExpensiveOrders], axis=0)\n",
    "    .drop_duplicates()\n",
    "    .sort_values()\n",
    "    \n",
    ")\n",
    "abnormalUsers.head()"
   ]
  },
  {
   "cell_type": "code",
   "execution_count": 39,
   "metadata": {
    "scrolled": true
   },
   "outputs": [
    {
     "data": {
      "text/plain": [
       "(63,)"
      ]
     },
     "execution_count": 39,
     "metadata": {},
     "output_type": "execute_result"
    }
   ],
   "source": [
    "abnormalUsers.shape"
   ]
  },
  {
   "cell_type": "markdown",
   "metadata": {},
   "source": [
    "Нашли 57 аномальных пользователей. теперь проверим гипотезы.\n",
    "\n",
    "- H0: различий в среднем количестве заказов между группами нет. \n",
    "\n",
    "- H1: различия в среднем между группами есть.\n"
   ]
  },
  {
   "cell_type": "code",
   "execution_count": 40,
   "metadata": {},
   "outputs": [
    {
     "data": {
      "text/plain": [
       "'p-value: 0.018'"
      ]
     },
     "execution_count": 40,
     "metadata": {},
     "output_type": "execute_result"
    }
   ],
   "source": [
    "# пользователи в группе А после удаления аномальных значений\n",
    "sampleAFiltered = pd.concat(\n",
    "    [\n",
    "        ordersByUsersA[\n",
    "            np.logical_not(ordersByUsersA['userId'].isin(abnormalUsers))\n",
    "        ]['orders'],\n",
    "        pd.Series(\n",
    "            0,\n",
    "            index=np.arange(\n",
    "                data['visitorsPerDateA'].sum() - len(ordersByUsersA['orders'])\n",
    "            ),\n",
    "            name='orders',\n",
    "        ),\n",
    "    ],\n",
    "    axis=0,\n",
    ")\n",
    "\n",
    "# пользователи в группе B после удаления аномальных значений\n",
    "sampleBFiltered = pd.concat(\n",
    "    [\n",
    "        ordersByUsersB[\n",
    "            np.logical_not(ordersByUsersB['userId'].isin(abnormalUsers))\n",
    "        ]['orders'],\n",
    "        pd.Series(\n",
    "            0,\n",
    "            index=np.arange(\n",
    "                data['visitorsPerDateB'].sum() - len(ordersByUsersB['orders'])\n",
    "            ),\n",
    "            name='orders',\n",
    "        ),\n",
    "    ],\n",
    "    axis=0,\n",
    ") \n",
    "'p-value: {0:.3f}'.format(stats.mannwhitneyu(sampleAFiltered, sampleBFiltered)[1])\n"
   ]
  },
  {
   "cell_type": "code",
   "execution_count": 41,
   "metadata": {},
   "outputs": [
    {
     "data": {
      "text/plain": [
       "'различие в средних: 0.148'"
      ]
     },
     "execution_count": 41,
     "metadata": {},
     "output_type": "execute_result"
    }
   ],
   "source": [
    "'различие в средних: {0:.3f}'.format(sampleBFiltered.mean()/sampleAFiltered.mean()-1)"
   ]
  },
  {
   "cell_type": "markdown",
   "metadata": {},
   "source": [
    "`Вывод:` p-value меньше 0,05 (0,018), что означает, что мы отвергаем нулевую гипотезу о равенстве средних количеств заказа в \"очищенных\" данных. Относительный прирост среднего группы В к группе А 14,8%. Несмотря на фильтрацию аномальных пользователей общая картина изменилась не сильно."
   ]
  },
  {
   "cell_type": "markdown",
   "metadata": {},
   "source": [
    "### Cтатистическая значимость различий в среднем чеке заказа между группами по «очищенным» данным."
   ]
  },
  {
   "cell_type": "markdown",
   "metadata": {},
   "source": [
    "`Гипотезы:`\n",
    "\n",
    "- H0: средний чек между группами равен\n",
    "- H1: средний чек между группами неравен"
   ]
  },
  {
   "cell_type": "code",
   "execution_count": 42,
   "metadata": {},
   "outputs": [
    {
     "data": {
      "text/plain": [
       "'p-value: 0.977'"
      ]
     },
     "execution_count": 42,
     "metadata": {},
     "output_type": "execute_result"
    }
   ],
   "source": [
    "cheks_a = (\n",
    "    orders[\n",
    "                np.logical_and(\n",
    "                    orders['group'] == 'A',\n",
    "                    np.logical_not(orders['visitorId'].isin(abnormalUsers)),\n",
    "                )\n",
    "            ]['revenue']\n",
    ")\n",
    "\n",
    "cheks_b = (\n",
    "    orders[\n",
    "                np.logical_and(\n",
    "                    orders['group'] == 'B',\n",
    "                    np.logical_not(orders['visitorId'].isin(abnormalUsers)),\n",
    "                )\n",
    "            ]['revenue']\n",
    ")\n",
    "'p-value: {0:.3f}'.format(stats.mannwhitneyu(cheks_a, cheks_b)[1])"
   ]
  },
  {
   "cell_type": "code",
   "execution_count": 43,
   "metadata": {},
   "outputs": [
    {
     "data": {
      "text/plain": [
       "'-0.017'"
      ]
     },
     "execution_count": 43,
     "metadata": {},
     "output_type": "execute_result"
    }
   ],
   "source": [
    "'{0:.3f}'.format(cheks_b.mean()/cheks_a.mean()-1)"
   ]
  },
  {
   "cell_type": "markdown",
   "metadata": {},
   "source": [
    "`Вывод:` p-value по-прежнему больше 0,05 (0,977), что означает, что мы не отвергаем нулевую гипотезу о равенстве средних чеков в \"очищенных\" данных. А вот относительный прирост среднего чека группы В к группе А сильно изменился и теперь составляет только 1,7%."
   ]
  },
  {
   "cell_type": "markdown",
   "metadata": {},
   "source": [
    "### Результаты"
   ]
  },
  {
   "cell_type": "markdown",
   "metadata": {},
   "source": [
    "- Есть статистически значимое различие в среднем количистве заказов на посетителя между группами как по сырым данным, так и после фильтрации аномалий.\n",
    "\n",
    "- Нет статистически значимого различия по среднему чеку между группамикак по сырым данным, так и после фильтрации аномалий.\n",
    "\n",
    "- График относительного изменения кумулятивного среднего количества заказов на посетителя группы B к группе A сообщает, что результаты группы B лучше группы A: наблюдается резкий скачок в начале теста и достаточно стабильное значение в оставшийся период (около 20%)\n",
    "\n",
    "На основании перечисленного приходим к выводу, что тест успешный и его можно останавливать."
   ]
  },
  {
   "cell_type": "markdown",
   "metadata": {},
   "source": [
    "## Выводы"
   ]
  },
  {
   "cell_type": "markdown",
   "metadata": {},
   "source": [
    "`Первая часть:`\n",
    "\n",
    "- получили 9 различных гипотез с параметрами Reach, Impact, Confidence, Efforts\n",
    "- по полученным данным провели приоритизацию гипотез согласно фреймворкам ICE, RICE.\n",
    "- согласно ICE самая перспективная гипотеза 8 ('Запустить акцию, дающую скидку на товар в день рождения')\n",
    "- согласно RICE самая перспективная гипотеза 7 ('Добавить форму подписки на все основные страницы, чтобы собрать базу клиентов для email-рассылок')\n",
    "- разница обусловлена учитыванием параметра Reach, у гипотезы 7 он в 10 раз больше.\n",
    "\n",
    "`Вторая часть:`\n",
    "\n",
    "- получили данные о заказах (1197 строк) в интернет-магазине и его клиентах (62 строки)\n",
    "- за время тестирования выручка группы В была выше, чем у группы А\n",
    "- спустя 2 недели средняя выручка группы В резко возросла и была больше до конца теста, на графике отношения средних выручек это видно\n",
    "-  среднее количество заказов на посетителя в группе В стабильно выше, чем в группе А\n",
    "-  не более 5% пользователей совершили больше 2 заказов, и не больше 1% совершили более 4 заказов\n",
    "-  не более 5% совершили заказ больше, чем на 28000, и не более 1% процента пользователей совершили заказ более, чем на 58233\n",
    "-  по \"сырым\" данным мы отвергаем нулевую гипотезу о равенстве средних количеств заказа, ситуация не меняется после фильтрации аномальных пользователей\n",
    "- по \"сырым\" данным мы не отвергаем нулевую гипотезу о равенстве средних чеков, ситуация не меняется после фильтрации аномальных пользователей\n",
    "-  тест успешный и его можно останавливать "
   ]
  }
 ],
 "metadata": {
  "ExecuteTimeLog": [
   {
    "duration": 428,
    "start_time": "2023-04-02T14:03:58.641Z"
   },
   {
    "duration": 86,
    "start_time": "2023-04-02T14:03:59.522Z"
   },
   {
    "duration": 23,
    "start_time": "2023-04-02T14:04:25.692Z"
   },
   {
    "duration": 31,
    "start_time": "2023-04-02T14:04:37.329Z"
   },
   {
    "duration": 13,
    "start_time": "2023-04-02T14:05:41.871Z"
   },
   {
    "duration": 19,
    "start_time": "2023-04-02T14:05:49.840Z"
   },
   {
    "duration": 10,
    "start_time": "2023-04-02T14:06:34.576Z"
   },
   {
    "duration": 69,
    "start_time": "2023-04-02T14:09:15.195Z"
   },
   {
    "duration": 7,
    "start_time": "2023-04-02T14:09:45.222Z"
   },
   {
    "duration": 8,
    "start_time": "2023-04-02T14:09:52.077Z"
   },
   {
    "duration": 9,
    "start_time": "2023-04-02T14:10:00.776Z"
   },
   {
    "duration": 5,
    "start_time": "2023-04-02T14:12:56.175Z"
   },
   {
    "duration": 45,
    "start_time": "2023-04-03T12:13:27.867Z"
   },
   {
    "duration": 7,
    "start_time": "2023-04-03T12:13:56.090Z"
   },
   {
    "duration": 6,
    "start_time": "2023-04-03T12:14:06.586Z"
   },
   {
    "duration": 411,
    "start_time": "2023-04-03T12:14:19.795Z"
   },
   {
    "duration": 56,
    "start_time": "2023-04-03T12:14:20.208Z"
   },
   {
    "duration": 14,
    "start_time": "2023-04-03T12:14:20.265Z"
   },
   {
    "duration": 11,
    "start_time": "2023-04-03T12:14:20.281Z"
   },
   {
    "duration": 6,
    "start_time": "2023-04-03T12:14:20.293Z"
   },
   {
    "duration": 12,
    "start_time": "2023-04-03T12:14:20.301Z"
   },
   {
    "duration": 11,
    "start_time": "2023-04-03T12:19:16.995Z"
   },
   {
    "duration": 11,
    "start_time": "2023-04-03T12:31:52.231Z"
   },
   {
    "duration": 13,
    "start_time": "2023-04-03T12:32:24.424Z"
   },
   {
    "duration": 82,
    "start_time": "2023-04-03T12:56:35.540Z"
   },
   {
    "duration": 10,
    "start_time": "2023-04-03T12:56:47.309Z"
   },
   {
    "duration": 6,
    "start_time": "2023-04-03T16:50:33.643Z"
   },
   {
    "duration": 64,
    "start_time": "2023-04-03T16:51:12.033Z"
   },
   {
    "duration": 27,
    "start_time": "2023-04-03T16:51:20.993Z"
   },
   {
    "duration": 11,
    "start_time": "2023-04-03T16:51:35.932Z"
   },
   {
    "duration": 5,
    "start_time": "2023-04-03T16:52:01.896Z"
   },
   {
    "duration": 3,
    "start_time": "2023-04-03T17:19:08.014Z"
   },
   {
    "duration": 33,
    "start_time": "2023-04-03T17:20:03.782Z"
   },
   {
    "duration": 15,
    "start_time": "2023-04-03T17:22:20.415Z"
   },
   {
    "duration": 6,
    "start_time": "2023-04-03T17:22:38.512Z"
   },
   {
    "duration": 11,
    "start_time": "2023-04-03T17:22:47.422Z"
   },
   {
    "duration": 396,
    "start_time": "2023-04-03T17:26:36.002Z"
   },
   {
    "duration": 211,
    "start_time": "2023-04-03T17:29:26.603Z"
   },
   {
    "duration": 542,
    "start_time": "2023-04-03T17:29:49.182Z"
   },
   {
    "duration": 457,
    "start_time": "2023-04-03T17:30:38.331Z"
   },
   {
    "duration": 533,
    "start_time": "2023-04-03T17:31:36.420Z"
   },
   {
    "duration": 443,
    "start_time": "2023-04-03T17:31:51.273Z"
   },
   {
    "duration": 455,
    "start_time": "2023-04-03T17:37:39.715Z"
   },
   {
    "duration": 524,
    "start_time": "2023-04-03T17:40:14.407Z"
   },
   {
    "duration": 451,
    "start_time": "2023-04-03T17:41:52.445Z"
   },
   {
    "duration": 616,
    "start_time": "2023-04-03T17:42:03.534Z"
   },
   {
    "duration": 521,
    "start_time": "2023-04-03T17:42:20.481Z"
   },
   {
    "duration": 464,
    "start_time": "2023-04-03T17:42:32.506Z"
   },
   {
    "duration": 509,
    "start_time": "2023-04-03T17:42:50.116Z"
   },
   {
    "duration": 209,
    "start_time": "2023-04-03T17:49:11.987Z"
   },
   {
    "duration": 265,
    "start_time": "2023-04-03T18:00:26.531Z"
   },
   {
    "duration": 354,
    "start_time": "2023-04-03T18:05:54.962Z"
   },
   {
    "duration": 322,
    "start_time": "2023-04-03T18:08:13.066Z"
   },
   {
    "duration": 145,
    "start_time": "2023-04-03T19:04:47.049Z"
   },
   {
    "duration": 176,
    "start_time": "2023-04-03T19:05:40.863Z"
   },
   {
    "duration": 203,
    "start_time": "2023-04-03T19:05:56.180Z"
   },
   {
    "duration": 186,
    "start_time": "2023-04-03T19:08:15.886Z"
   },
   {
    "duration": 174,
    "start_time": "2023-04-03T19:08:23.909Z"
   },
   {
    "duration": 268,
    "start_time": "2023-04-03T19:14:33.617Z"
   },
   {
    "duration": 245,
    "start_time": "2023-04-03T19:15:13.639Z"
   },
   {
    "duration": 295,
    "start_time": "2023-04-03T19:15:56.317Z"
   },
   {
    "duration": 431,
    "start_time": "2023-04-03T19:16:10.626Z"
   },
   {
    "duration": 321,
    "start_time": "2023-04-03T19:17:14.829Z"
   },
   {
    "duration": 336,
    "start_time": "2023-04-03T19:17:22.920Z"
   },
   {
    "duration": 57,
    "start_time": "2023-04-04T11:39:08.712Z"
   },
   {
    "duration": 971,
    "start_time": "2023-04-04T11:39:16.516Z"
   },
   {
    "duration": 58,
    "start_time": "2023-04-04T11:39:17.491Z"
   },
   {
    "duration": 15,
    "start_time": "2023-04-04T11:39:17.552Z"
   },
   {
    "duration": 13,
    "start_time": "2023-04-04T11:39:17.571Z"
   },
   {
    "duration": 15,
    "start_time": "2023-04-04T11:39:17.586Z"
   },
   {
    "duration": 15,
    "start_time": "2023-04-04T11:39:17.603Z"
   },
   {
    "duration": 15,
    "start_time": "2023-04-04T11:39:17.623Z"
   },
   {
    "duration": 79,
    "start_time": "2023-04-04T11:39:17.641Z"
   },
   {
    "duration": 14,
    "start_time": "2023-04-04T11:39:17.722Z"
   },
   {
    "duration": 11,
    "start_time": "2023-04-04T11:39:17.739Z"
   },
   {
    "duration": 62,
    "start_time": "2023-04-04T11:39:17.752Z"
   },
   {
    "duration": 13,
    "start_time": "2023-04-04T11:39:17.815Z"
   },
   {
    "duration": 29,
    "start_time": "2023-04-04T11:39:17.830Z"
   },
   {
    "duration": 8,
    "start_time": "2023-04-04T11:39:17.861Z"
   },
   {
    "duration": 635,
    "start_time": "2023-04-04T11:39:17.871Z"
   },
   {
    "duration": 248,
    "start_time": "2023-04-04T11:39:18.507Z"
   },
   {
    "duration": 436,
    "start_time": "2023-04-04T11:39:18.757Z"
   },
   {
    "duration": 244,
    "start_time": "2023-04-04T11:39:19.195Z"
   },
   {
    "duration": 346,
    "start_time": "2023-04-04T11:39:19.441Z"
   },
   {
    "duration": 48,
    "start_time": "2023-04-04T11:39:19.789Z"
   },
   {
    "duration": 13,
    "start_time": "2023-04-04T11:39:31.191Z"
   },
   {
    "duration": 127,
    "start_time": "2023-04-04T11:40:05.460Z"
   },
   {
    "duration": 130,
    "start_time": "2023-04-04T11:40:36.655Z"
   },
   {
    "duration": 48,
    "start_time": "2023-04-04T11:52:42.298Z"
   },
   {
    "duration": 6,
    "start_time": "2023-04-04T11:52:52.390Z"
   },
   {
    "duration": 10,
    "start_time": "2023-04-04T12:03:54.718Z"
   },
   {
    "duration": 140,
    "start_time": "2023-04-04T12:04:04.646Z"
   },
   {
    "duration": 173,
    "start_time": "2023-04-04T12:04:30.423Z"
   },
   {
    "duration": 132,
    "start_time": "2023-04-04T12:08:25.895Z"
   },
   {
    "duration": 123,
    "start_time": "2023-04-04T12:08:39.486Z"
   },
   {
    "duration": 152,
    "start_time": "2023-04-04T12:13:40.013Z"
   },
   {
    "duration": 128,
    "start_time": "2023-04-04T12:14:25.461Z"
   },
   {
    "duration": 206,
    "start_time": "2023-04-04T12:23:05.398Z"
   },
   {
    "duration": 129,
    "start_time": "2023-04-04T12:23:17.496Z"
   },
   {
    "duration": 6,
    "start_time": "2023-04-04T12:25:56.243Z"
   },
   {
    "duration": 162,
    "start_time": "2023-04-04T14:10:23.172Z"
   },
   {
    "duration": 251,
    "start_time": "2023-04-04T14:11:57.722Z"
   },
   {
    "duration": 144,
    "start_time": "2023-04-04T14:14:24.581Z"
   },
   {
    "duration": 452,
    "start_time": "2023-04-04T14:14:53.290Z"
   },
   {
    "duration": 174,
    "start_time": "2023-04-04T14:14:59.924Z"
   },
   {
    "duration": 173,
    "start_time": "2023-04-04T14:17:45.556Z"
   },
   {
    "duration": 6,
    "start_time": "2023-04-04T14:17:55.729Z"
   },
   {
    "duration": 175,
    "start_time": "2023-04-04T14:17:59.941Z"
   },
   {
    "duration": 10,
    "start_time": "2023-04-04T14:25:08.756Z"
   },
   {
    "duration": 7,
    "start_time": "2023-04-04T14:25:19.685Z"
   },
   {
    "duration": 826,
    "start_time": "2023-04-04T15:07:06.394Z"
   },
   {
    "duration": 898,
    "start_time": "2023-04-04T15:08:00.310Z"
   },
   {
    "duration": 13,
    "start_time": "2023-04-04T15:08:58.583Z"
   },
   {
    "duration": 11,
    "start_time": "2023-04-04T15:09:14.359Z"
   },
   {
    "duration": 9,
    "start_time": "2023-04-04T15:09:25.643Z"
   },
   {
    "duration": 5,
    "start_time": "2023-04-04T15:09:30.243Z"
   },
   {
    "duration": 11,
    "start_time": "2023-04-04T15:10:07.782Z"
   },
   {
    "duration": 10,
    "start_time": "2023-04-04T15:10:24.147Z"
   },
   {
    "duration": 10,
    "start_time": "2023-04-04T15:11:05.811Z"
   },
   {
    "duration": 38,
    "start_time": "2023-04-04T15:13:15.954Z"
   },
   {
    "duration": 28,
    "start_time": "2023-04-04T15:14:23.035Z"
   },
   {
    "duration": 5,
    "start_time": "2023-04-04T15:14:35.638Z"
   },
   {
    "duration": 27,
    "start_time": "2023-04-04T15:27:23.803Z"
   },
   {
    "duration": 29,
    "start_time": "2023-04-04T15:27:29.915Z"
   },
   {
    "duration": 833,
    "start_time": "2023-04-04T15:28:00.055Z"
   },
   {
    "duration": 12,
    "start_time": "2023-04-04T15:28:20.834Z"
   },
   {
    "duration": 4,
    "start_time": "2023-04-04T15:29:43.294Z"
   },
   {
    "duration": 5,
    "start_time": "2023-04-04T15:29:56.894Z"
   },
   {
    "duration": 11,
    "start_time": "2023-04-04T15:32:13.247Z"
   },
   {
    "duration": 27,
    "start_time": "2023-04-04T15:34:18.458Z"
   },
   {
    "duration": 4,
    "start_time": "2023-04-04T15:34:34.087Z"
   },
   {
    "duration": 35,
    "start_time": "2023-04-04T15:34:34.096Z"
   },
   {
    "duration": 11,
    "start_time": "2023-04-04T15:34:34.133Z"
   },
   {
    "duration": 13,
    "start_time": "2023-04-04T15:34:34.146Z"
   },
   {
    "duration": 7,
    "start_time": "2023-04-04T15:34:34.161Z"
   },
   {
    "duration": 12,
    "start_time": "2023-04-04T15:34:34.170Z"
   },
   {
    "duration": 41,
    "start_time": "2023-04-04T15:34:34.184Z"
   },
   {
    "duration": 42,
    "start_time": "2023-04-04T15:34:34.226Z"
   },
   {
    "duration": 11,
    "start_time": "2023-04-04T15:34:34.270Z"
   },
   {
    "duration": 11,
    "start_time": "2023-04-04T15:34:34.283Z"
   },
   {
    "duration": 21,
    "start_time": "2023-04-04T15:34:34.296Z"
   },
   {
    "duration": 15,
    "start_time": "2023-04-04T15:34:34.318Z"
   },
   {
    "duration": 5,
    "start_time": "2023-04-04T15:34:34.336Z"
   },
   {
    "duration": 8,
    "start_time": "2023-04-04T15:34:34.342Z"
   },
   {
    "duration": 554,
    "start_time": "2023-04-04T15:34:34.351Z"
   },
   {
    "duration": 234,
    "start_time": "2023-04-04T15:34:34.907Z"
   },
   {
    "duration": 440,
    "start_time": "2023-04-04T15:34:35.143Z"
   },
   {
    "duration": 254,
    "start_time": "2023-04-04T15:34:35.585Z"
   },
   {
    "duration": 369,
    "start_time": "2023-04-04T15:34:35.842Z"
   },
   {
    "duration": 16,
    "start_time": "2023-04-04T15:34:36.213Z"
   },
   {
    "duration": 140,
    "start_time": "2023-04-04T15:34:36.231Z"
   },
   {
    "duration": 6,
    "start_time": "2023-04-04T15:34:36.373Z"
   },
   {
    "duration": 147,
    "start_time": "2023-04-04T15:34:36.381Z"
   },
   {
    "duration": 140,
    "start_time": "2023-04-04T15:34:36.530Z"
   },
   {
    "duration": 5,
    "start_time": "2023-04-04T15:34:36.672Z"
   },
   {
    "duration": 256,
    "start_time": "2023-04-04T15:34:36.679Z"
   },
   {
    "duration": 169,
    "start_time": "2023-04-04T15:34:36.937Z"
   },
   {
    "duration": 4,
    "start_time": "2023-04-04T15:34:37.108Z"
   },
   {
    "duration": 17,
    "start_time": "2023-04-04T15:34:37.114Z"
   },
   {
    "duration": 7,
    "start_time": "2023-04-04T15:34:37.132Z"
   },
   {
    "duration": 30,
    "start_time": "2023-04-04T15:34:37.140Z"
   },
   {
    "duration": 12,
    "start_time": "2023-04-04T15:34:37.171Z"
   },
   {
    "duration": 46,
    "start_time": "2023-04-04T15:34:37.184Z"
   },
   {
    "duration": 4,
    "start_time": "2023-04-04T15:34:37.232Z"
   },
   {
    "duration": 36,
    "start_time": "2023-04-04T15:34:37.238Z"
   },
   {
    "duration": 9,
    "start_time": "2023-04-04T15:34:37.276Z"
   },
   {
    "duration": 1243,
    "start_time": "2023-04-04T20:11:21.729Z"
   },
   {
    "duration": 22,
    "start_time": "2023-04-04T20:11:22.974Z"
   },
   {
    "duration": 14,
    "start_time": "2023-04-04T20:11:22.998Z"
   },
   {
    "duration": 12,
    "start_time": "2023-04-04T20:11:23.014Z"
   },
   {
    "duration": 6,
    "start_time": "2023-04-04T20:11:23.028Z"
   },
   {
    "duration": 13,
    "start_time": "2023-04-04T20:11:23.036Z"
   },
   {
    "duration": 14,
    "start_time": "2023-04-04T20:11:23.051Z"
   },
   {
    "duration": 48,
    "start_time": "2023-04-04T20:11:23.066Z"
   },
   {
    "duration": 11,
    "start_time": "2023-04-04T20:11:23.116Z"
   },
   {
    "duration": 9,
    "start_time": "2023-04-04T20:11:23.129Z"
   },
   {
    "duration": 19,
    "start_time": "2023-04-04T20:11:23.140Z"
   },
   {
    "duration": 10,
    "start_time": "2023-04-04T20:11:23.161Z"
   },
   {
    "duration": 35,
    "start_time": "2023-04-04T20:11:23.173Z"
   },
   {
    "duration": 8,
    "start_time": "2023-04-04T20:11:23.212Z"
   },
   {
    "duration": 631,
    "start_time": "2023-04-04T20:11:23.223Z"
   },
   {
    "duration": 247,
    "start_time": "2023-04-04T20:11:23.856Z"
   },
   {
    "duration": 350,
    "start_time": "2023-04-04T20:11:24.105Z"
   },
   {
    "duration": 224,
    "start_time": "2023-04-04T20:11:24.457Z"
   },
   {
    "duration": 384,
    "start_time": "2023-04-04T20:11:24.683Z"
   },
   {
    "duration": 11,
    "start_time": "2023-04-04T20:11:25.069Z"
   },
   {
    "duration": 140,
    "start_time": "2023-04-04T20:11:25.082Z"
   },
   {
    "duration": 5,
    "start_time": "2023-04-04T20:11:25.224Z"
   },
   {
    "duration": 153,
    "start_time": "2023-04-04T20:11:25.231Z"
   },
   {
    "duration": 145,
    "start_time": "2023-04-04T20:11:25.386Z"
   },
   {
    "duration": 7,
    "start_time": "2023-04-04T20:11:25.533Z"
   },
   {
    "duration": 345,
    "start_time": "2023-04-04T20:11:25.542Z"
   },
   {
    "duration": 179,
    "start_time": "2023-04-04T20:11:25.888Z"
   },
   {
    "duration": 6,
    "start_time": "2023-04-04T20:11:26.069Z"
   },
   {
    "duration": 28,
    "start_time": "2023-04-04T20:11:26.077Z"
   },
   {
    "duration": 8,
    "start_time": "2023-04-04T20:11:26.107Z"
   },
   {
    "duration": 13,
    "start_time": "2023-04-04T20:11:26.117Z"
   },
   {
    "duration": 9,
    "start_time": "2023-04-04T20:11:26.132Z"
   },
   {
    "duration": 61,
    "start_time": "2023-04-04T20:11:26.143Z"
   },
   {
    "duration": 6,
    "start_time": "2023-04-04T20:11:26.206Z"
   },
   {
    "duration": 12,
    "start_time": "2023-04-04T20:11:26.214Z"
   },
   {
    "duration": 5,
    "start_time": "2023-04-04T20:11:26.228Z"
   },
   {
    "duration": 83,
    "start_time": "2023-04-05T09:31:50.490Z"
   },
   {
    "duration": 51,
    "start_time": "2023-04-05T09:34:48.369Z"
   },
   {
    "duration": 1273,
    "start_time": "2023-04-05T09:34:55.214Z"
   },
   {
    "duration": 80,
    "start_time": "2023-04-05T09:34:56.489Z"
   },
   {
    "duration": 2,
    "start_time": "2023-04-05T09:34:57.229Z"
   },
   {
    "duration": 64,
    "start_time": "2023-04-05T09:35:14.727Z"
   },
   {
    "duration": 3,
    "start_time": "2023-04-05T09:35:39.954Z"
   },
   {
    "duration": 2,
    "start_time": "2023-04-05T09:35:58.108Z"
   },
   {
    "duration": 2,
    "start_time": "2023-04-05T09:36:06.189Z"
   },
   {
    "duration": 3,
    "start_time": "2023-04-05T09:36:27.145Z"
   },
   {
    "duration": 3,
    "start_time": "2023-04-05T09:36:32.288Z"
   },
   {
    "duration": 3,
    "start_time": "2023-04-05T09:36:43.704Z"
   },
   {
    "duration": 63,
    "start_time": "2023-04-05T09:36:43.711Z"
   },
   {
    "duration": 24,
    "start_time": "2023-04-05T09:36:43.776Z"
   },
   {
    "duration": 25,
    "start_time": "2023-04-05T09:36:43.801Z"
   },
   {
    "duration": 40,
    "start_time": "2023-04-05T09:36:43.828Z"
   },
   {
    "duration": 31,
    "start_time": "2023-04-05T09:36:43.869Z"
   },
   {
    "duration": 34,
    "start_time": "2023-04-05T09:36:43.902Z"
   },
   {
    "duration": 124,
    "start_time": "2023-04-05T09:36:43.938Z"
   },
   {
    "duration": 9,
    "start_time": "2023-04-05T09:36:44.064Z"
   },
   {
    "duration": 55,
    "start_time": "2023-04-05T09:36:44.075Z"
   },
   {
    "duration": 76,
    "start_time": "2023-04-05T09:36:44.133Z"
   },
   {
    "duration": 10,
    "start_time": "2023-04-05T09:36:44.211Z"
   },
   {
    "duration": 21,
    "start_time": "2023-04-05T09:36:44.222Z"
   },
   {
    "duration": 13,
    "start_time": "2023-04-05T09:36:44.245Z"
   },
   {
    "duration": 554,
    "start_time": "2023-04-05T09:36:44.259Z"
   },
   {
    "duration": 194,
    "start_time": "2023-04-05T09:36:44.817Z"
   },
   {
    "duration": 349,
    "start_time": "2023-04-05T09:36:45.013Z"
   },
   {
    "duration": 193,
    "start_time": "2023-04-05T09:36:45.364Z"
   },
   {
    "duration": 309,
    "start_time": "2023-04-05T09:36:45.559Z"
   },
   {
    "duration": 11,
    "start_time": "2023-04-05T09:36:45.870Z"
   },
   {
    "duration": 125,
    "start_time": "2023-04-05T09:36:45.882Z"
   },
   {
    "duration": 9,
    "start_time": "2023-04-05T09:36:46.009Z"
   },
   {
    "duration": 142,
    "start_time": "2023-04-05T09:36:46.020Z"
   },
   {
    "duration": 120,
    "start_time": "2023-04-05T09:36:46.164Z"
   },
   {
    "duration": 5,
    "start_time": "2023-04-05T09:36:46.286Z"
   },
   {
    "duration": 294,
    "start_time": "2023-04-05T09:36:46.293Z"
   },
   {
    "duration": 155,
    "start_time": "2023-04-05T09:36:46.589Z"
   },
   {
    "duration": 4,
    "start_time": "2023-04-05T09:36:46.746Z"
   },
   {
    "duration": 18,
    "start_time": "2023-04-05T09:36:46.753Z"
   },
   {
    "duration": 10,
    "start_time": "2023-04-05T09:36:46.773Z"
   },
   {
    "duration": 11,
    "start_time": "2023-04-05T09:36:46.784Z"
   },
   {
    "duration": 10,
    "start_time": "2023-04-05T09:36:46.797Z"
   },
   {
    "duration": 35,
    "start_time": "2023-04-05T09:36:46.817Z"
   },
   {
    "duration": 4,
    "start_time": "2023-04-05T09:36:46.854Z"
   },
   {
    "duration": 26,
    "start_time": "2023-04-05T09:36:46.860Z"
   },
   {
    "duration": 30,
    "start_time": "2023-04-05T09:36:46.888Z"
   },
   {
    "duration": 2,
    "start_time": "2023-04-05T09:37:14.603Z"
   },
   {
    "duration": 3,
    "start_time": "2023-04-05T09:38:12.864Z"
   },
   {
    "duration": 26,
    "start_time": "2023-04-05T09:38:14.180Z"
   },
   {
    "duration": 2,
    "start_time": "2023-04-05T09:38:15.203Z"
   },
   {
    "duration": 3,
    "start_time": "2023-04-05T09:38:21.703Z"
   },
   {
    "duration": 3,
    "start_time": "2023-04-05T09:38:23.603Z"
   },
   {
    "duration": 3,
    "start_time": "2023-04-05T09:38:25.899Z"
   },
   {
    "duration": 3,
    "start_time": "2023-04-05T09:38:31.034Z"
   },
   {
    "duration": 2,
    "start_time": "2023-04-05T09:38:35.703Z"
   },
   {
    "duration": 3,
    "start_time": "2023-04-05T10:03:28.914Z"
   },
   {
    "duration": 3,
    "start_time": "2023-04-05T10:03:38.036Z"
   },
   {
    "duration": 3,
    "start_time": "2023-04-05T10:03:42.368Z"
   },
   {
    "duration": 31,
    "start_time": "2023-04-05T10:03:42.376Z"
   },
   {
    "duration": 3,
    "start_time": "2023-04-05T10:03:42.409Z"
   },
   {
    "duration": 12,
    "start_time": "2023-04-05T10:03:55.799Z"
   },
   {
    "duration": 3,
    "start_time": "2023-04-05T10:03:59.441Z"
   },
   {
    "duration": 8,
    "start_time": "2023-04-05T10:04:11.149Z"
   },
   {
    "duration": 5,
    "start_time": "2023-04-05T10:19:17.229Z"
   },
   {
    "duration": 5,
    "start_time": "2023-04-05T10:19:25.693Z"
   },
   {
    "duration": 4,
    "start_time": "2023-04-05T10:19:32.105Z"
   },
   {
    "duration": 5,
    "start_time": "2023-04-05T10:19:49.106Z"
   },
   {
    "duration": 5,
    "start_time": "2023-04-05T10:20:15.941Z"
   },
   {
    "duration": 4,
    "start_time": "2023-04-05T10:20:46.039Z"
   },
   {
    "duration": 7,
    "start_time": "2023-04-05T10:23:09.215Z"
   },
   {
    "duration": 15,
    "start_time": "2023-04-05T10:23:21.804Z"
   },
   {
    "duration": 9,
    "start_time": "2023-04-05T10:24:50.549Z"
   },
   {
    "duration": 4,
    "start_time": "2023-04-05T10:27:30.423Z"
   },
   {
    "duration": 10,
    "start_time": "2023-04-05T10:27:34.852Z"
   },
   {
    "duration": 11,
    "start_time": "2023-04-05T10:28:05.590Z"
   },
   {
    "duration": 10,
    "start_time": "2023-04-05T10:33:50.112Z"
   },
   {
    "duration": 11,
    "start_time": "2023-04-05T10:34:43.673Z"
   },
   {
    "duration": 9,
    "start_time": "2023-04-05T10:35:07.440Z"
   },
   {
    "duration": 8,
    "start_time": "2023-04-05T10:35:18.000Z"
   },
   {
    "duration": 7,
    "start_time": "2023-04-05T10:35:53.513Z"
   },
   {
    "duration": 5,
    "start_time": "2023-04-05T10:41:25.026Z"
   },
   {
    "duration": 7,
    "start_time": "2023-04-05T10:51:07.153Z"
   },
   {
    "duration": 6,
    "start_time": "2023-04-05T10:51:26.104Z"
   },
   {
    "duration": 7,
    "start_time": "2023-04-05T10:51:56.712Z"
   },
   {
    "duration": 12,
    "start_time": "2023-04-05T10:52:38.140Z"
   },
   {
    "duration": 11,
    "start_time": "2023-04-05T10:54:23.045Z"
   },
   {
    "duration": 7,
    "start_time": "2023-04-05T11:03:50.954Z"
   },
   {
    "duration": 510,
    "start_time": "2023-04-05T11:11:50.650Z"
   },
   {
    "duration": 213,
    "start_time": "2023-04-05T11:12:16.948Z"
   },
   {
    "duration": 297,
    "start_time": "2023-04-05T11:13:03.159Z"
   },
   {
    "duration": 206,
    "start_time": "2023-04-05T11:13:28.255Z"
   },
   {
    "duration": 325,
    "start_time": "2023-04-05T11:14:34.968Z"
   },
   {
    "duration": 131,
    "start_time": "2023-04-05T11:22:17.132Z"
   },
   {
    "duration": 141,
    "start_time": "2023-04-05T11:22:41.756Z"
   },
   {
    "duration": 133,
    "start_time": "2023-04-05T11:23:03.607Z"
   },
   {
    "duration": 150,
    "start_time": "2023-04-05T11:23:11.874Z"
   },
   {
    "duration": 15,
    "start_time": "2023-04-05T11:26:10.861Z"
   },
   {
    "duration": 6,
    "start_time": "2023-04-05T11:27:02.803Z"
   },
   {
    "duration": 4,
    "start_time": "2023-04-05T11:34:40.677Z"
   },
   {
    "duration": 5,
    "start_time": "2023-04-05T11:34:50.265Z"
   },
   {
    "duration": 14,
    "start_time": "2023-04-05T11:35:12.963Z"
   },
   {
    "duration": 11,
    "start_time": "2023-04-05T11:36:52.260Z"
   },
   {
    "duration": 4,
    "start_time": "2023-04-05T11:39:17.163Z"
   },
   {
    "duration": 5,
    "start_time": "2023-04-05T11:39:25.699Z"
   },
   {
    "duration": 10,
    "start_time": "2023-04-05T11:40:28.973Z"
   },
   {
    "duration": 12,
    "start_time": "2023-04-05T11:42:29.798Z"
   },
   {
    "duration": 12,
    "start_time": "2023-04-05T11:42:47.261Z"
   },
   {
    "duration": 4,
    "start_time": "2023-04-05T11:42:53.575Z"
   },
   {
    "duration": 13,
    "start_time": "2023-04-05T11:43:16.299Z"
   },
   {
    "duration": 4,
    "start_time": "2023-04-05T11:43:19.630Z"
   },
   {
    "duration": 31,
    "start_time": "2023-04-05T11:44:53.607Z"
   },
   {
    "duration": 5,
    "start_time": "2023-04-05T11:44:58.043Z"
   },
   {
    "duration": 11,
    "start_time": "2023-04-05T11:45:06.359Z"
   },
   {
    "duration": 4,
    "start_time": "2023-04-05T11:45:08.603Z"
   },
   {
    "duration": 11,
    "start_time": "2023-04-05T11:45:59.337Z"
   },
   {
    "duration": 182,
    "start_time": "2023-04-05T11:46:31.714Z"
   },
   {
    "duration": 5,
    "start_time": "2023-04-05T11:46:45.404Z"
   },
   {
    "duration": 10,
    "start_time": "2023-04-05T11:47:02.864Z"
   },
   {
    "duration": 8,
    "start_time": "2023-04-05T11:47:13.618Z"
   },
   {
    "duration": 4,
    "start_time": "2023-04-05T11:48:02.911Z"
   },
   {
    "duration": 954,
    "start_time": "2023-04-05T19:36:11.933Z"
   },
   {
    "duration": 27,
    "start_time": "2023-04-05T19:36:12.889Z"
   },
   {
    "duration": 15,
    "start_time": "2023-04-05T19:36:12.917Z"
   },
   {
    "duration": 23,
    "start_time": "2023-04-05T19:36:12.934Z"
   },
   {
    "duration": 15,
    "start_time": "2023-04-05T19:36:12.959Z"
   },
   {
    "duration": 16,
    "start_time": "2023-04-05T19:36:12.976Z"
   },
   {
    "duration": 13,
    "start_time": "2023-04-05T19:36:12.993Z"
   },
   {
    "duration": 51,
    "start_time": "2023-04-05T19:36:13.008Z"
   },
   {
    "duration": 10,
    "start_time": "2023-04-05T19:36:13.061Z"
   },
   {
    "duration": 13,
    "start_time": "2023-04-05T19:36:13.073Z"
   },
   {
    "duration": 31,
    "start_time": "2023-04-05T19:36:13.088Z"
   },
   {
    "duration": 10,
    "start_time": "2023-04-05T19:36:13.121Z"
   },
   {
    "duration": 9,
    "start_time": "2023-04-05T19:36:13.132Z"
   },
   {
    "duration": 6,
    "start_time": "2023-04-05T19:36:13.144Z"
   },
   {
    "duration": 6,
    "start_time": "2023-04-05T19:36:13.151Z"
   },
   {
    "duration": 8,
    "start_time": "2023-04-05T19:36:13.158Z"
   },
   {
    "duration": 6,
    "start_time": "2023-04-05T19:36:13.168Z"
   },
   {
    "duration": 18,
    "start_time": "2023-04-05T19:36:13.176Z"
   },
   {
    "duration": 15,
    "start_time": "2023-04-05T19:36:13.196Z"
   },
   {
    "duration": 15,
    "start_time": "2023-04-05T19:36:13.214Z"
   },
   {
    "duration": 9,
    "start_time": "2023-04-05T19:36:13.230Z"
   },
   {
    "duration": 516,
    "start_time": "2023-04-05T19:36:13.240Z"
   },
   {
    "duration": 198,
    "start_time": "2023-04-05T19:36:13.757Z"
   },
   {
    "duration": 320,
    "start_time": "2023-04-05T19:36:13.957Z"
   },
   {
    "duration": 194,
    "start_time": "2023-04-05T19:36:14.278Z"
   },
   {
    "duration": 328,
    "start_time": "2023-04-05T19:36:14.473Z"
   },
   {
    "duration": 11,
    "start_time": "2023-04-05T19:36:14.802Z"
   },
   {
    "duration": 123,
    "start_time": "2023-04-05T19:36:14.814Z"
   },
   {
    "duration": 4,
    "start_time": "2023-04-05T19:36:14.939Z"
   },
   {
    "duration": 141,
    "start_time": "2023-04-05T19:36:14.946Z"
   },
   {
    "duration": 113,
    "start_time": "2023-04-05T19:36:15.089Z"
   },
   {
    "duration": 4,
    "start_time": "2023-04-05T19:36:15.204Z"
   },
   {
    "duration": 283,
    "start_time": "2023-04-05T19:36:15.210Z"
   },
   {
    "duration": 182,
    "start_time": "2023-04-05T19:36:15.495Z"
   },
   {
    "duration": 5,
    "start_time": "2023-04-05T19:36:15.679Z"
   },
   {
    "duration": 23,
    "start_time": "2023-04-05T19:36:15.687Z"
   },
   {
    "duration": 11,
    "start_time": "2023-04-05T19:36:15.712Z"
   },
   {
    "duration": 12,
    "start_time": "2023-04-05T19:36:15.724Z"
   },
   {
    "duration": 11,
    "start_time": "2023-04-05T19:36:15.737Z"
   },
   {
    "duration": 40,
    "start_time": "2023-04-05T19:36:15.750Z"
   },
   {
    "duration": 4,
    "start_time": "2023-04-05T19:36:15.793Z"
   },
   {
    "duration": 12,
    "start_time": "2023-04-05T19:36:15.799Z"
   },
   {
    "duration": 5,
    "start_time": "2023-04-05T19:36:15.812Z"
   }
  ],
  "kernelspec": {
   "display_name": "Python 3 (ipykernel)",
   "language": "python",
   "name": "python3"
  },
  "language_info": {
   "codemirror_mode": {
    "name": "ipython",
    "version": 3
   },
   "file_extension": ".py",
   "mimetype": "text/x-python",
   "name": "python",
   "nbconvert_exporter": "python",
   "pygments_lexer": "ipython3",
   "version": "3.10.9"
  },
  "toc": {
   "base_numbering": 1,
   "nav_menu": {},
   "number_sections": true,
   "sideBar": true,
   "skip_h1_title": true,
   "title_cell": "Table of Contents",
   "title_sidebar": "Contents",
   "toc_cell": false,
   "toc_position": {
    "height": "calc(100% - 180px)",
    "left": "10px",
    "top": "150px",
    "width": "366.391px"
   },
   "toc_section_display": true,
   "toc_window_display": true
  }
 },
 "nbformat": 4,
 "nbformat_minor": 2
}
